{
  "nbformat": 4,
  "nbformat_minor": 0,
  "metadata": {
    "colab": {
      "name": "DQD_MAIN.ipynb",
      "version": "0.3.2",
      "provenance": [],
      "collapsed_sections": [],
      "include_colab_link": true
    },
    "kernelspec": {
      "name": "python3",
      "display_name": "Python 3"
    },
    "accelerator": "GPU"
  },
  "cells": [
    {
      "cell_type": "markdown",
      "metadata": {
        "id": "view-in-github",
        "colab_type": "text"
      },
      "source": [
        "<a href=\"https://colab.research.google.com/github/MohitDhungana/duplicate_question_detection/blob/master/70percent.ipynb\" target=\"_parent\"><img src=\"https://colab.research.google.com/assets/colab-badge.svg\" alt=\"Open In Colab\"/></a>"
      ]
    },
    {
      "cell_type": "code",
      "metadata": {
        "id": "aZlxkvW__7mI",
        "colab_type": "code",
        "outputId": "6b14b711-947c-47d7-bbf3-76fa37116ae8",
        "colab": {
          "base_uri": "https://localhost:8080/",
          "height": 160
        }
      },
      "source": [
        "from time import time\n",
        "import pandas as pd\n",
        "import numpy as np\n",
        "from gensim.models import KeyedVectors\n",
        "import re\n",
        "import nltk\n",
        "from nltk.corpus import stopwords\n",
        "\n",
        "nltk.download('stopwords')\n",
        "\n",
        "import itertools\n",
        "import datetime\n",
        "\n",
        "\n",
        "from google.colab import drive\n",
        "drive.mount('/content/drive', force_remount=True)"
      ],
      "execution_count": 1,
      "outputs": [
        {
          "output_type": "stream",
          "text": [
            "[nltk_data] Downloading package stopwords to /root/nltk_data...\n",
            "[nltk_data]   Unzipping corpora/stopwords.zip.\n",
            "Go to this URL in a browser: https://accounts.google.com/o/oauth2/auth?client_id=947318989803-6bn6qk8qdgf4n4g3pfee6491hc0brc4i.apps.googleusercontent.com&redirect_uri=urn%3Aietf%3Awg%3Aoauth%3A2.0%3Aoob&scope=email%20https%3A%2F%2Fwww.googleapis.com%2Fauth%2Fdocs.test%20https%3A%2F%2Fwww.googleapis.com%2Fauth%2Fdrive%20https%3A%2F%2Fwww.googleapis.com%2Fauth%2Fdrive.photos.readonly%20https%3A%2F%2Fwww.googleapis.com%2Fauth%2Fpeopleapi.readonly&response_type=code\n",
            "\n",
            "Enter your authorization code:\n",
            "··········\n",
            "Mounted at /content/drive\n"
          ],
          "name": "stdout"
        }
      ]
    },
    {
      "cell_type": "code",
      "metadata": {
        "id": "6e7OQme1A308",
        "colab_type": "code",
        "outputId": "29a7c03d-7be2-425e-998a-1627a168b8b9",
        "colab": {
          "base_uri": "https://localhost:8080/",
          "height": 228
        }
      },
      "source": [
        "!ls '/content/drive/My Drive'\n"
      ],
      "execution_count": 2,
      "outputs": [
        {
          "output_type": "stream",
          "text": [
            "'Colab Notebooks'\n",
            " Compressed\n",
            " dogs-cats-images.zip\n",
            "'energy environment and society  assignment.pdf'\n",
            " GoogleNews-vectors-negative300.bin.gz\n",
            " image-93b016bfc7ea033589b8766d020d99cb0108180bdaa53d05dbdaf5883674852e-V.jpg\n",
            " Keygen.exe\n",
            " KIC072BCT039.jpg\n",
            "'New Doc 2019-03-03 12.05.252394441364277969478.pdf'\n",
            " Project\n",
            " the-new-encyclopedia-of-modern-bodybuilding-arnold.pdf\n",
            " train.csv\n"
          ],
          "name": "stdout"
        }
      ]
    },
    {
      "cell_type": "code",
      "metadata": {
        "id": "uVvNDvPLBLDX",
        "colab_type": "code",
        "colab": {}
      },
      "source": [
        "df = pd.read_csv('/content/drive/My Drive/train.csv')\n",
        "stops = set(stopwords.words('english'))\n",
        "\n",
        "def text_to_word_list(text):\n",
        "#   gets a whole question inside text variable on which  preprocessing is done and then the question is splitted into word indices and returned\n",
        "    text = str(text)\n",
        "    text = text.lower()\n",
        "\n",
        "    # Clean the text\n",
        "    text = re.sub(r\"[^A-Za-z0-9^,!.\\/'+-=]\", \" \", text)\n",
        "    text = re.sub(r\"what's\", \"what is \", text)\n",
        "    text = re.sub(r\"\\'s\", \" \", text)\n",
        "    text = re.sub(r\"\\'ve\", \" have \", text)\n",
        "    text = re.sub(r\"can't\", \"cannot \", text)\n",
        "    text = re.sub(r\"n't\", \" not \", text)\n",
        "    text = re.sub(r\"i'm\", \"i am \", text)\n",
        "    text = re.sub(r\"\\'re\", \" are \", text)\n",
        "    text = re.sub(r\"\\'d\", \" would \", text)\n",
        "    text = re.sub(r\"\\'ll\", \" will \", text)\n",
        "    text = re.sub(r\",\", \" \", text)\n",
        "    text = re.sub(r\"\\.\", \" \", text)\n",
        "    text = re.sub(r\"!\", \" ! \", text)\n",
        "    text = re.sub(r\"\\/\", \" \", text)\n",
        "    text = re.sub(r\"\\^\", \" ^ \", text)\n",
        "    text = re.sub(r\"\\+\", \" + \", text)\n",
        "    text = re.sub(r\"\\-\", \" - \", text)\n",
        "    text = re.sub(r\"\\=\", \" = \", text)\n",
        "    text = re.sub(r\"'\", \" \", text)\n",
        "    text = re.sub(r\"(\\d+)(k)\", r\"\\g<1>000\", text)\n",
        "    text = re.sub(r\":\", \" : \", text)\n",
        "    text = re.sub(r\" e g \", \" eg \", text)\n",
        "    text = re.sub(r\" b g \", \" bg \", text)\n",
        "    text = re.sub(r\" u s \", \" american \", text)\n",
        "    text = re.sub(r\"\\0s\", \"0\", text)\n",
        "    text = re.sub(r\" 9 11 \", \"911\", text)\n",
        "    text = re.sub(r\"e - mail\", \"email\", text)\n",
        "    text = re.sub(r\"j k\", \"jk\", text)\n",
        "    text = re.sub(r\"\\s{2,}\", \" \", text)\n",
        "\n",
        "    text = text.split()\n",
        "\n",
        "    return text\n"
      ],
      "execution_count": 0,
      "outputs": []
    },
    {
      "cell_type": "code",
      "metadata": {
        "id": "bfmvHK6CBb2v",
        "colab_type": "code",
        "outputId": "9121490c-39ab-439e-c4df-6e92e885d20e",
        "colab": {
          "base_uri": "https://localhost:8080/",
          "height": 90
        }
      },
      "source": [
        "# Prepare embedding\n",
        "\n",
        "vocabulary = dict() \n",
        "inverse_vocabulary = ['<unk>']  # '<unk>' will never be used, it is only a placeholder for the [0, 0, ....0] embedding\n",
        "word2vec = KeyedVectors.load_word2vec_format('/content/drive/My Drive/GoogleNews-vectors-negative300.bin.gz', binary=True)\n",
        "\n",
        "questions_cols = ['question1', 'question2']\n",
        "\n",
        "# Iterate over the questions(i.e. 'question 1', 'question2') of the training sets provided \n",
        "# get the data from dataset(df) in  variable dataset\n",
        "for dataset in [df]:\n",
        "#   now iterate through the rows of the dataset using  index as iterator (i.e. goes through the row having particular index at a time) \n",
        "    for index, row in dataset.iterrows():\n",
        "\n",
        "        # Iterate through the text of both questions within the current  row\n",
        "        for question in questions_cols:\n",
        "            que2no = []  # que2no ->  numbers representation of the cureently being processed question\n",
        "            \n",
        "            count_ = 0\n",
        "\n",
        "            for word in text_to_word_list(row[question]):\n",
        "\n",
        "                # Check for unwanted words i.e mainly stopwords\n",
        "                if word in stops and word not in word2vec.vocab:\n",
        "                    continue\n",
        "                    \n",
        "#                 limit the length to 50, this decreased the time to train an epoch from more than 1 hour to 20 minutes.\n",
        "                if count_ >= 50 :\n",
        "                  continue\n",
        "                count_ +=1\n",
        "                \n",
        "                \n",
        "                if word not in vocabulary:\n",
        "                    vocabulary[word] = len(inverse_vocabulary)\n",
        "                    que2no.append(len(inverse_vocabulary))\n",
        "                    inverse_vocabulary.append(word)\n",
        "                else:\n",
        "                    que2no.append(vocabulary[word])\n",
        "#                     que2no.append(float(vocabulary[word]))\n",
        "\n",
        "#                 que2no=list(map(int,que2no))\n",
        "\n",
        "            # Replace questions as word to question as number representation\n",
        "            dataset.set_value(index, question, que2no)"
      ],
      "execution_count": 4,
      "outputs": [
        {
          "output_type": "stream",
          "text": [
            "/usr/local/lib/python3.6/dist-packages/smart_open/smart_open_lib.py:398: UserWarning: This function is deprecated, use smart_open.open instead. See the migration notes for details: https://github.com/RaRe-Technologies/smart_open/blob/master/README.rst#migrating-to-the-new-open-function\n",
            "  'See the migration notes for details: %s' % _MIGRATION_NOTES_URL\n",
            "/usr/local/lib/python3.6/dist-packages/ipykernel_launcher.py:43: FutureWarning: set_value is deprecated and will be removed in a future release. Please use .at[] or .iat[] accessors instead\n"
          ],
          "name": "stderr"
        }
      ]
    },
    {
      "cell_type": "code",
      "metadata": {
        "id": "gPG__4vqCFNI",
        "colab_type": "code",
        "outputId": "99f12d88-6e49-4868-d580-15c8a077199d",
        "colab": {
          "base_uri": "https://localhost:8080/",
          "height": 254
        }
      },
      "source": [
        "# max_sequence_length=50\n",
        "max_seq_length = max(df.question1.map(lambda x: len(x)).max(),\n",
        "                     df.question2.map(lambda x: len(x)).max()\n",
        "                    )\n",
        "# max_seq_length\n",
        "df.tail()"
      ],
      "execution_count": 6,
      "outputs": [
        {
          "output_type": "execute_result",
          "data": {
            "text/html": [
              "<div>\n",
              "<style scoped>\n",
              "    .dataframe tbody tr th:only-of-type {\n",
              "        vertical-align: middle;\n",
              "    }\n",
              "\n",
              "    .dataframe tbody tr th {\n",
              "        vertical-align: top;\n",
              "    }\n",
              "\n",
              "    .dataframe thead th {\n",
              "        text-align: right;\n",
              "    }\n",
              "</style>\n",
              "<table border=\"1\" class=\"dataframe\">\n",
              "  <thead>\n",
              "    <tr style=\"text-align: right;\">\n",
              "      <th></th>\n",
              "      <th>id</th>\n",
              "      <th>qid1</th>\n",
              "      <th>qid2</th>\n",
              "      <th>question1</th>\n",
              "      <th>question2</th>\n",
              "      <th>is_duplicate</th>\n",
              "    </tr>\n",
              "  </thead>\n",
              "  <tbody>\n",
              "    <tr>\n",
              "      <th>404285</th>\n",
              "      <td>404285</td>\n",
              "      <td>433578</td>\n",
              "      <td>379845</td>\n",
              "      <td>[26, 184, 3632, 115, 307, 8, 3, 24585, 522, 52...</td>\n",
              "      <td>[26, 184, 3632, 115, 307, 8, 12032, 522, 523, ...</td>\n",
              "      <td>0</td>\n",
              "    </tr>\n",
              "    <tr>\n",
              "      <th>404286</th>\n",
              "      <td>404286</td>\n",
              "      <td>18840</td>\n",
              "      <td>155606</td>\n",
              "      <td>[97, 99, 2441, 307, 2, 598, 180, 1822]</td>\n",
              "      <td>[2, 47, 467, 77, 307, 2, 598, 180, 1822]</td>\n",
              "      <td>1</td>\n",
              "    </tr>\n",
              "    <tr>\n",
              "      <th>404287</th>\n",
              "      <td>404287</td>\n",
              "      <td>537928</td>\n",
              "      <td>537929</td>\n",
              "      <td>[1, 2, 57, 11012]</td>\n",
              "      <td>[1, 2, 83, 11012]</td>\n",
              "      <td>0</td>\n",
              "    </tr>\n",
              "    <tr>\n",
              "      <th>404288</th>\n",
              "      <td>404288</td>\n",
              "      <td>537930</td>\n",
              "      <td>537931</td>\n",
              "      <td>[1, 2, 3, 21205, 12587, 534, 2769, 33, 3114, 8...</td>\n",
              "      <td>[16, 42, 1086, 2877, 2854, 2622, 1220, 16, 173...</td>\n",
              "      <td>0</td>\n",
              "    </tr>\n",
              "    <tr>\n",
              "      <th>404289</th>\n",
              "      <td>404289</td>\n",
              "      <td>537932</td>\n",
              "      <td>537933</td>\n",
              "      <td>[1, 2, 139, 401, 2543, 175, 7227]</td>\n",
              "      <td>[1, 2, 47, 139, 401, 2543, 175, 135, 7227]</td>\n",
              "      <td>0</td>\n",
              "    </tr>\n",
              "  </tbody>\n",
              "</table>\n",
              "</div>"
            ],
            "text/plain": [
              "            id  ...  is_duplicate\n",
              "404285  404285  ...             0\n",
              "404286  404286  ...             1\n",
              "404287  404287  ...             0\n",
              "404288  404288  ...             0\n",
              "404289  404289  ...             0\n",
              "\n",
              "[5 rows x 6 columns]"
            ]
          },
          "metadata": {
            "tags": []
          },
          "execution_count": 6
        }
      ]
    },
    {
      "cell_type": "code",
      "metadata": {
        "id": "YS30hxt_OvzY",
        "colab_type": "code",
        "colab": {}
      },
      "source": [
        "embedding_dim = 300\n",
        "# creating an embedding matrix whose length is one more than vocabulary and dimension is 300\n",
        "embedding_matrix = 1 * np.random.randn(len(vocabulary) + 1, embedding_dim)  \n",
        "embedding_matrix[0] = 0  # So that the zeroth place remain empty \n",
        "\n",
        "# (Build the embedding matrix) Assigning the word2vec embedding for each words of our vocabulary  \n",
        "for word, index in vocabulary.items():\n",
        "    if word in word2vec.vocab:\n",
        "        embedding_matrix[index] = word2vec.word_vec(word)"
      ],
      "execution_count": 0,
      "outputs": []
    },
    {
      "cell_type": "code",
      "metadata": {
        "id": "zS7KaJt3O2R8",
        "colab_type": "code",
        "colab": {}
      },
      "source": [
        "del word2vec\n"
      ],
      "execution_count": 0,
      "outputs": []
    },
    {
      "cell_type": "code",
      "metadata": {
        "id": "iyQX5TXOPQYO",
        "colab_type": "code",
        "outputId": "63fa03c3-a364-4ffa-e29d-674637e623af",
        "colab": {
          "base_uri": "https://localhost:8080/",
          "height": 87
        }
      },
      "source": [
        "from sklearn.model_selection import train_test_split\n",
        "\n",
        "\n",
        "X=df[questions_cols]\n",
        "Y=df['is_duplicate']\n",
        "\n",
        "\n",
        "x_train,x_validate,y_train,y_validate = train_test_split(X, Y, test_size = 0.3) # dataset split to 70% for training and 30% for validation\n",
        "\n",
        "print(x_train.shape)\n",
        "print(x_validate.shape)\n",
        "print(y_train.shape)\n",
        "print(y_validate.shape)\n",
        "                 \n",
        "# Split to dicts\n",
        "x_train = {'left': x_train.question1, 'right': x_train.question2}\n",
        "x_validate = {'left': x_validate.question1, 'right': x_validate.question2}\n",
        "\n",
        "# Convert labels to their numpy representations\n",
        "y_train=y_train.values\n",
        "y_validate=y_validate.values\n",
        "\n"
      ],
      "execution_count": 9,
      "outputs": [
        {
          "output_type": "stream",
          "text": [
            "(283003, 2)\n",
            "(121287, 2)\n",
            "(283003,)\n",
            "(121287,)\n"
          ],
          "name": "stdout"
        }
      ]
    },
    {
      "cell_type": "code",
      "metadata": {
        "id": "jZc4-nnYP-dL",
        "colab_type": "code",
        "colab": {}
      },
      "source": [
        "from tensorflow.keras.preprocessing.sequence import pad_sequences\n",
        "\n",
        "# zero padding\n",
        "\n",
        "for dataset, side in itertools.product([x_train,x_validate],['left','right']):\n",
        "  dataset[side] = pad_sequences(dataset[side], maxlen = max_seq_length)"
      ],
      "execution_count": 0,
      "outputs": []
    },
    {
      "cell_type": "code",
      "metadata": {
        "id": "RgUMIIWPQ3zc",
        "colab_type": "code",
        "outputId": "860ee4ac-e355-4176-91df-ef4ae7cc705a",
        "colab": {
          "base_uri": "https://localhost:8080/",
          "height": 52
        }
      },
      "source": [
        "# print(df['question1'][0])\n",
        "\n",
        "# print(dataset)\n",
        "print(x_train['left'].shape)\n",
        "# print(x_train['left'])\n",
        "print(x_validate['left'].shape)"
      ],
      "execution_count": 11,
      "outputs": [
        {
          "output_type": "stream",
          "text": [
            "(283003, 50)\n",
            "(121287, 50)\n"
          ],
          "name": "stdout"
        }
      ]
    },
    {
      "cell_type": "code",
      "metadata": {
        "id": "OhNvzgKuQ_nY",
        "colab_type": "code",
        "colab": {}
      },
      "source": [
        "# check to see if shape of left and right input is same\n",
        "assert x_train['left'].shape == x_train['right'].shape\n",
        "\n",
        "# check to see if shape of input and output is same\n",
        "assert len(x_train['left']) == len(y_train)"
      ],
      "execution_count": 0,
      "outputs": []
    },
    {
      "cell_type": "code",
      "metadata": {
        "id": "x7ox-AVGRu60",
        "colab_type": "code",
        "outputId": "bc83d9b6-9318-4edb-e5a2-6ba10329ef99",
        "colab": {
          "base_uri": "https://localhost:8080/",
          "height": 34
        }
      },
      "source": [
        "# shape of question1 column (x,y)==(total rows, total words in each question)\n",
        "x_train['left'].shape"
      ],
      "execution_count": 13,
      "outputs": [
        {
          "output_type": "execute_result",
          "data": {
            "text/plain": [
              "(283003, 50)"
            ]
          },
          "metadata": {
            "tags": []
          },
          "execution_count": 13
        }
      ]
    },
    {
      "cell_type": "code",
      "metadata": {
        "id": "rz0P_YedR236",
        "colab_type": "code",
        "colab": {}
      },
      "source": [
        "# manhattan distance calculation function\n",
        "import tensorflow.keras.backend as K\n",
        "def manhattan_distance(left,right):\n",
        "  return K.exp(-K.sum(K.abs(left-right),axis=1, keepdims=True))"
      ],
      "execution_count": 0,
      "outputs": []
    },
    {
      "cell_type": "code",
      "metadata": {
        "id": "2vdeYPxYTicf",
        "colab_type": "code",
        "outputId": "0c8a6ea2-69ec-420d-fa72-1e6bac732beb",
        "colab": {
          "base_uri": "https://localhost:8080/",
          "height": 404
        }
      },
      "source": [
        "import tensorflow as tf\n",
        "from tensorflow.keras.layers import Input, Embedding, LSTM, Lambda, CuDNNLSTM\n",
        "\n",
        "n_hidden = 15\n",
        "n_epochs=60\n",
        "gradient_clipping_norm  = 1.25\n",
        "\n",
        "# input layer\n",
        "#recheck shape before training\n",
        "left_input = Input(shape = (max_seq_length,), dtype='int32',name = 'left_input')\n",
        "right_input = Input(shape = (max_seq_length,), dtype='int32', name = 'right_input')\n",
        "\n",
        "\n",
        "\n",
        "# embedding layer\n",
        "# recheck dims \n",
        "embedding_layer = Embedding(input_dim = len(embedding_matrix), output_dim = embedding_dim, input_length = max_seq_length, weights=[embedding_matrix], trainable=False, name = 'embedding_layer')\n",
        "\n",
        "encoded_left = embedding_layer(left_input)\n",
        "encoded_right = embedding_layer(right_input)\n",
        "\n",
        "\n",
        "\n",
        "#LSTM instantiation\n",
        "# check parameter for LSTM.\n",
        "shared_lstm = CuDNNLSTM(n_hidden, name = 'LSTM_layer')\n",
        "\n",
        "# shared LSTM\n",
        "left_output = shared_lstm(encoded_left)\n",
        "right_output = shared_lstm(encoded_right)\n",
        "\n",
        "\n",
        "\n",
        "\n",
        "# TODO: check output shape of the output lambda layer\n",
        "# output layer\n",
        "output_layer = Lambda(function = lambda x : manhattan_distance(x[0], x[1]),output_shape=lambda x: (x[0][0],1))([left_output, right_output])\n",
        "\n",
        "\n",
        "\n",
        "# define above model\n",
        "model = tf.keras.Model(inputs=[left_input, right_input], outputs=output_layer)\n",
        "\n",
        "# summary of model\n",
        "print(model.summary())"
      ],
      "execution_count": 17,
      "outputs": [
        {
          "output_type": "stream",
          "text": [
            "Model: \"model_1\"\n",
            "__________________________________________________________________________________________________\n",
            "Layer (type)                    Output Shape         Param #     Connected to                     \n",
            "==================================================================================================\n",
            "left_input (InputLayer)         [(None, 50)]         0                                            \n",
            "__________________________________________________________________________________________________\n",
            "right_input (InputLayer)        [(None, 50)]         0                                            \n",
            "__________________________________________________________________________________________________\n",
            "embedding_layer (Embedding)     (None, 50, 300)      25796400    left_input[0][0]                 \n",
            "                                                                 right_input[0][0]                \n",
            "__________________________________________________________________________________________________\n",
            "LSTM_layer (CuDNNLSTM)          (None, 15)           19020       embedding_layer[0][0]            \n",
            "                                                                 embedding_layer[1][0]            \n",
            "__________________________________________________________________________________________________\n",
            "lambda_1 (Lambda)               (None, 1)            0           LSTM_layer[0][0]                 \n",
            "                                                                 LSTM_layer[1][0]                 \n",
            "==================================================================================================\n",
            "Total params: 25,815,420\n",
            "Trainable params: 19,020\n",
            "Non-trainable params: 25,796,400\n",
            "__________________________________________________________________________________________________\n",
            "None\n"
          ],
          "name": "stdout"
        }
      ]
    },
    {
      "cell_type": "code",
      "metadata": {
        "id": "Nt8OV8UpU-Yg",
        "colab_type": "code",
        "outputId": "6db50333-a6f4-4814-ad6f-c553f282d6c8",
        "colab": {
          "base_uri": "https://localhost:8080/",
          "height": 2184
        }
      },
      "source": [
        "\n",
        "# compile the model\n",
        "from time import time\n",
        "from tensorflow.keras.optimizers import Adadelta\n",
        "from keras.callbacks import TensorBoard\n",
        "# LOG_DIR=\"/root/logs\"\n",
        "# tensorboard = TensorBoard(log_dir=LOG_DIR.format(time()))\n",
        "\n",
        "optimizer = Adadelta(lr=0.01, clipnorm = gradient_clipping_norm)\n",
        "model.compile(optimizer = optimizer, loss = 'mean_squared_error', metrics = ['accuracy'])\n",
        "\n",
        "\n",
        "# Start training\n",
        "training_start_time = time()\n",
        "\n",
        "\n",
        "\n",
        "# train (fit) the model\n",
        "hist = model.fit([x_train['left'], x_train['right']], y_train, \n",
        "                 batch_size=64,\n",
        "                 epochs=n_epochs, \n",
        "                 validation_data=([x_validate['left'], x_validate['right']], y_validate))\n",
        "print(hist.history)\n"
      ],
      "execution_count": 18,
      "outputs": [
        {
          "output_type": "stream",
          "text": [
            "Train on 283003 samples, validate on 121287 samples\n",
            "Epoch 1/60\n",
            "283003/283003 [==============================] - 45s 158us/sample - loss: 0.2049 - acc: 0.6936 - val_loss: 0.2018 - val_acc: 0.6957\n",
            "Epoch 2/60\n",
            "283003/283003 [==============================] - 44s 156us/sample - loss: 0.1991 - acc: 0.6978 - val_loss: 0.1979 - val_acc: 0.6979\n",
            "Epoch 3/60\n",
            "283003/283003 [==============================] - 44s 155us/sample - loss: 0.1955 - acc: 0.7016 - val_loss: 0.1948 - val_acc: 0.7014\n",
            "Epoch 4/60\n",
            "283003/283003 [==============================] - 43s 153us/sample - loss: 0.1926 - acc: 0.7055 - val_loss: 0.1920 - val_acc: 0.7046\n",
            "Epoch 5/60\n",
            "283003/283003 [==============================] - 43s 152us/sample - loss: 0.1899 - acc: 0.7093 - val_loss: 0.1896 - val_acc: 0.7082\n",
            "Epoch 6/60\n",
            "283003/283003 [==============================] - 43s 152us/sample - loss: 0.1877 - acc: 0.7129 - val_loss: 0.1877 - val_acc: 0.7116\n",
            "Epoch 7/60\n",
            "283003/283003 [==============================] - 43s 152us/sample - loss: 0.1859 - acc: 0.7160 - val_loss: 0.1861 - val_acc: 0.7141\n",
            "Epoch 8/60\n",
            "283003/283003 [==============================] - 43s 151us/sample - loss: 0.1844 - acc: 0.7189 - val_loss: 0.1846 - val_acc: 0.7176\n",
            "Epoch 9/60\n",
            "283003/283003 [==============================] - 42s 149us/sample - loss: 0.1830 - acc: 0.7217 - val_loss: 0.1834 - val_acc: 0.7206\n",
            "Epoch 10/60\n",
            "283003/283003 [==============================] - 42s 148us/sample - loss: 0.1817 - acc: 0.7245 - val_loss: 0.1822 - val_acc: 0.7227\n",
            "Epoch 11/60\n",
            "283003/283003 [==============================] - 42s 149us/sample - loss: 0.1806 - acc: 0.7271 - val_loss: 0.1812 - val_acc: 0.7243\n",
            "Epoch 12/60\n",
            "283003/283003 [==============================] - 42s 148us/sample - loss: 0.1795 - acc: 0.7293 - val_loss: 0.1803 - val_acc: 0.7263\n",
            "Epoch 13/60\n",
            "283003/283003 [==============================] - 42s 147us/sample - loss: 0.1786 - acc: 0.7314 - val_loss: 0.1794 - val_acc: 0.7287\n",
            "Epoch 14/60\n",
            "283003/283003 [==============================] - 42s 150us/sample - loss: 0.1777 - acc: 0.7330 - val_loss: 0.1785 - val_acc: 0.7308\n",
            "Epoch 15/60\n",
            "283003/283003 [==============================] - 42s 147us/sample - loss: 0.1768 - acc: 0.7353 - val_loss: 0.1777 - val_acc: 0.7330\n",
            "Epoch 16/60\n",
            "283003/283003 [==============================] - 42s 147us/sample - loss: 0.1760 - acc: 0.7371 - val_loss: 0.1770 - val_acc: 0.7347\n",
            "Epoch 17/60\n",
            "283003/283003 [==============================] - 41s 146us/sample - loss: 0.1752 - acc: 0.7389 - val_loss: 0.1763 - val_acc: 0.7357\n",
            "Epoch 18/60\n",
            "283003/283003 [==============================] - 42s 149us/sample - loss: 0.1745 - acc: 0.7408 - val_loss: 0.1756 - val_acc: 0.7372\n",
            "Epoch 19/60\n",
            "283003/283003 [==============================] - 41s 146us/sample - loss: 0.1738 - acc: 0.7422 - val_loss: 0.1750 - val_acc: 0.7392\n",
            "Epoch 20/60\n",
            "283003/283003 [==============================] - 41s 146us/sample - loss: 0.1731 - acc: 0.7437 - val_loss: 0.1744 - val_acc: 0.7405\n",
            "Epoch 21/60\n",
            "283003/283003 [==============================] - 41s 146us/sample - loss: 0.1725 - acc: 0.7450 - val_loss: 0.1738 - val_acc: 0.7412\n",
            "Epoch 22/60\n",
            "283003/283003 [==============================] - 42s 147us/sample - loss: 0.1719 - acc: 0.7461 - val_loss: 0.1733 - val_acc: 0.7423\n",
            "Epoch 23/60\n",
            "283003/283003 [==============================] - 41s 146us/sample - loss: 0.1713 - acc: 0.7474 - val_loss: 0.1727 - val_acc: 0.7442\n",
            "Epoch 24/60\n",
            "283003/283003 [==============================] - 41s 146us/sample - loss: 0.1707 - acc: 0.7484 - val_loss: 0.1722 - val_acc: 0.7452\n",
            "Epoch 25/60\n",
            "283003/283003 [==============================] - 42s 147us/sample - loss: 0.1702 - acc: 0.7496 - val_loss: 0.1717 - val_acc: 0.7463\n",
            "Epoch 26/60\n",
            "283003/283003 [==============================] - 42s 147us/sample - loss: 0.1697 - acc: 0.7507 - val_loss: 0.1713 - val_acc: 0.7465\n",
            "Epoch 27/60\n",
            "283003/283003 [==============================] - 41s 146us/sample - loss: 0.1692 - acc: 0.7518 - val_loss: 0.1709 - val_acc: 0.7477\n",
            "Epoch 28/60\n",
            "283003/283003 [==============================] - 41s 146us/sample - loss: 0.1687 - acc: 0.7527 - val_loss: 0.1704 - val_acc: 0.7483\n",
            "Epoch 29/60\n",
            "283003/283003 [==============================] - 42s 147us/sample - loss: 0.1683 - acc: 0.7534 - val_loss: 0.1700 - val_acc: 0.7488\n",
            "Epoch 30/60\n",
            "283003/283003 [==============================] - 41s 145us/sample - loss: 0.1678 - acc: 0.7545 - val_loss: 0.1696 - val_acc: 0.7501\n",
            "Epoch 31/60\n",
            "283003/283003 [==============================] - 41s 146us/sample - loss: 0.1674 - acc: 0.7553 - val_loss: 0.1693 - val_acc: 0.7506\n",
            "Epoch 32/60\n",
            "283003/283003 [==============================] - 42s 147us/sample - loss: 0.1670 - acc: 0.7563 - val_loss: 0.1689 - val_acc: 0.7505\n",
            "Epoch 33/60\n",
            "283003/283003 [==============================] - 42s 148us/sample - loss: 0.1666 - acc: 0.7574 - val_loss: 0.1686 - val_acc: 0.7529\n",
            "Epoch 34/60\n",
            "283003/283003 [==============================] - 41s 146us/sample - loss: 0.1662 - acc: 0.7581 - val_loss: 0.1682 - val_acc: 0.7532\n",
            "Epoch 35/60\n",
            "283003/283003 [==============================] - 41s 146us/sample - loss: 0.1658 - acc: 0.7589 - val_loss: 0.1679 - val_acc: 0.7525\n",
            "Epoch 36/60\n",
            "283003/283003 [==============================] - 41s 146us/sample - loss: 0.1654 - acc: 0.7596 - val_loss: 0.1676 - val_acc: 0.7532\n",
            "Epoch 37/60\n",
            "283003/283003 [==============================] - 41s 146us/sample - loss: 0.1651 - acc: 0.7604 - val_loss: 0.1672 - val_acc: 0.7553\n",
            "Epoch 38/60\n",
            "283003/283003 [==============================] - 41s 146us/sample - loss: 0.1647 - acc: 0.7611 - val_loss: 0.1669 - val_acc: 0.7552\n",
            "Epoch 39/60\n",
            "283003/283003 [==============================] - 41s 146us/sample - loss: 0.1644 - acc: 0.7617 - val_loss: 0.1666 - val_acc: 0.7548\n",
            "Epoch 40/60\n",
            "283003/283003 [==============================] - 41s 146us/sample - loss: 0.1641 - acc: 0.7622 - val_loss: 0.1663 - val_acc: 0.7564\n",
            "Epoch 41/60\n",
            "283003/283003 [==============================] - 42s 148us/sample - loss: 0.1637 - acc: 0.7631 - val_loss: 0.1661 - val_acc: 0.7581\n",
            "Epoch 42/60\n",
            "283003/283003 [==============================] - 41s 146us/sample - loss: 0.1634 - acc: 0.7639 - val_loss: 0.1658 - val_acc: 0.7564\n",
            "Epoch 43/60\n",
            "283003/283003 [==============================] - 41s 146us/sample - loss: 0.1631 - acc: 0.7644 - val_loss: 0.1655 - val_acc: 0.7579\n",
            "Epoch 44/60\n",
            "283003/283003 [==============================] - 41s 146us/sample - loss: 0.1628 - acc: 0.7652 - val_loss: 0.1653 - val_acc: 0.7590\n",
            "Epoch 45/60\n",
            "283003/283003 [==============================] - 41s 146us/sample - loss: 0.1626 - acc: 0.7653 - val_loss: 0.1650 - val_acc: 0.7592\n",
            "Epoch 46/60\n",
            "283003/283003 [==============================] - 41s 146us/sample - loss: 0.1623 - acc: 0.7660 - val_loss: 0.1648 - val_acc: 0.7585\n",
            "Epoch 47/60\n",
            "283003/283003 [==============================] - 41s 146us/sample - loss: 0.1620 - acc: 0.7668 - val_loss: 0.1647 - val_acc: 0.7589\n",
            "Epoch 48/60\n",
            "283003/283003 [==============================] - 42s 147us/sample - loss: 0.1617 - acc: 0.7672 - val_loss: 0.1645 - val_acc: 0.7586\n",
            "Epoch 49/60\n",
            "283003/283003 [==============================] - 41s 146us/sample - loss: 0.1615 - acc: 0.7677 - val_loss: 0.1641 - val_acc: 0.7604\n",
            "Epoch 50/60\n",
            "283003/283003 [==============================] - 41s 145us/sample - loss: 0.1612 - acc: 0.7682 - val_loss: 0.1639 - val_acc: 0.7617\n",
            "Epoch 51/60\n",
            "283003/283003 [==============================] - 41s 147us/sample - loss: 0.1610 - acc: 0.7686 - val_loss: 0.1637 - val_acc: 0.7613\n",
            "Epoch 52/60\n",
            "283003/283003 [==============================] - 41s 146us/sample - loss: 0.1607 - acc: 0.7692 - val_loss: 0.1635 - val_acc: 0.7624\n",
            "Epoch 53/60\n",
            "283003/283003 [==============================] - 41s 146us/sample - loss: 0.1605 - acc: 0.7697 - val_loss: 0.1633 - val_acc: 0.7622\n",
            "Epoch 54/60\n",
            "283003/283003 [==============================] - 42s 147us/sample - loss: 0.1602 - acc: 0.7701 - val_loss: 0.1631 - val_acc: 0.7627\n",
            "Epoch 55/60\n",
            "283003/283003 [==============================] - 42s 147us/sample - loss: 0.1600 - acc: 0.7706 - val_loss: 0.1628 - val_acc: 0.7627\n",
            "Epoch 56/60\n",
            "283003/283003 [==============================] - 42s 149us/sample - loss: 0.1598 - acc: 0.7708 - val_loss: 0.1627 - val_acc: 0.7627\n",
            "Epoch 57/60\n",
            "283003/283003 [==============================] - 42s 148us/sample - loss: 0.1595 - acc: 0.7714 - val_loss: 0.1625 - val_acc: 0.7628\n",
            "Epoch 58/60\n",
            "283003/283003 [==============================] - 42s 150us/sample - loss: 0.1593 - acc: 0.7718 - val_loss: 0.1623 - val_acc: 0.7645\n",
            "Epoch 59/60\n",
            "283003/283003 [==============================] - 42s 149us/sample - loss: 0.1591 - acc: 0.7721 - val_loss: 0.1622 - val_acc: 0.7637\n",
            "Epoch 60/60\n",
            "283003/283003 [==============================] - 42s 150us/sample - loss: 0.1589 - acc: 0.7723 - val_loss: 0.1620 - val_acc: 0.7647\n",
            "{'loss': [0.20493124382387867, 0.19907406765456354, 0.19554044956909736, 0.19255826016985267, 0.18994600412066995, 0.18774211293339035, 0.18591959352195528, 0.18436490280233478, 0.1829819493790152, 0.18173658540911355, 0.18059330528328513, 0.17954593181859896, 0.17858821795979293, 0.17767531743060463, 0.176814663363346, 0.17599545489056054, 0.17522650897535122, 0.17449016231989706, 0.17378463908586986, 0.17311443848202773, 0.1724849553405591, 0.17187326052327895, 0.171299286722631, 0.17073388014911609, 0.17020012814997793, 0.1696845490873501, 0.16918881635137242, 0.1687135171130234, 0.16826104273026807, 0.1678311671082362, 0.1673958461768938, 0.16698446497804226, 0.16658071151755183, 0.16618961387511555, 0.1658056938993485, 0.16543506182702844, 0.16507797727164772, 0.1647370711137937, 0.1643961380918003, 0.16406364499208798, 0.16374701311799425, 0.1634258562187594, 0.16312771347030242, 0.1628228926226301, 0.16255450334738647, 0.16227059220823767, 0.16198974513147585, 0.1617181354465694, 0.161457334710676, 0.16119103609494323, 0.1609503862851104, 0.16070388643039324, 0.1604571371132948, 0.16022364349989168, 0.1599982090433288, 0.1597732311645096, 0.15954910085965104, 0.1593415924672011, 0.1591319849209839, 0.1589197529274637], 'acc': [0.69355804, 0.69778764, 0.70163924, 0.70549077, 0.70925045, 0.7129076, 0.71599597, 0.7188864, 0.7216531, 0.7244905, 0.7270594, 0.72931737, 0.7313527, 0.73301697, 0.7353067, 0.7371194, 0.73885083, 0.74075186, 0.74221826, 0.74370587, 0.74497795, 0.7461122, 0.74740905, 0.74836665, 0.7495928, 0.7507376, 0.75178707, 0.7526846, 0.7533666, 0.75447255, 0.75527465, 0.7562641, 0.75735945, 0.7581227, 0.7589496, 0.7595538, 0.760416, 0.7611121, 0.7616527, 0.7622428, 0.7631262, 0.7639318, 0.76437354, 0.7652039, 0.7653417, 0.76599896, 0.76684344, 0.76721096, 0.7676597, 0.7681721, 0.7685784, 0.76916146, 0.7697268, 0.7701261, 0.77061725, 0.7707975, 0.77142644, 0.77183634, 0.772066, 0.7722886], 'val_loss': [0.20179270763092605, 0.1978643644897104, 0.19475579763854084, 0.19202051384199534, 0.1896239225645496, 0.18768216827850606, 0.18608523320377773, 0.18464103036517493, 0.18337519473959787, 0.18224683861162833, 0.18123870757353808, 0.1802944458185468, 0.17936863805309178, 0.1785288182376859, 0.17773929377223424, 0.17699667449783774, 0.17626854274764245, 0.17562319997286524, 0.17498375068560115, 0.17435388261161464, 0.17384265772716678, 0.17332458442736223, 0.17272146781741163, 0.17221637089873232, 0.17173790872324057, 0.17128154965249662, 0.1708604488930473, 0.17043986533468677, 0.17004031341814446, 0.16963813329512176, 0.16925612176701546, 0.1689121867648261, 0.16857724298649182, 0.16819801276874705, 0.16785787602591498, 0.16756999799779687, 0.16722020258241993, 0.16690574924480117, 0.16662394161824387, 0.16633028024585275, 0.16605379388708255, 0.1658378557041912, 0.16551217849822933, 0.16525083173821375, 0.16502412317853035, 0.16480359552313237, 0.16466877884922088, 0.1644881072202133, 0.1640791890189143, 0.16394064819633794, 0.16365448393137305, 0.16349875428128322, 0.1632502953871955, 0.16307214559460262, 0.16284419516373935, 0.16269022306111905, 0.16253903126439836, 0.16230913287371862, 0.16215505263948485, 0.16195519781816306], 'val_acc': [0.6956887, 0.69787365, 0.701386, 0.7045603, 0.70822924, 0.7116179, 0.7140996, 0.71764493, 0.7205884, 0.7226908, 0.7243233, 0.7263021, 0.7286931, 0.7307873, 0.7329557, 0.7347366, 0.7357342, 0.73718536, 0.73920536, 0.7405163, 0.74115115, 0.74234664, 0.74423474, 0.7452406, 0.74631244, 0.74646086, 0.7476976, 0.74829125, 0.74875295, 0.7500721, 0.75056684, 0.75050086, 0.7529001, 0.7532217, 0.75252086, 0.75318044, 0.7553159, 0.755184, 0.7547882, 0.75635475, 0.7581274, 0.756396, 0.7579048, 0.7590426, 0.7591663, 0.75852317, 0.75892717, 0.75858915, 0.76039475, 0.7616645, 0.76133466, 0.76242304, 0.76215917, 0.76268685, 0.7627116, 0.7627281, 0.76276106, 0.7644842, 0.7637422, 0.7646574]}\n"
          ],
          "name": "stdout"
        }
      ]
    },
    {
      "cell_type": "markdown",
      "metadata": {
        "id": "g7JW49TznBYo",
        "colab_type": "text"
      },
      "source": [
        ""
      ]
    },
    {
      "cell_type": "code",
      "metadata": {
        "id": "7lqahgzc2syH",
        "colab_type": "code",
        "outputId": "cf626aea-82a3-4d86-b85b-189ecb575829",
        "colab": {
          "base_uri": "https://localhost:8080/",
          "height": 608
        }
      },
      "source": [
        "print(\"Training time finished.\\n{} epochs in {}\".format(2, datetime.timedelta(seconds=time()-training_start_time)))\n",
        "\n",
        "import matplotlib.pyplot as plt\n",
        "\n",
        "# Plot training & validation accuracy values\n",
        "plt.plot(hist.history['acc'])\n",
        "plt.plot(hist.history['val_acc'])\n",
        "plt.title('Model accuracy')\n",
        "plt.ylabel('Accuracy')\n",
        "plt.xlabel('Epoch')\n",
        "plt.legend(['Train', 'Test'], loc='upper left')\n",
        "plt.savefig(\"abc76.png\")\n",
        "plt.show()\n",
        "\n",
        "# Plot training & validation loss values\n",
        "plt.plot(hist.history['loss'])\n",
        "plt.plot(hist.history['val_loss'])\n",
        "plt.title('Model loss')\n",
        "plt.ylabel('Loss')\n",
        "plt.xlabel('Epoch')\n",
        "plt.legend(['Train', 'Test'], loc='upper left')\n",
        "plt.savefig(\"bc76.png\")\n",
        "plt.show()"
      ],
      "execution_count": 21,
      "outputs": [
        {
          "output_type": "stream",
          "text": [
            "Training time finished.\n",
            "2 epochs in 0:51:08.981751\n"
          ],
          "name": "stdout"
        },
        {
          "output_type": "display_data",
          "data": {
            "image/png": "[encoded data removed]",
            "text/plain": [
              "<Figure size 432x288 with 1 Axes>"
            ]
          },
          "metadata": {
            "tags": []
          }
        },
        {
          "output_type": "display_data",
          "data": {
            "image/png": "[encoded data removed]",
            "text/plain": [
              "<Figure size 432x288 with 1 Axes>"
            ]
          },
          "metadata": {
            "tags": []
          }
        }
      ]
    },
    {
      "cell_type": "code",
      "metadata": {
        "id": "IiBJzpPvc9vT",
        "colab_type": "code",
        "outputId": "e6ca82e8-ebd3-4448-bfa1-0db1cf012c89",
        "colab": {
          "base_uri": "https://localhost:8080/",
          "height": 406
        }
      },
      "source": [
        "!pip install pydrive"
      ],
      "execution_count": 20,
      "outputs": [
        {
          "output_type": "stream",
          "text": [
            "Collecting pydrive\n",
            "\u001b[?25l  Downloading https://files.pythonhosted.org/packages/52/e0/0e64788e5dd58ce2d6934549676243dc69d982f198524be9b99e9c2a4fd5/PyDrive-1.3.1.tar.gz (987kB)\n",
            "\u001b[K     |████████████████████████████████| 993kB 34.5MB/s \n",
            "\u001b[?25hRequirement already satisfied: google-api-python-client>=1.2 in /usr/local/lib/python3.6/dist-packages (from pydrive) (1.7.9)\n",
            "Requirement already satisfied: oauth2client>=4.0.0 in /usr/local/lib/python3.6/dist-packages (from pydrive) (4.1.3)\n",
            "Requirement already satisfied: PyYAML>=3.0 in /usr/local/lib/python3.6/dist-packages (from pydrive) (3.13)\n",
            "Requirement already satisfied: uritemplate<4dev,>=3.0.0 in /usr/local/lib/python3.6/dist-packages (from google-api-python-client>=1.2->pydrive) (3.0.0)\n",
            "Requirement already satisfied: httplib2<1dev,>=0.9.2 in /usr/local/lib/python3.6/dist-packages (from google-api-python-client>=1.2->pydrive) (0.11.3)\n",
            "Requirement already satisfied: google-auth>=1.4.1 in /usr/local/lib/python3.6/dist-packages (from google-api-python-client>=1.2->pydrive) (1.4.2)\n",
            "Requirement already satisfied: six<2dev,>=1.6.1 in /usr/local/lib/python3.6/dist-packages (from google-api-python-client>=1.2->pydrive) (1.12.0)\n",
            "Requirement already satisfied: google-auth-httplib2>=0.0.3 in /usr/local/lib/python3.6/dist-packages (from google-api-python-client>=1.2->pydrive) (0.0.3)\n",
            "Requirement already satisfied: pyasn1-modules>=0.0.5 in /usr/local/lib/python3.6/dist-packages (from oauth2client>=4.0.0->pydrive) (0.2.5)\n",
            "Requirement already satisfied: rsa>=3.1.4 in /usr/local/lib/python3.6/dist-packages (from oauth2client>=4.0.0->pydrive) (4.0)\n",
            "Requirement already satisfied: pyasn1>=0.1.7 in /usr/local/lib/python3.6/dist-packages (from oauth2client>=4.0.0->pydrive) (0.4.5)\n",
            "Requirement already satisfied: cachetools>=2.0.0 in /usr/local/lib/python3.6/dist-packages (from google-auth>=1.4.1->google-api-python-client>=1.2->pydrive) (3.1.1)\n",
            "Building wheels for collected packages: pydrive\n",
            "  Building wheel for pydrive (setup.py) ... \u001b[?25l\u001b[?25hdone\n",
            "  Stored in directory: /root/.cache/pip/wheels/fa/d2/9a/d3b6b506c2da98289e5d417215ce34b696db856643bad779f4\n",
            "Successfully built pydrive\n",
            "Installing collected packages: pydrive\n",
            "Successfully installed pydrive-1.3.1\n"
          ],
          "name": "stdout"
        }
      ]
    },
    {
      "cell_type": "code",
      "metadata": {
        "id": "RZJLzbN2cZLU",
        "colab_type": "code",
        "outputId": "cfc4e551-49eb-44f1-80ec-cc5512e83160",
        "colab": {
          "base_uri": "https://localhost:8080/",
          "height": 530
        }
      },
      "source": [
        "#uploading to google drive\n",
        "from pydrive.auth import GoogleAuth\n",
        "from pydrive.drive import GoogleDrive\n",
        "from google.colab import auth\n",
        "from oauth2client.client import GoogleCredentials\n",
        "\n",
        "# 1. Authenticate and create the PyDrive client.\n",
        "auth.authenticate_user()\n",
        "gauth = GoogleAuth()\n",
        "gauth.credentials = GoogleCredentials.get_application_default()\n",
        "drive = GoogleDrive(gauth)  \n",
        "folder_id='1GxksIT3Fy-ix9rHRMcAUJqCQDckunOpu'\n",
        "# get the folder id where you want to save your file\n",
        "\n",
        "file = drive.CreateFile({'parents':[{u'id': folder_id}]})\n",
        "file.SetContentFile('abc76.png')\n",
        "file.Upload() \n"
      ],
      "execution_count": 22,
      "outputs": [
        {
          "output_type": "stream",
          "text": [
            "W0618 17:45:51.889326 139631881922432 __init__.py:44] file_cache is unavailable when using oauth2client >= 4.0.0 or google-auth\n",
            "Traceback (most recent call last):\n",
            "  File \"/usr/local/lib/python3.6/dist-packages/googleapiclient/discovery_cache/__init__.py\", line 36, in autodetect\n",
            "    from google.appengine.api import memcache\n",
            "ModuleNotFoundError: No module named 'google.appengine'\n",
            "\n",
            "During handling of the above exception, another exception occurred:\n",
            "\n",
            "Traceback (most recent call last):\n",
            "  File \"/usr/local/lib/python3.6/dist-packages/googleapiclient/discovery_cache/file_cache.py\", line 33, in <module>\n",
            "    from oauth2client.contrib.locked_file import LockedFile\n",
            "ModuleNotFoundError: No module named 'oauth2client.contrib.locked_file'\n",
            "\n",
            "During handling of the above exception, another exception occurred:\n",
            "\n",
            "Traceback (most recent call last):\n",
            "  File \"/usr/local/lib/python3.6/dist-packages/googleapiclient/discovery_cache/file_cache.py\", line 37, in <module>\n",
            "    from oauth2client.locked_file import LockedFile\n",
            "ModuleNotFoundError: No module named 'oauth2client.locked_file'\n",
            "\n",
            "During handling of the above exception, another exception occurred:\n",
            "\n",
            "Traceback (most recent call last):\n",
            "  File \"/usr/local/lib/python3.6/dist-packages/googleapiclient/discovery_cache/__init__.py\", line 41, in autodetect\n",
            "    from . import file_cache\n",
            "  File \"/usr/local/lib/python3.6/dist-packages/googleapiclient/discovery_cache/file_cache.py\", line 41, in <module>\n",
            "    'file_cache is unavailable when using oauth2client >= 4.0.0 or google-auth')\n",
            "ImportError: file_cache is unavailable when using oauth2client >= 4.0.0 or google-auth\n"
          ],
          "name": "stderr"
        }
      ]
    },
    {
      "cell_type": "code",
      "metadata": {
        "id": "qIEMR0HeddPk",
        "colab_type": "code",
        "colab": {}
      },
      "source": [
        "folder_id='1GxksIT3Fy-ix9rHRMcAUJqCQDckunOpu'\n",
        "# get the folder id where you want to save your file\n",
        "\n",
        "file = drive.CreateFile({'parents':[{u'id': folder_id}]})\n",
        "file.SetContentFile('bc76.png')\n",
        "file.Upload() "
      ],
      "execution_count": 0,
      "outputs": []
    },
    {
      "cell_type": "code",
      "metadata": {
        "id": "M_GQ1mRg20hM",
        "colab_type": "code",
        "outputId": "4a21c962-4ae0-4461-b147-549ea211e3cc",
        "colab": {
          "base_uri": "https://localhost:8080/",
          "height": 228
        }
      },
      "source": [
        "#saving the model\n",
        "model.save('/content/drive/My Drive/Project/DQD76.h5')\n",
        "!ls '/content/drive/My Drive'"
      ],
      "execution_count": 24,
      "outputs": [
        {
          "output_type": "stream",
          "text": [
            "'Colab Notebooks'\n",
            " Compressed\n",
            " dogs-cats-images.zip\n",
            "'energy environment and society  assignment.pdf'\n",
            " GoogleNews-vectors-negative300.bin.gz\n",
            " image-93b016bfc7ea033589b8766d020d99cb0108180bdaa53d05dbdaf5883674852e-V.jpg\n",
            " Keygen.exe\n",
            " KIC072BCT039.jpg\n",
            "'New Doc 2019-03-03 12.05.252394441364277969478.pdf'\n",
            " Project\n",
            " the-new-encyclopedia-of-modern-bodybuilding-arnold.pdf\n",
            " train.csv\n"
          ],
          "name": "stdout"
        }
      ]
    }
  ]
}
{
  "nbformat": 4,
  "nbformat_minor": 0,
  "metadata": {
    "colab": {
      "name": "DQD_MAIN.ipynb",
      "version": "0.3.2",
      "provenance": [],
      "collapsed_sections": [],
      "include_colab_link": true
    },
    "kernelspec": {
      "name": "python3",
      "display_name": "Python 3"
    },
    "accelerator": "GPU"
  },
  "cells": [
    {
      "cell_type": "markdown",
      "metadata": {
        "id": "view-in-github",
        "colab_type": "text"
      },
      "source": [
        "<a href=\"https://colab.research.google.com/github/MohitDhungana/duplicate_question_detection/blob/master/81percent.ipynb\" target=\"_parent\"><img src=\"https://colab.research.google.com/assets/colab-badge.svg\" alt=\"Open In Colab\"/></a>"
      ]
    },
    {
      "cell_type": "code",
      "metadata": {
        "id": "aZlxkvW__7mI",
        "colab_type": "code",
        "outputId": "16fb279f-4da9-460d-a46f-c6d10c8069c8",
        "colab": {
          "base_uri": "https://localhost:8080/",
          "height": 68
        }
      },
      "source": [
        "from time import time\n",
        "import pandas as pd\n",
        "import numpy as np\n",
        "from gensim.models import KeyedVectors\n",
        "import re\n",
        "import nltk\n",
        "from nltk.corpus import stopwords\n",
        "\n",
        "nltk.download('stopwords')\n",
        "\n",
        "import itertools\n",
        "import datetime\n",
        "\n",
        "\n",
        "from google.colab import drive\n",
        "drive.mount('/content/drive', force_remount=True)"
      ],
      "execution_count": 8,
      "outputs": [
        {
          "output_type": "stream",
          "text": [
            "[nltk_data] Downloading package stopwords to /root/nltk_data...\n",
            "[nltk_data]   Package stopwords is already up-to-date!\n",
            "Mounted at /content/drive\n"
          ],
          "name": "stdout"
        }
      ]
    },
    {
      "cell_type": "code",
      "metadata": {
        "id": "uVvNDvPLBLDX",
        "colab_type": "code",
        "colab": {}
      },
      "source": [
        "df = pd.read_csv('/content/drive/My Drive/Major/train.csv')\n",
        "stops = set(stopwords.words('english'))\n",
        "\n",
        "def text_to_word_list(text):\n",
        "#   gets a whole question inside text variable on which  preprocessing is done and then the question is splitted into word indices and returned\n",
        "    text = str(text)\n",
        "    text = text.lower()\n",
        "\n",
        "    # Clean the text\n",
        "    text = re.sub(r\"[^A-Za-z0-9^,!.\\/'+-=]\", \" \", text)\n",
        "    text = re.sub(r\"what's\", \"what is \", text)\n",
        "    text = re.sub(r\"\\'s\", \" \", text)\n",
        "    text = re.sub(r\"\\'ve\", \" have \", text)\n",
        "    text = re.sub(r\"can't\", \"cannot \", text)\n",
        "    text = re.sub(r\"n't\", \" not \", text)\n",
        "    text = re.sub(r\"i'm\", \"i am \", text)\n",
        "    text = re.sub(r\"\\'re\", \" are \", text)\n",
        "    text = re.sub(r\"\\'d\", \" would \", text)\n",
        "    text = re.sub(r\"\\'ll\", \" will \", text)\n",
        "    text = re.sub(r\",\", \" \", text)\n",
        "    text = re.sub(r\"\\.\", \" \", text)\n",
        "    text = re.sub(r\"!\", \" ! \", text)\n",
        "    text = re.sub(r\"\\/\", \" \", text)\n",
        "    text = re.sub(r\"\\^\", \" ^ \", text)\n",
        "    text = re.sub(r\"\\+\", \" + \", text)\n",
        "    text = re.sub(r\"\\-\", \" - \", text)\n",
        "    text = re.sub(r\"\\=\", \" = \", text)\n",
        "    text = re.sub(r\"'\", \" \", text)\n",
        "    text = re.sub(r\"(\\d+)(k)\", r\"\\g<1>000\", text)\n",
        "    text = re.sub(r\":\", \" : \", text)\n",
        "    text = re.sub(r\" e g \", \" eg \", text)\n",
        "    text = re.sub(r\" b g \", \" bg \", text)\n",
        "    text = re.sub(r\" u s \", \" american \", text)\n",
        "    text = re.sub(r\"\\0s\", \"0\", text)\n",
        "    text = re.sub(r\" 9 11 \", \"911\", text)\n",
        "    text = re.sub(r\"e - mail\", \"email\", text)\n",
        "    text = re.sub(r\"j k\", \"jk\", text)\n",
        "    text = re.sub(r\"\\s{2,}\", \" \", text)\n",
        "\n",
        "    text = text.split()\n",
        "\n",
        "    return text\n"
      ],
      "execution_count": 0,
      "outputs": []
    },
    {
      "cell_type": "code",
      "metadata": {
        "id": "v6YQyhoHwdAf",
        "colab_type": "code",
        "colab": {}
      },
      "source": [
        "vocabulary = dict() \n",
        "inverse_vocabulary = ['<unk>']"
      ],
      "execution_count": 0,
      "outputs": []
    },
    {
      "cell_type": "code",
      "metadata": {
        "id": "bfmvHK6CBb2v",
        "colab_type": "code",
        "outputId": "4ee58ece-787c-4869-a0fe-308fc1ca4f56",
        "colab": {
          "base_uri": "https://localhost:8080/",
          "height": 88
        }
      },
      "source": [
        "# Prepare embedding\n",
        "\n",
        "  # '<unk>' will never be used, it is only a placeholder for the [0, 0, ....0] embedding\n",
        "word2vec = KeyedVectors.load_word2vec_format('/content/drive/My Drive/Datasets/GoogleNews-vectors-negative300.bin.gz', binary=True)\n",
        "\n",
        "questions_cols = ['question1', 'question2']\n",
        "\n",
        "# Iterate over the questions(i.e. 'question 1', 'question2') of the training sets provided \n",
        "# get the data from dataset(df) in  variable dataset\n",
        "for dataset in [df]:\n",
        "#   now iterate through the rows of the dataset using  index as iterator (i.e. goes through the row having particular index at a time) \n",
        "    for index, row in dataset.iterrows():\n",
        "\n",
        "        # Iterate through the text of both questions within the current  row\n",
        "        for question in questions_cols:\n",
        "            que2no = []  # que2no ->  numbers representation of the cureently being processed question\n",
        "            \n",
        "            count_ = 0\n",
        "\n",
        "            for word in text_to_word_list(row[question]):\n",
        "\n",
        "                # Check for unwanted words i.e mainly stopwords\n",
        "                if word in stops and word not in word2vec.vocab:\n",
        "                    continue\n",
        "                    \n",
        "#                 limit the length to 50, this decreased the time to train an epoch from more than 1 hour to 20 minutes.\n",
        "                if count_ >= 50 :\n",
        "                  continue\n",
        "                count_ +=1\n",
        "                \n",
        "                \n",
        "                if word not in vocabulary:\n",
        "                    vocabulary[word] = len(inverse_vocabulary)\n",
        "                    que2no.append(len(inverse_vocabulary))\n",
        "                    inverse_vocabulary.append(word)\n",
        "                else:\n",
        "                    que2no.append(vocabulary[word])\n",
        "#                     que2no.append(float(vocabulary[word]))\n",
        "\n",
        "#                 que2no=list(map(int,que2no))\n",
        "\n",
        "            # Replace questions as word to question as number representation\n",
        "            dataset.set_value(index, question, que2no)"
      ],
      "execution_count": 11,
      "outputs": [
        {
          "output_type": "stream",
          "text": [
            "/usr/local/lib/python3.6/dist-packages/smart_open/smart_open_lib.py:398: UserWarning: This function is deprecated, use smart_open.open instead. See the migration notes for details: https://github.com/RaRe-Technologies/smart_open/blob/master/README.rst#migrating-to-the-new-open-function\n",
            "  'See the migration notes for details: %s' % _MIGRATION_NOTES_URL\n",
            "/usr/local/lib/python3.6/dist-packages/ipykernel_launcher.py:40: FutureWarning: set_value is deprecated and will be removed in a future release. Please use .at[] or .iat[] accessors instead\n"
          ],
          "name": "stderr"
        }
      ]
    },
    {
      "cell_type": "code",
      "metadata": {
        "id": "-UkN3xqU_YUb",
        "colab_type": "code",
        "colab": {}
      },
      "source": [
        ""
      ],
      "execution_count": 0,
      "outputs": []
    },
    {
      "cell_type": "code",
      "metadata": {
        "id": "gPG__4vqCFNI",
        "colab_type": "code",
        "outputId": "a50046fc-3a45-420a-a4bf-8035515b621b",
        "colab": {
          "base_uri": "https://localhost:8080/",
          "height": 204
        }
      },
      "source": [
        "# max_sequence_length=50\n",
        "max_seq_length = max(df.question1.map(lambda x: len(x)).max(),\n",
        "                     df.question2.map(lambda x: len(x)).max()\n",
        "                    )\n",
        "# max_seq_length\n",
        "df.tail()"
      ],
      "execution_count": 12,
      "outputs": [
        {
          "output_type": "execute_result",
          "data": {
            "text/html": [
              "<div>\n",
              "<style scoped>\n",
              "    .dataframe tbody tr th:only-of-type {\n",
              "        vertical-align: middle;\n",
              "    }\n",
              "\n",
              "    .dataframe tbody tr th {\n",
              "        vertical-align: top;\n",
              "    }\n",
              "\n",
              "    .dataframe thead th {\n",
              "        text-align: right;\n",
              "    }\n",
              "</style>\n",
              "<table border=\"1\" class=\"dataframe\">\n",
              "  <thead>\n",
              "    <tr style=\"text-align: right;\">\n",
              "      <th></th>\n",
              "      <th>id</th>\n",
              "      <th>qid1</th>\n",
              "      <th>qid2</th>\n",
              "      <th>question1</th>\n",
              "      <th>question2</th>\n",
              "      <th>is_duplicate</th>\n",
              "    </tr>\n",
              "  </thead>\n",
              "  <tbody>\n",
              "    <tr>\n",
              "      <th>404285</th>\n",
              "      <td>404285</td>\n",
              "      <td>433578</td>\n",
              "      <td>379845</td>\n",
              "      <td>[26, 184, 3632, 115, 307, 8, 3, 24585, 522, 52...</td>\n",
              "      <td>[26, 184, 3632, 115, 307, 8, 12032, 522, 523, ...</td>\n",
              "      <td>0</td>\n",
              "    </tr>\n",
              "    <tr>\n",
              "      <th>404286</th>\n",
              "      <td>404286</td>\n",
              "      <td>18840</td>\n",
              "      <td>155606</td>\n",
              "      <td>[97, 99, 2441, 307, 2, 598, 180, 1822]</td>\n",
              "      <td>[2, 47, 467, 77, 307, 2, 598, 180, 1822]</td>\n",
              "      <td>1</td>\n",
              "    </tr>\n",
              "    <tr>\n",
              "      <th>404287</th>\n",
              "      <td>404287</td>\n",
              "      <td>537928</td>\n",
              "      <td>537929</td>\n",
              "      <td>[1, 2, 57, 11012]</td>\n",
              "      <td>[1, 2, 83, 11012]</td>\n",
              "      <td>0</td>\n",
              "    </tr>\n",
              "    <tr>\n",
              "      <th>404288</th>\n",
              "      <td>404288</td>\n",
              "      <td>537930</td>\n",
              "      <td>537931</td>\n",
              "      <td>[1, 2, 3, 21205, 12587, 534, 2769, 33, 3114, 8...</td>\n",
              "      <td>[16, 42, 1086, 2877, 2854, 2622, 1220, 16, 173...</td>\n",
              "      <td>0</td>\n",
              "    </tr>\n",
              "    <tr>\n",
              "      <th>404289</th>\n",
              "      <td>404289</td>\n",
              "      <td>537932</td>\n",
              "      <td>537933</td>\n",
              "      <td>[1, 2, 139, 401, 2543, 175, 7227]</td>\n",
              "      <td>[1, 2, 47, 139, 401, 2543, 175, 135, 7227]</td>\n",
              "      <td>0</td>\n",
              "    </tr>\n",
              "  </tbody>\n",
              "</table>\n",
              "</div>"
            ],
            "text/plain": [
              "            id  ...  is_duplicate\n",
              "404285  404285  ...             0\n",
              "404286  404286  ...             1\n",
              "404287  404287  ...             0\n",
              "404288  404288  ...             0\n",
              "404289  404289  ...             0\n",
              "\n",
              "[5 rows x 6 columns]"
            ]
          },
          "metadata": {
            "tags": []
          },
          "execution_count": 12
        }
      ]
    },
    {
      "cell_type": "code",
      "metadata": {
        "id": "J0cRQv18CzzA",
        "colab_type": "code",
        "colab": {}
      },
      "source": [
        ""
      ],
      "execution_count": 0,
      "outputs": []
    },
    {
      "cell_type": "code",
      "metadata": {
        "id": "YS30hxt_OvzY",
        "colab_type": "code",
        "colab": {}
      },
      "source": [
        "embedding_dim = 300\n",
        "# creating an embedding matrix whose length is one more than vocabulary and dimension is 300\n",
        "embedding_matrix = 1 * np.random.randn(len(vocabulary) + 1, embedding_dim)  \n",
        "embedding_matrix[0] = 0  # So that the zeroth place remain empty \n",
        "\n",
        "# (Build the embedding matrix) Assigning the word2vec embedding for each words of our vocabulary  \n",
        "for word, index in vocabulary.items():\n",
        "    if word in word2vec.vocab:\n",
        "        embedding_matrix[index] = word2vec.word_vec(word)"
      ],
      "execution_count": 0,
      "outputs": []
    },
    {
      "cell_type": "code",
      "metadata": {
        "id": "tZzmU3hmC1ky",
        "colab_type": "code",
        "colab": {}
      },
      "source": [
        ""
      ],
      "execution_count": 0,
      "outputs": []
    },
    {
      "cell_type": "code",
      "metadata": {
        "id": "zS7KaJt3O2R8",
        "colab_type": "code",
        "colab": {}
      },
      "source": [
        "del word2vec\n"
      ],
      "execution_count": 0,
      "outputs": []
    },
    {
      "cell_type": "code",
      "metadata": {
        "id": "45RAsWjXC22L",
        "colab_type": "code",
        "colab": {}
      },
      "source": [
        ""
      ],
      "execution_count": 0,
      "outputs": []
    },
    {
      "cell_type": "code",
      "metadata": {
        "id": "iyQX5TXOPQYO",
        "colab_type": "code",
        "outputId": "18267692-1c96-4b5a-8d52-f1421cd30789",
        "colab": {
          "base_uri": "https://localhost:8080/",
          "height": 85
        }
      },
      "source": [
        "from sklearn.model_selection import train_test_split\n",
        "\n",
        "\n",
        "X=df[questions_cols]\n",
        "Y=df['is_duplicate']\n",
        "\n",
        "\n",
        "x_train,x_validate,y_train,y_validate = train_test_split(X, Y, test_size = 0.3) # dataset split to 70% for training and 30% for validation\n",
        "\n",
        "print(x_train.shape)\n",
        "print(x_validate.shape)\n",
        "print(y_train.shape)\n",
        "print(y_validate.shape)\n",
        "                 \n",
        "# Split to dicts\n",
        "x_train = {'left': x_train.question1, 'right': x_train.question2}\n",
        "x_validate = {'left': x_validate.question1, 'right': x_validate.question2}\n",
        "\n",
        "# Convert labels to their numpy representations\n",
        "y_train=y_train.values\n",
        "y_validate=y_validate.values\n",
        "\n"
      ],
      "execution_count": 15,
      "outputs": [
        {
          "output_type": "stream",
          "text": [
            "(283003, 2)\n",
            "(121287, 2)\n",
            "(283003,)\n",
            "(121287,)\n"
          ],
          "name": "stdout"
        }
      ]
    },
    {
      "cell_type": "code",
      "metadata": {
        "id": "U5tn7V2GC40y",
        "colab_type": "code",
        "colab": {}
      },
      "source": [
        ""
      ],
      "execution_count": 0,
      "outputs": []
    },
    {
      "cell_type": "code",
      "metadata": {
        "id": "jZc4-nnYP-dL",
        "colab_type": "code",
        "colab": {}
      },
      "source": [
        "from tensorflow.keras.preprocessing.sequence import pad_sequences\n",
        "\n",
        "# zero padding\n",
        "\n",
        "for dataset, side in itertools.product([x_train,x_validate],['left','right']):\n",
        "  dataset[side] = pad_sequences(dataset[side], maxlen = max_seq_length)"
      ],
      "execution_count": 0,
      "outputs": []
    },
    {
      "cell_type": "code",
      "metadata": {
        "id": "ciWr5ddmC6lG",
        "colab_type": "code",
        "colab": {}
      },
      "source": [
        ""
      ],
      "execution_count": 0,
      "outputs": []
    },
    {
      "cell_type": "code",
      "metadata": {
        "id": "RgUMIIWPQ3zc",
        "colab_type": "code",
        "outputId": "c9aa466b-41ca-494a-bb26-f0360bc427ce",
        "colab": {
          "base_uri": "https://localhost:8080/",
          "height": 51
        }
      },
      "source": [
        "# print(df['question1'][0])\n",
        "\n",
        "# print(dataset)\n",
        "print(x_train['left'].shape)\n",
        "# print(x_train['left'])\n",
        "print(x_validate['left'].shape)"
      ],
      "execution_count": 17,
      "outputs": [
        {
          "output_type": "stream",
          "text": [
            "(283003, 50)\n",
            "(121287, 50)\n"
          ],
          "name": "stdout"
        }
      ]
    },
    {
      "cell_type": "code",
      "metadata": {
        "id": "P1EZT932C9EJ",
        "colab_type": "code",
        "colab": {}
      },
      "source": [
        ""
      ],
      "execution_count": 0,
      "outputs": []
    },
    {
      "cell_type": "code",
      "metadata": {
        "id": "OhNvzgKuQ_nY",
        "colab_type": "code",
        "colab": {}
      },
      "source": [
        "# check to see if shape of left and right input is same\n",
        "assert x_train['left'].shape == x_train['right'].shape\n",
        "\n",
        "# check to see if shape of input and output is same\n",
        "assert len(x_train['left']) == len(y_train)"
      ],
      "execution_count": 0,
      "outputs": []
    },
    {
      "cell_type": "code",
      "metadata": {
        "id": "JzXOD0vWC-jH",
        "colab_type": "code",
        "colab": {}
      },
      "source": [
        ""
      ],
      "execution_count": 0,
      "outputs": []
    },
    {
      "cell_type": "code",
      "metadata": {
        "id": "x7ox-AVGRu60",
        "colab_type": "code",
        "outputId": "dd694ab6-0d62-4932-e7e9-b49fc08c0fcb",
        "colab": {
          "base_uri": "https://localhost:8080/",
          "height": 34
        }
      },
      "source": [
        "# shape of question1 column (x,y)==(total rows, total words in each question)\n",
        "x_train['left'].shape"
      ],
      "execution_count": 19,
      "outputs": [
        {
          "output_type": "execute_result",
          "data": {
            "text/plain": [
              "(283003, 50)"
            ]
          },
          "metadata": {
            "tags": []
          },
          "execution_count": 19
        }
      ]
    },
    {
      "cell_type": "code",
      "metadata": {
        "id": "-F3vUppBDAUn",
        "colab_type": "code",
        "colab": {}
      },
      "source": [
        ""
      ],
      "execution_count": 0,
      "outputs": []
    },
    {
      "cell_type": "code",
      "metadata": {
        "id": "rz0P_YedR236",
        "colab_type": "code",
        "colab": {}
      },
      "source": [
        "# manhattan distance calculation function\n",
        "import tensorflow.keras.backend as K\n",
        "def manhattan_distance(left,right):\n",
        "  return K.exp(-K.sum(K.abs(left-right),axis=1, keepdims=True))"
      ],
      "execution_count": 0,
      "outputs": []
    },
    {
      "cell_type": "code",
      "metadata": {
        "id": "nY46LHn0DBOI",
        "colab_type": "code",
        "colab": {}
      },
      "source": [
        ""
      ],
      "execution_count": 0,
      "outputs": []
    },
    {
      "cell_type": "code",
      "metadata": {
        "id": "2vdeYPxYTicf",
        "colab_type": "code",
        "outputId": "6e6579ba-c7e6-450a-f945-1101a2f02f8e",
        "colab": {
          "base_uri": "https://localhost:8080/",
          "height": 530
        }
      },
      "source": [
        "import tensorflow as tf\n",
        "from tensorflow.keras.layers import Input, Embedding, LSTM, Lambda, CuDNNLSTM\n",
        "\n",
        "n_hidden = 15\n",
        "n_epochs=60\n",
        "gradient_clipping_norm  = 1.25\n",
        "\n",
        "# input layer\n",
        "#recheck shape before training\n",
        "left_input = Input(shape = (max_seq_length,), dtype='int32',name = 'left_input')\n",
        "right_input = Input(shape = (max_seq_length,), dtype='int32', name = 'right_input')\n",
        "\n",
        "\n",
        "\n",
        "# embedding layer\n",
        "# recheck dims \n",
        "embedding_layer = Embedding(input_dim = len(embedding_matrix), output_dim = embedding_dim, input_length = max_seq_length, weights=[embedding_matrix], trainable=False, name = 'embedding_layer')\n",
        "\n",
        "encoded_left = embedding_layer(left_input)\n",
        "encoded_right = embedding_layer(right_input)\n",
        "\n",
        "\n",
        "\n",
        "#LSTM instantiation\n",
        "# check parameter for LSTM.\n",
        "shared_lstm = CuDNNLSTM(n_hidden, name = 'LSTM_layer')\n",
        "\n",
        "# shared LSTM\n",
        "left_output = shared_lstm(encoded_left)\n",
        "right_output = shared_lstm(encoded_right)\n",
        "\n",
        "\n",
        "\n",
        "\n",
        "# TODO: check output shape of the output lambda layer\n",
        "# output layer\n",
        "output_layer = Lambda(function = lambda x : manhattan_distance(x[0], x[1]),output_shape=lambda x: (x[0][0],1))([left_output, right_output])\n",
        "\n",
        "\n",
        "\n",
        "# define above model\n",
        "model = tf.keras.Model(inputs=[left_input, right_input], outputs=output_layer)\n",
        "\n",
        "# summary of model\n",
        "print(model.summary())"
      ],
      "execution_count": 21,
      "outputs": [
        {
          "output_type": "stream",
          "text": [
            "WARNING: Logging before flag parsing goes to stderr.\n",
            "W0628 17:05:08.091613 139644065339264 deprecation.py:506] From /usr/local/lib/python3.6/dist-packages/tensorflow/python/keras/initializers.py:119: calling RandomUniform.__init__ (from tensorflow.python.ops.init_ops) with dtype is deprecated and will be removed in a future version.\n",
            "Instructions for updating:\n",
            "Call initializer instance with the dtype argument instead of passing it to the constructor\n",
            "W0628 17:05:10.961946 139644065339264 deprecation.py:506] From /usr/local/lib/python3.6/dist-packages/tensorflow/python/ops/init_ops.py:1251: calling VarianceScaling.__init__ (from tensorflow.python.ops.init_ops) with dtype is deprecated and will be removed in a future version.\n",
            "Instructions for updating:\n",
            "Call initializer instance with the dtype argument instead of passing it to the constructor\n"
          ],
          "name": "stderr"
        },
        {
          "output_type": "stream",
          "text": [
            "Model: \"model\"\n",
            "__________________________________________________________________________________________________\n",
            "Layer (type)                    Output Shape         Param #     Connected to                     \n",
            "==================================================================================================\n",
            "left_input (InputLayer)         [(None, 50)]         0                                            \n",
            "__________________________________________________________________________________________________\n",
            "right_input (InputLayer)        [(None, 50)]         0                                            \n",
            "__________________________________________________________________________________________________\n",
            "embedding_layer (Embedding)     (None, 50, 300)      25796400    left_input[0][0]                 \n",
            "                                                                 right_input[0][0]                \n",
            "__________________________________________________________________________________________________\n",
            "LSTM_layer (CuDNNLSTM)          (None, 15)           19020       embedding_layer[0][0]            \n",
            "                                                                 embedding_layer[1][0]            \n",
            "__________________________________________________________________________________________________\n",
            "lambda (Lambda)                 (None, 1)            0           LSTM_layer[0][0]                 \n",
            "                                                                 LSTM_layer[1][0]                 \n",
            "==================================================================================================\n",
            "Total params: 25,815,420\n",
            "Trainable params: 19,020\n",
            "Non-trainable params: 25,796,400\n",
            "__________________________________________________________________________________________________\n",
            "None\n"
          ],
          "name": "stdout"
        }
      ]
    },
    {
      "cell_type": "code",
      "metadata": {
        "id": "pgpCWvSMDDKA",
        "colab_type": "code",
        "colab": {}
      },
      "source": [
        ""
      ],
      "execution_count": 0,
      "outputs": []
    },
    {
      "cell_type": "code",
      "metadata": {
        "id": "Nt8OV8UpU-Yg",
        "colab_type": "code",
        "outputId": "983e78fc-a340-41d9-82f3-a0395e5243f4",
        "colab": {
          "base_uri": "https://localhost:8080/",
          "height": 1000
        }
      },
      "source": [
        "\n",
        "# compile the model\n",
        "from time import time\n",
        "from tensorflow.keras.optimizers import Adadelta\n",
        "from keras.callbacks import TensorBoard\n",
        "# LOG_DIR=\"/root/logs\"\n",
        "# tensorboard = TensorBoard(log_dir=LOG_DIR.format(time()))\n",
        "\n",
        "optimizer = Adadelta(lr=1, clipnorm = gradient_clipping_norm)\n",
        "model.compile(optimizer = optimizer, loss = 'mean_squared_error', metrics = ['accuracy'])\n",
        "\n",
        "\n",
        "# Start training\n",
        "training_start_time = time()\n",
        "\n",
        "\n",
        "\n",
        "# train (fit) the model\n",
        "hist = model.fit([x_train['left'], x_train['right']], y_train, \n",
        "                 batch_size=64,\n",
        "                 epochs=n_epochs, \n",
        "                 validation_data=([x_validate['left'], x_validate['right']], y_validate))\n",
        "print(hist.history)\n"
      ],
      "execution_count": 22,
      "outputs": [
        {
          "output_type": "stream",
          "text": [
            "Using TensorFlow backend.\n"
          ],
          "name": "stderr"
        },
        {
          "output_type": "stream",
          "text": [
            "Train on 283003 samples, validate on 121287 samples\n"
          ],
          "name": "stdout"
        },
        {
          "output_type": "stream",
          "text": [
            "W0628 17:05:37.536656 139644065339264 deprecation.py:323] From /usr/local/lib/python3.6/dist-packages/tensorflow/python/ops/clip_ops.py:157: add_dispatch_support.<locals>.wrapper (from tensorflow.python.ops.array_ops) is deprecated and will be removed in a future version.\n",
            "Instructions for updating:\n",
            "Use tf.where in 2.0, which has the same broadcast rule as np.where\n"
          ],
          "name": "stderr"
        },
        {
          "output_type": "stream",
          "text": [
            "Epoch 1/60\n",
            "283003/283003 [==============================] - 46s 163us/sample - loss: 0.1720 - acc: 0.7459 - val_loss: 0.1608 - val_acc: 0.7685\n",
            "Epoch 2/60\n",
            "283003/283003 [==============================] - 45s 157us/sample - loss: 0.1543 - acc: 0.7792 - val_loss: 0.1534 - val_acc: 0.7800\n",
            "Epoch 3/60\n",
            "283003/283003 [==============================] - 45s 159us/sample - loss: 0.1476 - acc: 0.7908 - val_loss: 0.1489 - val_acc: 0.7887\n",
            "Epoch 4/60\n",
            "283003/283003 [==============================] - 44s 157us/sample - loss: 0.1436 - acc: 0.7975 - val_loss: 0.1464 - val_acc: 0.7934\n",
            "Epoch 5/60\n",
            "283003/283003 [==============================] - 44s 156us/sample - loss: 0.1407 - acc: 0.8025 - val_loss: 0.1443 - val_acc: 0.7963\n",
            "Epoch 6/60\n",
            "283003/283003 [==============================] - 44s 157us/sample - loss: 0.1384 - acc: 0.8073 - val_loss: 0.1430 - val_acc: 0.7983\n",
            "Epoch 7/60\n",
            "283003/283003 [==============================] - 43s 153us/sample - loss: 0.1367 - acc: 0.8102 - val_loss: 0.1416 - val_acc: 0.8014\n",
            "Epoch 8/60\n",
            "283003/283003 [==============================] - 43s 153us/sample - loss: 0.1351 - acc: 0.8122 - val_loss: 0.1404 - val_acc: 0.8030\n",
            "Epoch 9/60\n",
            "283003/283003 [==============================] - 43s 153us/sample - loss: 0.1338 - acc: 0.8149 - val_loss: 0.1402 - val_acc: 0.8042\n",
            "Epoch 10/60\n",
            "283003/283003 [==============================] - 44s 155us/sample - loss: 0.1327 - acc: 0.8170 - val_loss: 0.1394 - val_acc: 0.8040\n",
            "Epoch 11/60\n",
            "283003/283003 [==============================] - 43s 153us/sample - loss: 0.1316 - acc: 0.8190 - val_loss: 0.1392 - val_acc: 0.8050\n",
            "Epoch 12/60\n",
            "283003/283003 [==============================] - 43s 152us/sample - loss: 0.1308 - acc: 0.8202 - val_loss: 0.1381 - val_acc: 0.8059\n",
            "Epoch 13/60\n",
            "283003/283003 [==============================] - 43s 152us/sample - loss: 0.1299 - acc: 0.8218 - val_loss: 0.1377 - val_acc: 0.8068\n",
            "Epoch 14/60\n",
            "283003/283003 [==============================] - 44s 154us/sample - loss: 0.1291 - acc: 0.8231 - val_loss: 0.1375 - val_acc: 0.8090\n",
            "Epoch 15/60\n",
            "283003/283003 [==============================] - 43s 154us/sample - loss: 0.1284 - acc: 0.8243 - val_loss: 0.1369 - val_acc: 0.8078\n",
            "Epoch 16/60\n",
            "283003/283003 [==============================] - 43s 153us/sample - loss: 0.1277 - acc: 0.8253 - val_loss: 0.1367 - val_acc: 0.8098\n",
            "Epoch 17/60\n",
            "283003/283003 [==============================] - 44s 154us/sample - loss: 0.1272 - acc: 0.8267 - val_loss: 0.1360 - val_acc: 0.8104\n",
            "Epoch 18/60\n",
            "283003/283003 [==============================] - 44s 154us/sample - loss: 0.1267 - acc: 0.8272 - val_loss: 0.1356 - val_acc: 0.8115\n",
            "Epoch 19/60\n",
            "283003/283003 [==============================] - 43s 152us/sample - loss: 0.1261 - acc: 0.8278 - val_loss: 0.1353 - val_acc: 0.8113\n",
            "Epoch 20/60\n",
            "283003/283003 [==============================] - 43s 151us/sample - loss: 0.1256 - acc: 0.8291 - val_loss: 0.1353 - val_acc: 0.8121\n",
            "Epoch 21/60\n",
            "283003/283003 [==============================] - 43s 153us/sample - loss: 0.1252 - acc: 0.8300 - val_loss: 0.1351 - val_acc: 0.8111\n",
            "Epoch 22/60\n",
            "283003/283003 [==============================] - 43s 153us/sample - loss: 0.1247 - acc: 0.8304 - val_loss: 0.1351 - val_acc: 0.8127\n",
            "Epoch 23/60\n",
            "283003/283003 [==============================] - 43s 153us/sample - loss: 0.1243 - acc: 0.8312 - val_loss: 0.1347 - val_acc: 0.8124\n",
            "Epoch 24/60\n",
            "283003/283003 [==============================] - 43s 153us/sample - loss: 0.1240 - acc: 0.8316 - val_loss: 0.1348 - val_acc: 0.8124\n",
            "Epoch 25/60\n",
            "283003/283003 [==============================] - 43s 152us/sample - loss: 0.1236 - acc: 0.8325 - val_loss: 0.1343 - val_acc: 0.8144\n",
            "Epoch 26/60\n",
            "283003/283003 [==============================] - 43s 153us/sample - loss: 0.1232 - acc: 0.8330 - val_loss: 0.1342 - val_acc: 0.8129\n",
            "Epoch 27/60\n",
            "283003/283003 [==============================] - 43s 154us/sample - loss: 0.1229 - acc: 0.8342 - val_loss: 0.1340 - val_acc: 0.8145\n",
            "Epoch 28/60\n",
            "283003/283003 [==============================] - 43s 154us/sample - loss: 0.1226 - acc: 0.8346 - val_loss: 0.1338 - val_acc: 0.8146\n",
            "Epoch 29/60\n",
            "283003/283003 [==============================] - 43s 153us/sample - loss: 0.1223 - acc: 0.8347 - val_loss: 0.1340 - val_acc: 0.8128\n",
            "Epoch 30/60\n",
            "283003/283003 [==============================] - 43s 152us/sample - loss: 0.1220 - acc: 0.8352 - val_loss: 0.1336 - val_acc: 0.8154\n",
            "Epoch 31/60\n",
            "283003/283003 [==============================] - 43s 154us/sample - loss: 0.1217 - acc: 0.8358 - val_loss: 0.1335 - val_acc: 0.8157\n",
            "Epoch 32/60\n",
            "283003/283003 [==============================] - 43s 154us/sample - loss: 0.1215 - acc: 0.8361 - val_loss: 0.1332 - val_acc: 0.8146\n",
            "Epoch 33/60\n",
            "283003/283003 [==============================] - 43s 153us/sample - loss: 0.1211 - acc: 0.8365 - val_loss: 0.1329 - val_acc: 0.8158\n",
            "Epoch 34/60\n",
            "283003/283003 [==============================] - 43s 154us/sample - loss: 0.1209 - acc: 0.8372 - val_loss: 0.1330 - val_acc: 0.8157\n",
            "Epoch 35/60\n",
            "283003/283003 [==============================] - 43s 153us/sample - loss: 0.1206 - acc: 0.8374 - val_loss: 0.1331 - val_acc: 0.8159\n",
            "Epoch 36/60\n",
            "283003/283003 [==============================] - 44s 154us/sample - loss: 0.1204 - acc: 0.8379 - val_loss: 0.1327 - val_acc: 0.8163\n",
            "Epoch 37/60\n",
            "283003/283003 [==============================] - 43s 153us/sample - loss: 0.1202 - acc: 0.8384 - val_loss: 0.1330 - val_acc: 0.8144\n",
            "Epoch 38/60\n",
            "283003/283003 [==============================] - 44s 156us/sample - loss: 0.1199 - acc: 0.8390 - val_loss: 0.1326 - val_acc: 0.8160\n",
            "Epoch 39/60\n",
            "283003/283003 [==============================] - 44s 154us/sample - loss: 0.1197 - acc: 0.8390 - val_loss: 0.1328 - val_acc: 0.8156\n",
            "Epoch 40/60\n",
            "283003/283003 [==============================] - 43s 153us/sample - loss: 0.1195 - acc: 0.8393 - val_loss: 0.1325 - val_acc: 0.8160\n",
            "Epoch 41/60\n",
            "283003/283003 [==============================] - 44s 154us/sample - loss: 0.1192 - acc: 0.8396 - val_loss: 0.1327 - val_acc: 0.8163\n",
            "Epoch 42/60\n",
            "283003/283003 [==============================] - 43s 153us/sample - loss: 0.1191 - acc: 0.8402 - val_loss: 0.1330 - val_acc: 0.8141\n",
            "Epoch 43/60\n",
            "283003/283003 [==============================] - 44s 156us/sample - loss: 0.1189 - acc: 0.8403 - val_loss: 0.1328 - val_acc: 0.8160\n",
            "Epoch 44/60\n",
            "283003/283003 [==============================] - 44s 155us/sample - loss: 0.1187 - acc: 0.8402 - val_loss: 0.1322 - val_acc: 0.8164\n",
            "Epoch 45/60\n",
            "283003/283003 [==============================] - 46s 161us/sample - loss: 0.1185 - acc: 0.8410 - val_loss: 0.1328 - val_acc: 0.8142\n",
            "Epoch 46/60\n",
            "283003/283003 [==============================] - 46s 162us/sample - loss: 0.1183 - acc: 0.8413 - val_loss: 0.1322 - val_acc: 0.8179\n",
            "Epoch 47/60\n",
            "283003/283003 [==============================] - 46s 161us/sample - loss: 0.1181 - acc: 0.8419 - val_loss: 0.1321 - val_acc: 0.8169\n",
            "Epoch 48/60\n",
            "283003/283003 [==============================] - 45s 158us/sample - loss: 0.1180 - acc: 0.8419 - val_loss: 0.1320 - val_acc: 0.8178\n",
            "Epoch 49/60\n",
            "283003/283003 [==============================] - 44s 157us/sample - loss: 0.1178 - acc: 0.8422 - val_loss: 0.1329 - val_acc: 0.8148\n",
            "Epoch 50/60\n",
            "283003/283003 [==============================] - 45s 158us/sample - loss: 0.1176 - acc: 0.8428 - val_loss: 0.1318 - val_acc: 0.8166\n",
            "Epoch 51/60\n",
            "283003/283003 [==============================] - 45s 160us/sample - loss: 0.1175 - acc: 0.8425 - val_loss: 0.1318 - val_acc: 0.8171\n",
            "Epoch 52/60\n",
            "283003/283003 [==============================] - 45s 160us/sample - loss: 0.1174 - acc: 0.8431 - val_loss: 0.1320 - val_acc: 0.8178\n",
            "Epoch 53/60\n",
            "283003/283003 [==============================] - 45s 158us/sample - loss: 0.1171 - acc: 0.8434 - val_loss: 0.1318 - val_acc: 0.8170\n",
            "Epoch 54/60\n",
            "283003/283003 [==============================] - 46s 163us/sample - loss: 0.1170 - acc: 0.8434 - val_loss: 0.1315 - val_acc: 0.8174\n",
            "Epoch 55/60\n",
            "283003/283003 [==============================] - 46s 162us/sample - loss: 0.1169 - acc: 0.8443 - val_loss: 0.1316 - val_acc: 0.8172\n",
            "Epoch 56/60\n",
            "283003/283003 [==============================] - 45s 158us/sample - loss: 0.1167 - acc: 0.8441 - val_loss: 0.1315 - val_acc: 0.8171\n",
            "Epoch 57/60\n",
            "283003/283003 [==============================] - 44s 157us/sample - loss: 0.1166 - acc: 0.8440 - val_loss: 0.1314 - val_acc: 0.8172\n",
            "Epoch 58/60\n",
            "283003/283003 [==============================] - 44s 155us/sample - loss: 0.1164 - acc: 0.8449 - val_loss: 0.1315 - val_acc: 0.8173\n",
            "Epoch 59/60\n",
            "283003/283003 [==============================] - 44s 156us/sample - loss: 0.1163 - acc: 0.8447 - val_loss: 0.1314 - val_acc: 0.8177\n",
            "Epoch 60/60\n",
            "283003/283003 [==============================] - 43s 151us/sample - loss: 0.1161 - acc: 0.8452 - val_loss: 0.1314 - val_acc: 0.8168\n",
            "{'loss': [0.17202595697187215, 0.1543487209218044, 0.14762085207348705, 0.14358901433415502, 0.14072415317072834, 0.13844421190205794, 0.1366536640780515, 0.13513624884312253, 0.13379606343045075, 0.13265492386838285, 0.13161832596935505, 0.13075277533921076, 0.12986852086587033, 0.12907865443661978, 0.1284358469918178, 0.12772403850222708, 0.12716220914015935, 0.126661085614746, 0.1260770715534242, 0.12562794493112395, 0.1251516423336696, 0.1247452657697834, 0.12431979346623707, 0.1239962910999938, 0.12360467450447758, 0.12321405946283384, 0.12289074388795863, 0.1226439183363272, 0.1223363105513613, 0.1220122316228114, 0.12174265575430081, 0.12145236328839776, 0.12114591277642121, 0.12094746060813931, 0.12064138533970258, 0.12038919734255508, 0.12016097835226199, 0.11992051017902422, 0.11972019517788256, 0.11949816641253137, 0.11924820320422189, 0.11907518497740299, 0.11887639991720739, 0.11872507079083132, 0.11850373332677534, 0.11831992156684742, 0.11810899242032498, 0.11795346435751838, 0.11777270602955964, 0.11759875116395681, 0.1174597731485739, 0.11736484409046882, 0.11712000937821254, 0.11695503305016046, 0.1168523043755188, 0.1167139271032693, 0.11660138642884016, 0.11641860421384541, 0.11627702401536445, 0.11613059547388123], 'acc': [0.74586844, 0.7792391, 0.79084677, 0.7975251, 0.80246496, 0.80725646, 0.81015044, 0.81224227, 0.81485355, 0.81700194, 0.81903374, 0.82017505, 0.8217687, 0.82307255, 0.82428104, 0.82528454, 0.8266803, 0.827228, 0.82783926, 0.8290972, 0.8300265, 0.8303658, 0.83122796, 0.8316414, 0.8325177, 0.83303356, 0.83416784, 0.83464485, 0.8346873, 0.83517843, 0.8358392, 0.8361466, 0.8365, 0.8371643, 0.83740455, 0.8379134, 0.83842576, 0.8389982, 0.83902645, 0.8393162, 0.8396059, 0.84024906, 0.8403197, 0.8402066, 0.84104407, 0.841348, 0.84187096, 0.8418886, 0.8422137, 0.8428179, 0.8425423, 0.84305465, 0.8433656, 0.8433833, 0.8442525, 0.84412533, 0.8439699, 0.8449345, 0.84473664, 0.84520656], 'val_loss': [0.16075272314014027, 0.1534315296339922, 0.14894304432995414, 0.14635521788323455, 0.1443012227891644, 0.1429678172635308, 0.14159837993750765, 0.14040170278711722, 0.14016491325347194, 0.13943613226252025, 0.13916833154289, 0.13810606008737392, 0.13766220677985716, 0.13750907098514398, 0.13694034869016503, 0.13671094749076448, 0.13595808040553484, 0.13562127928371068, 0.13526580416248637, 0.1353186279084648, 0.1350875368323421, 0.135082475288427, 0.1346691429090537, 0.13478228693960106, 0.13430086040158817, 0.1341974353238918, 0.13396534989967251, 0.13381953794054502, 0.13397399593064704, 0.13356759201821597, 0.13350977753982926, 0.13324413350549358, 0.13292211486048744, 0.1329819146629036, 0.13309554500399653, 0.13270265290305958, 0.13301653889592344, 0.13264064544361523, 0.13276914620715075, 0.13245699578547077, 0.13274124554846348, 0.13300143436533726, 0.13280858865736356, 0.13224880955257934, 0.13275803823631846, 0.13216891377397408, 0.13211836961257892, 0.13203864164886145, 0.13293189214443007, 0.13180438628842422, 0.1317748091180278, 0.13199371356455555, 0.1317889822097536, 0.13146469048995443, 0.1316453390563599, 0.13145494587898876, 0.13144377558950196, 0.13148465779206672, 0.13144194063307574, 0.1313957315174902], 'val_acc': [0.76848304, 0.7800259, 0.7886748, 0.79338264, 0.7962766, 0.7982719, 0.80139667, 0.802955, 0.80423295, 0.8039774, 0.80502445, 0.8059149, 0.80677235, 0.8090315, 0.8077617, 0.80980647, 0.8103919, 0.8115297, 0.8113153, 0.8120574, 0.81114215, 0.81271696, 0.81238717, 0.81244487, 0.8143659, 0.8129231, 0.81451434, 0.81464624, 0.81275815, 0.8153883, 0.8157098, 0.81462973, 0.8158253, 0.81565213, 0.81593245, 0.81626225, 0.8143989, 0.81599015, 0.8156439, 0.8160314, 0.8163447, 0.8140856, 0.81599015, 0.81639415, 0.8141598, 0.81789476, 0.8169136, 0.81775457, 0.81478643, 0.81662506, 0.8171115, 0.8177876, 0.8169796, 0.8173836, 0.8171774, 0.817095, 0.8172434, 0.8172599, 0.81772983, 0.81679815]}\n"
          ],
          "name": "stdout"
        }
      ]
    },
    {
      "cell_type": "code",
      "metadata": {
        "id": "7lqahgzc2syH",
        "colab_type": "code",
        "outputId": "756a7037-8ffd-43e7-9b46-6a324df34180",
        "colab": {
          "base_uri": "https://localhost:8080/",
          "height": 607
        }
      },
      "source": [
        "print(\"Training time finished.\\n{} epochs in {}\".format(2, datetime.timedelta(seconds=time()-training_start_time)))\n",
        "\n",
        "import matplotlib.pyplot as plt\n",
        "\n",
        "# Plot training & validation accuracy values\n",
        "plt.plot(hist.history['acc'])\n",
        "plt.plot(hist.history['val_acc'])\n",
        "plt.title('Model accuracy')\n",
        "plt.ylabel('Accuracy')\n",
        "plt.xlabel('Epoch')\n",
        "plt.legend(['Train', 'Test'], loc='upper left')\n",
        "plt.savefig(\"abc76.png\")\n",
        "plt.show()\n",
        "\n",
        "# Plot training & validation loss values\n",
        "plt.plot(hist.history['loss'])\n",
        "plt.plot(hist.history['val_loss'])\n",
        "plt.title('Model loss')\n",
        "plt.ylabel('Loss')\n",
        "plt.xlabel('Epoch')\n",
        "plt.legend(['Train', 'Test'], loc='upper left')\n",
        "plt.savefig(\"bc76.png\")\n",
        "plt.show()"
      ],
      "execution_count": 23,
      "outputs": [
        {
          "output_type": "stream",
          "text": [
            "Training time finished.\n",
            "2 epochs in 0:44:31.755729\n"
          ],
          "name": "stdout"
        },
        {
          "output_type": "display_data",
          "data": {
            "image/png": "[encoded data removed]",
            "text/plain": [
              "<Figure size 432x288 with 1 Axes>"
            ]
          },
          "metadata": {
            "tags": []
          }
        },
        {
          "output_type": "display_data",
          "data": {
            "image/png": "[encoded data removed]",
            "text/plain": [
              "<Figure size 432x288 with 1 Axes>"
            ]
          },
          "metadata": {
            "tags": []
          }
        }
      ]
    },
    {
      "cell_type": "code",
      "metadata": {
        "id": "IiBJzpPvc9vT",
        "colab_type": "code",
        "outputId": "32c0e85c-2045-4160-81d1-a3af53fef9ec",
        "colab": {
          "base_uri": "https://localhost:8080/",
          "height": 394
        }
      },
      "source": [
        "!pip install pydrive"
      ],
      "execution_count": 24,
      "outputs": [
        {
          "output_type": "stream",
          "text": [
            "Collecting pydrive\n",
            "\u001b[?25l  Downloading https://files.pythonhosted.org/packages/52/e0/0e64788e5dd58ce2d6934549676243dc69d982f198524be9b99e9c2a4fd5/PyDrive-1.3.1.tar.gz (987kB)\n",
            "\r\u001b[K     |▎                               | 10kB 21.2MB/s eta 0:00:01\r\u001b[K     |▋                               | 20kB 6.3MB/s eta 0:00:01\r\u001b[K     |█                               | 30kB 8.9MB/s eta 0:00:01\r\u001b[K     |█▎                              | 40kB 5.8MB/s eta 0:00:01\r\u001b[K     |█▋                              | 51kB 7.0MB/s eta 0:00:01\r\u001b[K     |██                              | 61kB 8.3MB/s eta 0:00:01\r\u001b[K     |██▎                             | 71kB 9.5MB/s eta 0:00:01\r\u001b[K     |██▋                             | 81kB 10.6MB/s eta 0:00:01\r\u001b[K     |███                             | 92kB 11.7MB/s eta 0:00:01\r\u001b[K     |███▎                            | 102kB 9.4MB/s eta 0:00:01\r\u001b[K     |███▋                            | 112kB 9.4MB/s eta 0:00:01\r\u001b[K     |████                            | 122kB 9.4MB/s eta 0:00:01\r\u001b[K     |████▎                           | 133kB 9.4MB/s eta 0:00:01\r\u001b[K     |████▋                           | 143kB 9.4MB/s eta 0:00:01\r\u001b[K     |█████                           | 153kB 9.4MB/s eta 0:00:01\r\u001b[K     |█████▎                          | 163kB 9.4MB/s eta 0:00:01\r\u001b[K     |█████▋                          | 174kB 9.4MB/s eta 0:00:01\r\u001b[K     |██████                          | 184kB 9.4MB/s eta 0:00:01\r\u001b[K     |██████▎                         | 194kB 9.4MB/s eta 0:00:01\r\u001b[K     |██████▋                         | 204kB 9.4MB/s eta 0:00:01\r\u001b[K     |███████                         | 215kB 9.4MB/s eta 0:00:01\r\u001b[K     |███████▎                        | 225kB 9.4MB/s eta 0:00:01\r\u001b[K     |███████▋                        | 235kB 9.4MB/s eta 0:00:01\r\u001b[K     |████████                        | 245kB 9.4MB/s eta 0:00:01\r\u001b[K     |████████▎                       | 256kB 9.4MB/s eta 0:00:01\r\u001b[K     |████████▋                       | 266kB 9.4MB/s eta 0:00:01\r\u001b[K     |█████████                       | 276kB 9.4MB/s eta 0:00:01\r\u001b[K     |█████████▎                      | 286kB 9.4MB/s eta 0:00:01\r\u001b[K     |█████████▋                      | 296kB 9.4MB/s eta 0:00:01\r\u001b[K     |██████████                      | 307kB 9.4MB/s eta 0:00:01\r\u001b[K     |██████████▎                     | 317kB 9.4MB/s eta 0:00:01\r\u001b[K     |██████████▋                     | 327kB 9.4MB/s eta 0:00:01\r\u001b[K     |███████████                     | 337kB 9.4MB/s eta 0:00:01\r\u001b[K     |███████████▎                    | 348kB 9.4MB/s eta 0:00:01\r\u001b[K     |███████████▋                    | 358kB 9.4MB/s eta 0:00:01\r\u001b[K     |████████████                    | 368kB 9.4MB/s eta 0:00:01\r\u001b[K     |████████████▎                   | 378kB 9.4MB/s eta 0:00:01\r\u001b[K     |████████████▋                   | 389kB 9.4MB/s eta 0:00:01\r\u001b[K     |█████████████                   | 399kB 9.4MB/s eta 0:00:01\r\u001b[K     |█████████████▎                  | 409kB 9.4MB/s eta 0:00:01\r\u001b[K     |█████████████▋                  | 419kB 9.4MB/s eta 0:00:01\r\u001b[K     |██████████████                  | 430kB 9.4MB/s eta 0:00:01\r\u001b[K     |██████████████▎                 | 440kB 9.4MB/s eta 0:00:01\r\u001b[K     |██████████████▋                 | 450kB 9.4MB/s eta 0:00:01\r\u001b[K     |███████████████                 | 460kB 9.4MB/s eta 0:00:01\r\u001b[K     |███████████████▎                | 471kB 9.4MB/s eta 0:00:01\r\u001b[K     |███████████████▋                | 481kB 9.4MB/s eta 0:00:01\r\u001b[K     |████████████████                | 491kB 9.4MB/s eta 0:00:01\r\u001b[K     |████████████████▎               | 501kB 9.4MB/s eta 0:00:01\r\u001b[K     |████████████████▋               | 512kB 9.4MB/s eta 0:00:01\r\u001b[K     |█████████████████               | 522kB 9.4MB/s eta 0:00:01\r\u001b[K     |█████████████████▎              | 532kB 9.4MB/s eta 0:00:01\r\u001b[K     |█████████████████▋              | 542kB 9.4MB/s eta 0:00:01\r\u001b[K     |██████████████████              | 552kB 9.4MB/s eta 0:00:01\r\u001b[K     |██████████████████▎             | 563kB 9.4MB/s eta 0:00:01\r\u001b[K     |██████████████████▋             | 573kB 9.4MB/s eta 0:00:01\r\u001b[K     |███████████████████             | 583kB 9.4MB/s eta 0:00:01\r\u001b[K     |███████████████████▎            | 593kB 9.4MB/s eta 0:00:01\r\u001b[K     |███████████████████▋            | 604kB 9.4MB/s eta 0:00:01\r\u001b[K     |████████████████████            | 614kB 9.4MB/s eta 0:00:01\r\u001b[K     |████████████████████▎           | 624kB 9.4MB/s eta 0:00:01\r\u001b[K     |████████████████████▋           | 634kB 9.4MB/s eta 0:00:01\r\u001b[K     |█████████████████████           | 645kB 9.4MB/s eta 0:00:01\r\u001b[K     |█████████████████████▎          | 655kB 9.4MB/s eta 0:00:01\r\u001b[K     |█████████████████████▋          | 665kB 9.4MB/s eta 0:00:01\r\u001b[K     |██████████████████████          | 675kB 9.4MB/s eta 0:00:01\r\u001b[K     |██████████████████████▎         | 686kB 9.4MB/s eta 0:00:01\r\u001b[K     |██████████████████████▋         | 696kB 9.4MB/s eta 0:00:01\r\u001b[K     |███████████████████████         | 706kB 9.4MB/s eta 0:00:01\r\u001b[K     |███████████████████████▎        | 716kB 9.4MB/s eta 0:00:01\r\u001b[K     |███████████████████████▋        | 727kB 9.4MB/s eta 0:00:01\r\u001b[K     |████████████████████████        | 737kB 9.4MB/s eta 0:00:01\r\u001b[K     |████████████████████████▎       | 747kB 9.4MB/s eta 0:00:01\r\u001b[K     |████████████████████████▋       | 757kB 9.4MB/s eta 0:00:01\r\u001b[K     |████████████████████████▉       | 768kB 9.4MB/s eta 0:00:01\r\u001b[K     |█████████████████████████▏      | 778kB 9.4MB/s eta 0:00:01\r\u001b[K     |█████████████████████████▌      | 788kB 9.4MB/s eta 0:00:01\r\u001b[K     |█████████████████████████▉      | 798kB 9.4MB/s eta 0:00:01\r\u001b[K     |██████████████████████████▏     | 808kB 9.4MB/s eta 0:00:01\r\u001b[K     |██████████████████████████▌     | 819kB 9.4MB/s eta 0:00:01\r\u001b[K     |██████████████████████████▉     | 829kB 9.4MB/s eta 0:00:01\r\u001b[K     |███████████████████████████▏    | 839kB 9.4MB/s eta 0:00:01\r\u001b[K     |███████████████████████████▌    | 849kB 9.4MB/s eta 0:00:01\r\u001b[K     |███████████████████████████▉    | 860kB 9.4MB/s eta 0:00:01\r\u001b[K     |████████████████████████████▏   | 870kB 9.4MB/s eta 0:00:01\r\u001b[K     |████████████████████████████▌   | 880kB 9.4MB/s eta 0:00:01\r\u001b[K     |████████████████████████████▉   | 890kB 9.4MB/s eta 0:00:01\r\u001b[K     |█████████████████████████████▏  | 901kB 9.4MB/s eta 0:00:01\r\u001b[K     |█████████████████████████████▌  | 911kB 9.4MB/s eta 0:00:01\r\u001b[K     |█████████████████████████████▉  | 921kB 9.4MB/s eta 0:00:01\r\u001b[K     |██████████████████████████████▏ | 931kB 9.4MB/s eta 0:00:01\r\u001b[K     |██████████████████████████████▌ | 942kB 9.4MB/s eta 0:00:01\r\u001b[K     |██████████████████████████████▉ | 952kB 9.4MB/s eta 0:00:01\r\u001b[K     |███████████████████████████████▏| 962kB 9.4MB/s eta 0:00:01\r\u001b[K     |███████████████████████████████▌| 972kB 9.4MB/s eta 0:00:01\r\u001b[K     |███████████████████████████████▉| 983kB 9.4MB/s eta 0:00:01\r\u001b[K     |████████████████████████████████| 993kB 9.4MB/s \n",
            "\u001b[?25hRequirement already satisfied: google-api-python-client>=1.2 in /usr/local/lib/python3.6/dist-packages (from pydrive) (1.7.9)\n",
            "Requirement already satisfied: oauth2client>=4.0.0 in /usr/local/lib/python3.6/dist-packages (from pydrive) (4.1.3)\n",
            "Requirement already satisfied: PyYAML>=3.0 in /usr/local/lib/python3.6/dist-packages (from pydrive) (3.13)\n",
            "Requirement already satisfied: google-auth>=1.4.1 in /usr/local/lib/python3.6/dist-packages (from google-api-python-client>=1.2->pydrive) (1.4.2)\n",
            "Requirement already satisfied: httplib2<1dev,>=0.9.2 in /usr/local/lib/python3.6/dist-packages (from google-api-python-client>=1.2->pydrive) (0.11.3)\n",
            "Requirement already satisfied: six<2dev,>=1.6.1 in /usr/local/lib/python3.6/dist-packages (from google-api-python-client>=1.2->pydrive) (1.12.0)\n",
            "Requirement already satisfied: google-auth-httplib2>=0.0.3 in /usr/local/lib/python3.6/dist-packages (from google-api-python-client>=1.2->pydrive) (0.0.3)\n",
            "Requirement already satisfied: uritemplate<4dev,>=3.0.0 in /usr/local/lib/python3.6/dist-packages (from google-api-python-client>=1.2->pydrive) (3.0.0)\n",
            "Requirement already satisfied: rsa>=3.1.4 in /usr/local/lib/python3.6/dist-packages (from oauth2client>=4.0.0->pydrive) (4.0)\n",
            "Requirement already satisfied: pyasn1-modules>=0.0.5 in /usr/local/lib/python3.6/dist-packages (from oauth2client>=4.0.0->pydrive) (0.2.5)\n",
            "Requirement already satisfied: pyasn1>=0.1.7 in /usr/local/lib/python3.6/dist-packages (from oauth2client>=4.0.0->pydrive) (0.4.5)\n",
            "Requirement already satisfied: cachetools>=2.0.0 in /usr/local/lib/python3.6/dist-packages (from google-auth>=1.4.1->google-api-python-client>=1.2->pydrive) (3.1.1)\n",
            "Building wheels for collected packages: pydrive\n",
            "  Building wheel for pydrive (setup.py) ... \u001b[?25l\u001b[?25hdone\n",
            "  Stored in directory: /root/.cache/pip/wheels/fa/d2/9a/d3b6b506c2da98289e5d417215ce34b696db856643bad779f4\n",
            "Successfully built pydrive\n",
            "Installing collected packages: pydrive\n",
            "Successfully installed pydrive-1.3.1\n"
          ],
          "name": "stdout"
        }
      ]
    },
    {
      "cell_type": "code",
      "metadata": {
        "id": "RZJLzbN2cZLU",
        "colab_type": "code",
        "colab": {}
      },
      "source": [
        "#uploading to google drive\n",
        "from pydrive.auth import GoogleAuth\n",
        "from pydrive.drive import GoogleDrive\n",
        "from google.colab import auth\n",
        "from oauth2client.client import GoogleCredentials\n",
        "\n",
        "# 1. Authenticate and create the PyDrive client.\n",
        "auth.authenticate_user()\n",
        "gauth = GoogleAuth()\n",
        "gauth.credentials = GoogleCredentials.get_application_default()\n",
        "drive = GoogleDrive(gauth)  \n",
        "\n",
        "# get the folder id where you want to save your file\n",
        "\n",
        "\n",
        "model.save('/content/drive/My Drive/Major/DQD.h5')\n"
      ],
      "execution_count": 0,
      "outputs": []
    },
    {
      "cell_type": "code",
      "metadata": {
        "id": "uuBV5MoDOc-T",
        "colab_type": "code",
        "colab": {}
      },
      "source": [
        ""
      ],
      "execution_count": 0,
      "outputs": []
    }
  ]
}
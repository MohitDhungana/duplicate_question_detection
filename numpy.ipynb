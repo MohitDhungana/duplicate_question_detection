{
  "nbformat": 4,
  "nbformat_minor": 0,
  "metadata": {
    "colab": {
      "name": "numpy.ipynb",
      "version": "0.3.2",
      "provenance": [],
      "collapsed_sections": [],
      "include_colab_link": true
    },
    "kernelspec": {
      "name": "python3",
      "display_name": "Python 3"
    }
  },
  "cells": [
    {
      "cell_type": "markdown",
      "metadata": {
        "id": "view-in-github",
        "colab_type": "text"
      },
      "source": [
        "<a href=\"https://colab.research.google.com/github/MohitDhungana/duplicate_question_detection/blob/master/numpy.ipynb\" target=\"_parent\"><img src=\"https://colab.research.google.com/assets/colab-badge.svg\" alt=\"Open In Colab\"/></a>"
      ]
    },
    {
      "cell_type": "code",
      "metadata": {
        "id": "0WfGF7RfVQH5",
        "colab_type": "code",
        "colab": {}
      },
      "source": [
        "my_list=[1,2,3,4,5]"
      ],
      "execution_count": 0,
      "outputs": []
    },
    {
      "cell_type": "code",
      "metadata": {
        "id": "smIW23AXV3Zd",
        "colab_type": "code",
        "outputId": "9d6f4978-877a-436b-9158-e14c6eb41baa",
        "colab": {
          "base_uri": "https://localhost:8080/",
          "height": 34
        }
      },
      "source": [
        "my_list"
      ],
      "execution_count": 0,
      "outputs": [
        {
          "output_type": "execute_result",
          "data": {
            "text/plain": [
              "[1, 2, 3, 4, 5]"
            ]
          },
          "metadata": {
            "tags": []
          },
          "execution_count": 3
        }
      ]
    },
    {
      "cell_type": "markdown",
      "metadata": {
        "id": "ESeGpFAkWB97",
        "colab_type": "text"
      },
      "source": [
        "my_list[2]"
      ]
    },
    {
      "cell_type": "code",
      "metadata": {
        "id": "T-wtR55lW73-",
        "colab_type": "code",
        "colab": {}
      },
      "source": [
        "import numpy as np"
      ],
      "execution_count": 0,
      "outputs": []
    },
    {
      "cell_type": "code",
      "metadata": {
        "id": "j6xa87FRXPk-",
        "colab_type": "code",
        "colab": {}
      },
      "source": [
        "np_array=np.array(my_list)"
      ],
      "execution_count": 0,
      "outputs": []
    },
    {
      "cell_type": "code",
      "metadata": {
        "id": "xBXMcPI9Xk2s",
        "colab_type": "code",
        "outputId": "0c7846ee-043f-4f1c-9ec7-668d717936ef",
        "colab": {
          "base_uri": "https://localhost:8080/",
          "height": 34
        }
      },
      "source": [
        "type(np_array)"
      ],
      "execution_count": 0,
      "outputs": [
        {
          "output_type": "execute_result",
          "data": {
            "text/plain": [
              "numpy.ndarray"
            ]
          },
          "metadata": {
            "tags": []
          },
          "execution_count": 8
        }
      ]
    },
    {
      "cell_type": "code",
      "metadata": {
        "id": "JwNMhD_ZXoNh",
        "colab_type": "code",
        "colab": {}
      },
      "source": [
        "np_function=np.arange(2,7,2)"
      ],
      "execution_count": 0,
      "outputs": []
    },
    {
      "cell_type": "code",
      "metadata": {
        "id": "SNx4vqJmX_6D",
        "colab_type": "code",
        "outputId": "17811f23-92bb-44b5-f482-6f92a0605336",
        "colab": {
          "base_uri": "https://localhost:8080/",
          "height": 34
        }
      },
      "source": [
        "np_function\n"
      ],
      "execution_count": 0,
      "outputs": [
        {
          "output_type": "execute_result",
          "data": {
            "text/plain": [
              "array([2, 4, 6])"
            ]
          },
          "metadata": {
            "tags": []
          },
          "execution_count": 10
        }
      ]
    },
    {
      "cell_type": "code",
      "metadata": {
        "id": "pv4EMcN7YIzs",
        "colab_type": "code",
        "outputId": "20a1f33a-6e1e-4d24-ade3-c095b4f2938e",
        "colab": {
          "base_uri": "https://localhost:8080/",
          "height": 34
        }
      },
      "source": [
        "type(np_function)"
      ],
      "execution_count": 0,
      "outputs": [
        {
          "output_type": "execute_result",
          "data": {
            "text/plain": [
              "numpy.ndarray"
            ]
          },
          "metadata": {
            "tags": []
          },
          "execution_count": 11
        }
      ]
    },
    {
      "cell_type": "code",
      "metadata": {
        "id": "sZA-gpXWYjV8",
        "colab_type": "code",
        "outputId": "03414ad3-6fe6-42bc-cc56-9bc55def3606",
        "colab": {
          "base_uri": "https://localhost:8080/",
          "height": 34
        }
      },
      "source": [
        "np.zeros(7)"
      ],
      "execution_count": 0,
      "outputs": [
        {
          "output_type": "execute_result",
          "data": {
            "text/plain": [
              "array([0., 0., 0., 0., 0., 0., 0.])"
            ]
          },
          "metadata": {
            "tags": []
          },
          "execution_count": 12
        }
      ]
    },
    {
      "cell_type": "code",
      "metadata": {
        "id": "3Sz2Ef4zYtz8",
        "colab_type": "code",
        "outputId": "a550f40c-831e-4b2a-ef48-25750d2ef78e",
        "colab": {
          "base_uri": "https://localhost:8080/",
          "height": 34
        }
      },
      "source": [
        "np.zeros(5)"
      ],
      "execution_count": 0,
      "outputs": [
        {
          "output_type": "execute_result",
          "data": {
            "text/plain": [
              "array([0., 0., 0., 0., 0.])"
            ]
          },
          "metadata": {
            "tags": []
          },
          "execution_count": 13
        }
      ]
    },
    {
      "cell_type": "code",
      "metadata": {
        "id": "a7fk4Xc7Y2CS",
        "colab_type": "code",
        "outputId": "c4cb4597-68ea-4586-c35c-2a9ff551d61f",
        "colab": {
          "base_uri": "https://localhost:8080/",
          "height": 34
        }
      },
      "source": [
        "np.ones(5)"
      ],
      "execution_count": 0,
      "outputs": [
        {
          "output_type": "execute_result",
          "data": {
            "text/plain": [
              "array([1., 1., 1., 1., 1.])"
            ]
          },
          "metadata": {
            "tags": []
          },
          "execution_count": 14
        }
      ]
    },
    {
      "cell_type": "code",
      "metadata": {
        "id": "8FISh7vaZJJY",
        "colab_type": "code",
        "outputId": "bc015549-90c2-4d90-ffef-178eae342771",
        "colab": {
          "base_uri": "https://localhost:8080/",
          "height": 34
        }
      },
      "source": [
        "np.linspace(0,11,4)"
      ],
      "execution_count": 0,
      "outputs": [
        {
          "output_type": "execute_result",
          "data": {
            "text/plain": [
              "array([ 0.        ,  3.66666667,  7.33333333, 11.        ])"
            ]
          },
          "metadata": {
            "tags": []
          },
          "execution_count": 19
        }
      ]
    },
    {
      "cell_type": "code",
      "metadata": {
        "id": "z_V3p4uNZbYT",
        "colab_type": "code",
        "outputId": "769c24c7-d9f4-4da3-81ff-8406a79dd112",
        "colab": {
          "base_uri": "https://localhost:8080/",
          "height": 68
        }
      },
      "source": [
        "np.ones((3,4))"
      ],
      "execution_count": 0,
      "outputs": [
        {
          "output_type": "execute_result",
          "data": {
            "text/plain": [
              "array([[1., 1., 1., 1.],\n",
              "       [1., 1., 1., 1.],\n",
              "       [1., 1., 1., 1.]])"
            ]
          },
          "metadata": {
            "tags": []
          },
          "execution_count": 20
        }
      ]
    },
    {
      "cell_type": "code",
      "metadata": {
        "id": "xd_3VHD1ZpLh",
        "colab_type": "code",
        "outputId": "009aaada-5e55-4d08-f5f5-6243504fdd51",
        "colab": {
          "base_uri": "https://localhost:8080/",
          "height": 34
        }
      },
      "source": [
        "np.random.randint(5)"
      ],
      "execution_count": 0,
      "outputs": [
        {
          "output_type": "execute_result",
          "data": {
            "text/plain": [
              "3"
            ]
          },
          "metadata": {
            "tags": []
          },
          "execution_count": 27
        }
      ]
    },
    {
      "cell_type": "code",
      "metadata": {
        "id": "rLXx8goOZ8T4",
        "colab_type": "code",
        "outputId": "44982a94-128b-4a88-f0fe-3088b1b979f2",
        "colab": {
          "base_uri": "https://localhost:8080/",
          "height": 34
        }
      },
      "source": [
        "np.random.randint((3.4))"
      ],
      "execution_count": 0,
      "outputs": [
        {
          "output_type": "execute_result",
          "data": {
            "text/plain": [
              "0"
            ]
          },
          "metadata": {
            "tags": []
          },
          "execution_count": 26
        }
      ]
    },
    {
      "cell_type": "code",
      "metadata": {
        "id": "yclQGynzazXv",
        "colab_type": "code",
        "outputId": "0d014e37-ffe2-4ae3-bbfe-7925cfa8ec0b",
        "colab": {
          "base_uri": "https://localhost:8080/",
          "height": 34
        }
      },
      "source": [
        "np.random.randint(1,10,5)"
      ],
      "execution_count": 0,
      "outputs": [
        {
          "output_type": "execute_result",
          "data": {
            "text/plain": [
              "array([2, 7, 9, 4, 4])"
            ]
          },
          "metadata": {
            "tags": []
          },
          "execution_count": 30
        }
      ]
    },
    {
      "cell_type": "code",
      "metadata": {
        "id": "_09z-CgibfNq",
        "colab_type": "code",
        "colab": {}
      },
      "source": [
        "np.random.seed(4)\n",
        "np_arr=np.random.randint(1,100,15)"
      ],
      "execution_count": 0,
      "outputs": []
    },
    {
      "cell_type": "code",
      "metadata": {
        "id": "Js7OyRQkcW4e",
        "colab_type": "code",
        "outputId": "6fb0855a-c84c-454b-b1d0-fd002796f53b",
        "colab": {
          "base_uri": "https://localhost:8080/",
          "height": 34
        }
      },
      "source": [
        "np_arr"
      ],
      "execution_count": 0,
      "outputs": [
        {
          "output_type": "execute_result",
          "data": {
            "text/plain": [
              "array([47, 56, 70,  2, 88, 73, 51, 10, 59, 95, 56, 56, 58, 37, 51])"
            ]
          },
          "metadata": {
            "tags": []
          },
          "execution_count": 36
        }
      ]
    },
    {
      "cell_type": "code",
      "metadata": {
        "id": "nojcFRU5cYoS",
        "colab_type": "code",
        "outputId": "d2074d88-71c0-40b4-8d21-8c14c9c12768",
        "colab": {
          "base_uri": "https://localhost:8080/",
          "height": 34
        }
      },
      "source": [
        "np_arr.max()"
      ],
      "execution_count": 0,
      "outputs": [
        {
          "output_type": "execute_result",
          "data": {
            "text/plain": [
              "95"
            ]
          },
          "metadata": {
            "tags": []
          },
          "execution_count": 40
        }
      ]
    },
    {
      "cell_type": "code",
      "metadata": {
        "id": "ZRrwYz6mck3y",
        "colab_type": "code",
        "outputId": "776c3f68-bb7f-4bd1-f867-db9e30db59f5",
        "colab": {
          "base_uri": "https://localhost:8080/",
          "height": 34
        }
      },
      "source": [
        "np_arr.min()"
      ],
      "execution_count": 0,
      "outputs": [
        {
          "output_type": "execute_result",
          "data": {
            "text/plain": [
              "2"
            ]
          },
          "metadata": {
            "tags": []
          },
          "execution_count": 41
        }
      ]
    },
    {
      "cell_type": "code",
      "metadata": {
        "id": "JAdYdyt0dKGm",
        "colab_type": "code",
        "outputId": "73b7d347-3b58-4626-f8ad-b843883e3a10",
        "colab": {
          "base_uri": "https://localhost:8080/",
          "height": 34
        }
      },
      "source": [
        "np_arr.mean()"
      ],
      "execution_count": 0,
      "outputs": [
        {
          "output_type": "execute_result",
          "data": {
            "text/plain": [
              "53.93333333333333"
            ]
          },
          "metadata": {
            "tags": []
          },
          "execution_count": 42
        }
      ]
    },
    {
      "cell_type": "code",
      "metadata": {
        "id": "UOzalYJVdPiu",
        "colab_type": "code",
        "outputId": "df69f3b0-3c19-49b1-82ed-f9a6f10d728e",
        "colab": {
          "base_uri": "https://localhost:8080/",
          "height": 102
        }
      },
      "source": [
        "np_arr.reshape((5,3))"
      ],
      "execution_count": 0,
      "outputs": [
        {
          "output_type": "execute_result",
          "data": {
            "text/plain": [
              "array([[47, 56, 70],\n",
              "       [ 2, 88, 73],\n",
              "       [51, 10, 59],\n",
              "       [95, 56, 56],\n",
              "       [58, 37, 51]])"
            ]
          },
          "metadata": {
            "tags": []
          },
          "execution_count": 43
        }
      ]
    },
    {
      "cell_type": "code",
      "metadata": {
        "id": "9arErrL9d6c6",
        "colab_type": "code",
        "outputId": "8e9e66f1-6fd9-4f21-c475-1335a4a9faf1",
        "colab": {
          "base_uri": "https://localhost:8080/",
          "height": 34
        }
      },
      "source": [
        "-np.sort(-np_arr)"
      ],
      "execution_count": 0,
      "outputs": [
        {
          "output_type": "execute_result",
          "data": {
            "text/plain": [
              "array([95, 88, 73, 70, 59, 58, 56, 56, 56, 51, 51, 47, 37, 10,  2])"
            ]
          },
          "metadata": {
            "tags": []
          },
          "execution_count": 48
        }
      ]
    },
    {
      "cell_type": "code",
      "metadata": {
        "id": "OEesgSq3eBMz",
        "colab_type": "code",
        "outputId": "7a50889e-18ea-47b1-d65a-c840e61b6c5a",
        "colab": {
          "base_uri": "https://localhost:8080/",
          "height": 34
        }
      },
      "source": [
        "np_arr[2:9:1]"
      ],
      "execution_count": 0,
      "outputs": [
        {
          "output_type": "execute_result",
          "data": {
            "text/plain": [
              "array([70,  2, 88, 73, 51, 10, 59])"
            ]
          },
          "metadata": {
            "tags": []
          },
          "execution_count": 45
        }
      ]
    },
    {
      "cell_type": "code",
      "metadata": {
        "id": "li2hnCkneNUL",
        "colab_type": "code",
        "colab": {}
      },
      "source": [
        "np_array=np.random.randint(1,100,(10,10))"
      ],
      "execution_count": 0,
      "outputs": []
    },
    {
      "cell_type": "code",
      "metadata": {
        "id": "d8jjvGjrexO5",
        "colab_type": "code",
        "outputId": "5790e268-5b26-4495-9dd1-5a405e4d63f0",
        "colab": {
          "base_uri": "https://localhost:8080/",
          "height": 187
        }
      },
      "source": [
        "np_array"
      ],
      "execution_count": 0,
      "outputs": [
        {
          "output_type": "execute_result",
          "data": {
            "text/plain": [
              "array([[45, 39, 53,  4,  1, 56, 22, 22, 74, 39],\n",
              "       [57, 67, 47, 31,  9, 50, 67, 59, 88, 33],\n",
              "       [41, 43, 46, 34, 33, 29,  4, 80, 99, 96],\n",
              "       [58, 51, 18, 82, 90, 74, 60, 49, 77, 24],\n",
              "       [95, 23, 68, 63, 63, 76, 24, 57, 71, 72],\n",
              "       [74, 83, 56, 54, 86, 95, 80, 37, 92, 60],\n",
              "       [52,  9, 38, 73, 60, 55, 97, 31,  5, 55],\n",
              "       [76,  9, 32, 41, 18, 79, 10, 54, 69, 63],\n",
              "       [60,  4,  5, 40, 55, 71, 41, 97, 68, 54],\n",
              "       [23, 18, 28, 98, 61, 44, 87, 16, 14,  1]])"
            ]
          },
          "metadata": {
            "tags": []
          },
          "execution_count": 47
        }
      ]
    },
    {
      "cell_type": "code",
      "metadata": {
        "id": "k9EjvrQ0ezB0",
        "colab_type": "code",
        "colab": {}
      },
      "source": [
        "np_arry=np.random.randint(1,100,(16,1))"
      ],
      "execution_count": 0,
      "outputs": []
    },
    {
      "cell_type": "code",
      "metadata": {
        "id": "OzIOMHcQgCbk",
        "colab_type": "code",
        "outputId": "f1dbb04c-5c16-4b51-c031-294a0d5ea9a4",
        "colab": {
          "base_uri": "https://localhost:8080/",
          "height": 289
        }
      },
      "source": [
        "np_arry\n"
      ],
      "execution_count": 0,
      "outputs": [
        {
          "output_type": "execute_result",
          "data": {
            "text/plain": [
              "array([[11],\n",
              "       [ 8],\n",
              "       [64],\n",
              "       [80],\n",
              "       [60],\n",
              "       [53],\n",
              "       [53],\n",
              "       [65],\n",
              "       [88],\n",
              "       [98],\n",
              "       [47],\n",
              "       [43],\n",
              "       [50],\n",
              "       [32],\n",
              "       [36],\n",
              "       [31]])"
            ]
          },
          "metadata": {
            "tags": []
          },
          "execution_count": 50
        }
      ]
    },
    {
      "cell_type": "code",
      "metadata": {
        "id": "LiDUdvgugEi9",
        "colab_type": "code",
        "colab": {}
      },
      "source": [
        "np_rearry=np_arry.reshape((4,4))"
      ],
      "execution_count": 0,
      "outputs": []
    },
    {
      "cell_type": "code",
      "metadata": {
        "id": "9Io0cgJhgM61",
        "colab_type": "code",
        "outputId": "b0026ea4-3f80-4d2d-b2f7-1f6c39aff557",
        "colab": {
          "base_uri": "https://localhost:8080/",
          "height": 34
        }
      },
      "source": [
        "np_arry[np_arry>50]"
      ],
      "execution_count": 0,
      "outputs": [
        {
          "output_type": "execute_result",
          "data": {
            "text/plain": [
              "array([64, 80, 60, 53, 53, 65, 88, 98])"
            ]
          },
          "metadata": {
            "tags": []
          },
          "execution_count": 54
        }
      ]
    },
    {
      "cell_type": "code",
      "metadata": {
        "id": "X5aYzrrHh-2Q",
        "colab_type": "code",
        "outputId": "51026d0e-2115-4211-81ad-928d83d04bff",
        "colab": {
          "base_uri": "https://localhost:8080/",
          "height": 85
        }
      },
      "source": [
        "np_rearry"
      ],
      "execution_count": 0,
      "outputs": [
        {
          "output_type": "execute_result",
          "data": {
            "text/plain": [
              "array([[11,  8, 64, 80],\n",
              "       [60, 53, 53, 65],\n",
              "       [88, 98, 47, 43],\n",
              "       [50, 32, 36, 31]])"
            ]
          },
          "metadata": {
            "tags": []
          },
          "execution_count": 55
        }
      ]
    },
    {
      "cell_type": "code",
      "metadata": {
        "id": "fnH_Z4_Oi_Cg",
        "colab_type": "code",
        "colab": {}
      },
      "source": [
        ""
      ],
      "execution_count": 0,
      "outputs": []
    },
    {
      "cell_type": "code",
      "metadata": {
        "id": "HXPpg-aYiJZ6",
        "colab_type": "code",
        "outputId": "9da7485e-c3dc-4d00-dacc-b08fac32bbb1",
        "colab": {
          "base_uri": "https://localhost:8080/",
          "height": 34
        }
      },
      "source": [
        "np_rearry[np_rearry>50]"
      ],
      "execution_count": 0,
      "outputs": [
        {
          "output_type": "execute_result",
          "data": {
            "text/plain": [
              "array([64, 80, 60, 53, 53, 65, 88, 98])"
            ]
          },
          "metadata": {
            "tags": []
          },
          "execution_count": 56
        }
      ]
    },
    {
      "cell_type": "code",
      "metadata": {
        "id": "Whs3CRg4tgDa",
        "colab_type": "code",
        "colab": {}
      },
      "source": [
        "col=[]\n",
        "for i in range(0,len(df)):\n",
        "    if df['color']==0:\n",
        "        col.append('r') \n",
        "    else:\n",
        "        col.append('b') \n",
        "plt.scatter(df['length'],df['width'],s=10,c=col[i])"
      ],
      "execution_count": 0,
      "outputs": []
    }
  ]
}
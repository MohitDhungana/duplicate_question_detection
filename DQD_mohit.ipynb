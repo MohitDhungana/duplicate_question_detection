{
  "nbformat": 4,
  "nbformat_minor": 0,
  "metadata": {
    "colab": {
      "name": "DQD_mohit.ipynb",
      "version": "0.3.2",
      "provenance": [],
      "collapsed_sections": [],
      "include_colab_link": true
    },
    "kernelspec": {
      "name": "python3",
      "display_name": "Python 3"
    },
    "accelerator": "GPU"
  },
  "cells": [
    {
      "cell_type": "markdown",
      "metadata": {
        "id": "view-in-github",
        "colab_type": "text"
      },
      "source": [
        "<a href=\"https://colab.research.google.com/github/MohitDhungana/duplicate_question_detection/blob/master/DQD_mohit.ipynb\" target=\"_parent\"><img src=\"https://colab.research.google.com/assets/colab-badge.svg\" alt=\"Open In Colab\"/></a>"
      ]
    },
    {
      "cell_type": "code",
      "metadata": {
        "id": "v1inEJB4nYz9",
        "colab_type": "code",
        "outputId": "f34c59ff-3fa0-497a-e14d-9dc4a6aac510",
        "colab": {
          "base_uri": "https://localhost:8080/",
          "height": 34
        }
      },
      "source": [
        "print(\"TEST COLAB AND GITHUB INTEGRATION\")"
      ],
      "execution_count": 122,
      "outputs": [
        {
          "output_type": "stream",
          "text": [
            "TEST COLAB AND GITHUB INTEGRATION\n"
          ],
          "name": "stdout"
        }
      ]
    },
    {
      "cell_type": "code",
      "metadata": {
        "id": "GfH5THzI5W5u",
        "colab_type": "code",
        "outputId": "9cfc6c4e-6b67-480c-acc8-5dbc9fc5c75e",
        "colab": {
          "base_uri": "https://localhost:8080/",
          "height": 34
        }
      },
      "source": [
        "from google.colab import drive\n",
        "drive.mount('/content/drive', force_remount=True)"
      ],
      "execution_count": 123,
      "outputs": [
        {
          "output_type": "stream",
          "text": [
            "Mounted at /content/drive\n"
          ],
          "name": "stdout"
        }
      ]
    },
    {
      "cell_type": "code",
      "metadata": {
        "id": "HC73OLu4CbLy",
        "colab_type": "code",
        "outputId": "2959a5e8-5315-4eca-f839-3217eefa26d7",
        "colab": {
          "base_uri": "https://localhost:8080/",
          "height": 193
        }
      },
      "source": [
        "!ls '/content/drive/My Drive'"
      ],
      "execution_count": 124,
      "outputs": [
        {
          "output_type": "stream",
          "text": [
            " case-study-sample.gdoc\t\t\t   'Computer Network'\n",
            " CG\t\t\t\t\t    Datasets\n",
            "'Ch04-Digital Transmission.gslides'\t   'Endnote X8'\n",
            "'Ch05-Analog Transmission.gslides'\t    flower.csv\n",
            " Ch06-BWutilization-Mux-Spreading.gslides   OOAD_Final\n",
            " Ch07-TxmMedia.gslides\t\t\t   'Project Management'\n",
            " Ch08-Switching-Forouzan.gslides\t    Resume.gdoc\n",
            " Ch10-ErrorDetCorrection.gslides\t   'Software engineering'\n",
            " COA\t\t\t\t\t    stock_price.csv\n",
            "'Colab Notebooks'\n"
          ],
          "name": "stdout"
        }
      ]
    },
    {
      "cell_type": "code",
      "metadata": {
        "id": "slJGLmZ-Ci0T",
        "colab_type": "code",
        "colab": {}
      },
      "source": [
        "import tensorflow as tf\n",
        "import pandas as pd\n",
        "from matplotlib import pyplot as plt\n",
        "import numpy as np\n",
        "import keras.backend as K\n",
        "import keras"
      ],
      "execution_count": 0,
      "outputs": []
    },
    {
      "cell_type": "code",
      "metadata": {
        "id": "uhdgmr4DESxH",
        "colab_type": "code",
        "colab": {}
      },
      "source": [
        "df=pd.read_csv('/content/drive/My Drive/Datasets/train.csv')"
      ],
      "execution_count": 0,
      "outputs": []
    },
    {
      "cell_type": "code",
      "metadata": {
        "id": "wHmZqftzEt0V",
        "colab_type": "code",
        "outputId": "31e50aa4-426a-459a-f210-d32d8a2bae70",
        "colab": {
          "base_uri": "https://localhost:8080/",
          "height": 343
        }
      },
      "source": [
        "df.head(10)"
      ],
      "execution_count": 127,
      "outputs": [
        {
          "output_type": "execute_result",
          "data": {
            "text/html": [
              "<div>\n",
              "<style scoped>\n",
              "    .dataframe tbody tr th:only-of-type {\n",
              "        vertical-align: middle;\n",
              "    }\n",
              "\n",
              "    .dataframe tbody tr th {\n",
              "        vertical-align: top;\n",
              "    }\n",
              "\n",
              "    .dataframe thead th {\n",
              "        text-align: right;\n",
              "    }\n",
              "</style>\n",
              "<table border=\"1\" class=\"dataframe\">\n",
              "  <thead>\n",
              "    <tr style=\"text-align: right;\">\n",
              "      <th></th>\n",
              "      <th>id</th>\n",
              "      <th>qid1</th>\n",
              "      <th>qid2</th>\n",
              "      <th>question1</th>\n",
              "      <th>question2</th>\n",
              "      <th>is_duplicate</th>\n",
              "    </tr>\n",
              "  </thead>\n",
              "  <tbody>\n",
              "    <tr>\n",
              "      <th>0</th>\n",
              "      <td>0</td>\n",
              "      <td>1</td>\n",
              "      <td>2</td>\n",
              "      <td>What is the step by step guide to invest in sh...</td>\n",
              "      <td>What is the step by step guide to invest in sh...</td>\n",
              "      <td>0</td>\n",
              "    </tr>\n",
              "    <tr>\n",
              "      <th>1</th>\n",
              "      <td>1</td>\n",
              "      <td>3</td>\n",
              "      <td>4</td>\n",
              "      <td>What is the story of Kohinoor (Koh-i-Noor) Dia...</td>\n",
              "      <td>What would happen if the Indian government sto...</td>\n",
              "      <td>0</td>\n",
              "    </tr>\n",
              "    <tr>\n",
              "      <th>2</th>\n",
              "      <td>2</td>\n",
              "      <td>5</td>\n",
              "      <td>6</td>\n",
              "      <td>How can I increase the speed of my internet co...</td>\n",
              "      <td>How can Internet speed be increased by hacking...</td>\n",
              "      <td>0</td>\n",
              "    </tr>\n",
              "    <tr>\n",
              "      <th>3</th>\n",
              "      <td>3</td>\n",
              "      <td>7</td>\n",
              "      <td>8</td>\n",
              "      <td>Why am I mentally very lonely? How can I solve...</td>\n",
              "      <td>Find the remainder when [math]23^{24}[/math] i...</td>\n",
              "      <td>0</td>\n",
              "    </tr>\n",
              "    <tr>\n",
              "      <th>4</th>\n",
              "      <td>4</td>\n",
              "      <td>9</td>\n",
              "      <td>10</td>\n",
              "      <td>Which one dissolve in water quikly sugar, salt...</td>\n",
              "      <td>Which fish would survive in salt water?</td>\n",
              "      <td>0</td>\n",
              "    </tr>\n",
              "    <tr>\n",
              "      <th>5</th>\n",
              "      <td>5</td>\n",
              "      <td>11</td>\n",
              "      <td>12</td>\n",
              "      <td>Astrology: I am a Capricorn Sun Cap moon and c...</td>\n",
              "      <td>I'm a triple Capricorn (Sun, Moon and ascendan...</td>\n",
              "      <td>1</td>\n",
              "    </tr>\n",
              "    <tr>\n",
              "      <th>6</th>\n",
              "      <td>6</td>\n",
              "      <td>13</td>\n",
              "      <td>14</td>\n",
              "      <td>Should I buy tiago?</td>\n",
              "      <td>What keeps childern active and far from phone ...</td>\n",
              "      <td>0</td>\n",
              "    </tr>\n",
              "    <tr>\n",
              "      <th>7</th>\n",
              "      <td>7</td>\n",
              "      <td>15</td>\n",
              "      <td>16</td>\n",
              "      <td>How can I be a good geologist?</td>\n",
              "      <td>What should I do to be a great geologist?</td>\n",
              "      <td>1</td>\n",
              "    </tr>\n",
              "    <tr>\n",
              "      <th>8</th>\n",
              "      <td>8</td>\n",
              "      <td>17</td>\n",
              "      <td>18</td>\n",
              "      <td>When do you use シ instead of し?</td>\n",
              "      <td>When do you use \"&amp;\" instead of \"and\"?</td>\n",
              "      <td>0</td>\n",
              "    </tr>\n",
              "    <tr>\n",
              "      <th>9</th>\n",
              "      <td>9</td>\n",
              "      <td>19</td>\n",
              "      <td>20</td>\n",
              "      <td>Motorola (company): Can I hack my Charter Moto...</td>\n",
              "      <td>How do I hack Motorola DCX3400 for free internet?</td>\n",
              "      <td>0</td>\n",
              "    </tr>\n",
              "  </tbody>\n",
              "</table>\n",
              "</div>"
            ],
            "text/plain": [
              "   id  qid1  ...                                          question2 is_duplicate\n",
              "0   0     1  ...  What is the step by step guide to invest in sh...            0\n",
              "1   1     3  ...  What would happen if the Indian government sto...            0\n",
              "2   2     5  ...  How can Internet speed be increased by hacking...            0\n",
              "3   3     7  ...  Find the remainder when [math]23^{24}[/math] i...            0\n",
              "4   4     9  ...            Which fish would survive in salt water?            0\n",
              "5   5    11  ...  I'm a triple Capricorn (Sun, Moon and ascendan...            1\n",
              "6   6    13  ...  What keeps childern active and far from phone ...            0\n",
              "7   7    15  ...          What should I do to be a great geologist?            1\n",
              "8   8    17  ...              When do you use \"&\" instead of \"and\"?            0\n",
              "9   9    19  ...  How do I hack Motorola DCX3400 for free internet?            0\n",
              "\n",
              "[10 rows x 6 columns]"
            ]
          },
          "metadata": {
            "tags": []
          },
          "execution_count": 127
        }
      ]
    },
    {
      "cell_type": "code",
      "metadata": {
        "id": "JmwmXpUjQS8N",
        "colab_type": "code",
        "outputId": "c8851a10-c27c-47a3-b0e5-4772dfd13d28",
        "colab": {
          "base_uri": "https://localhost:8080/",
          "height": 195
        }
      },
      "source": [
        "df.head()"
      ],
      "execution_count": 128,
      "outputs": [
        {
          "output_type": "execute_result",
          "data": {
            "text/html": [
              "<div>\n",
              "<style scoped>\n",
              "    .dataframe tbody tr th:only-of-type {\n",
              "        vertical-align: middle;\n",
              "    }\n",
              "\n",
              "    .dataframe tbody tr th {\n",
              "        vertical-align: top;\n",
              "    }\n",
              "\n",
              "    .dataframe thead th {\n",
              "        text-align: right;\n",
              "    }\n",
              "</style>\n",
              "<table border=\"1\" class=\"dataframe\">\n",
              "  <thead>\n",
              "    <tr style=\"text-align: right;\">\n",
              "      <th></th>\n",
              "      <th>id</th>\n",
              "      <th>qid1</th>\n",
              "      <th>qid2</th>\n",
              "      <th>question1</th>\n",
              "      <th>question2</th>\n",
              "      <th>is_duplicate</th>\n",
              "    </tr>\n",
              "  </thead>\n",
              "  <tbody>\n",
              "    <tr>\n",
              "      <th>0</th>\n",
              "      <td>0</td>\n",
              "      <td>1</td>\n",
              "      <td>2</td>\n",
              "      <td>What is the step by step guide to invest in sh...</td>\n",
              "      <td>What is the step by step guide to invest in sh...</td>\n",
              "      <td>0</td>\n",
              "    </tr>\n",
              "    <tr>\n",
              "      <th>1</th>\n",
              "      <td>1</td>\n",
              "      <td>3</td>\n",
              "      <td>4</td>\n",
              "      <td>What is the story of Kohinoor (Koh-i-Noor) Dia...</td>\n",
              "      <td>What would happen if the Indian government sto...</td>\n",
              "      <td>0</td>\n",
              "    </tr>\n",
              "    <tr>\n",
              "      <th>2</th>\n",
              "      <td>2</td>\n",
              "      <td>5</td>\n",
              "      <td>6</td>\n",
              "      <td>How can I increase the speed of my internet co...</td>\n",
              "      <td>How can Internet speed be increased by hacking...</td>\n",
              "      <td>0</td>\n",
              "    </tr>\n",
              "    <tr>\n",
              "      <th>3</th>\n",
              "      <td>3</td>\n",
              "      <td>7</td>\n",
              "      <td>8</td>\n",
              "      <td>Why am I mentally very lonely? How can I solve...</td>\n",
              "      <td>Find the remainder when [math]23^{24}[/math] i...</td>\n",
              "      <td>0</td>\n",
              "    </tr>\n",
              "    <tr>\n",
              "      <th>4</th>\n",
              "      <td>4</td>\n",
              "      <td>9</td>\n",
              "      <td>10</td>\n",
              "      <td>Which one dissolve in water quikly sugar, salt...</td>\n",
              "      <td>Which fish would survive in salt water?</td>\n",
              "      <td>0</td>\n",
              "    </tr>\n",
              "  </tbody>\n",
              "</table>\n",
              "</div>"
            ],
            "text/plain": [
              "   id  qid1  ...                                          question2 is_duplicate\n",
              "0   0     1  ...  What is the step by step guide to invest in sh...            0\n",
              "1   1     3  ...  What would happen if the Indian government sto...            0\n",
              "2   2     5  ...  How can Internet speed be increased by hacking...            0\n",
              "3   3     7  ...  Find the remainder when [math]23^{24}[/math] i...            0\n",
              "4   4     9  ...            Which fish would survive in salt water?            0\n",
              "\n",
              "[5 rows x 6 columns]"
            ]
          },
          "metadata": {
            "tags": []
          },
          "execution_count": 128
        }
      ]
    },
    {
      "cell_type": "code",
      "metadata": {
        "id": "LPA0KH6JRP2W",
        "colab_type": "code",
        "outputId": "ff968c77-a622-4b4a-be43-ae65badead1c",
        "colab": {
          "base_uri": "https://localhost:8080/",
          "height": 70
        }
      },
      "source": [
        "import re\n",
        "print('ab1c3')\n",
        "print(re.sub(r\"[a-z]\",'','ab1c3'))\n",
        "print(re.sub(r\"[^a-z]\",'','ab1c3'))"
      ],
      "execution_count": 129,
      "outputs": [
        {
          "output_type": "stream",
          "text": [
            "ab1c3\n",
            "13\n",
            "abc\n"
          ],
          "name": "stdout"
        }
      ]
    },
    {
      "cell_type": "code",
      "metadata": {
        "id": "kHBkX6jP4Y4t",
        "colab_type": "code",
        "outputId": "e256cfb8-527f-4228-ec9d-efccc4002ad5",
        "colab": {
          "base_uri": "https://localhost:8080/",
          "height": 302
        }
      },
      "source": [
        "import seaborn as sns\n",
        "sns.countplot(df['is_duplicate'],label='count')"
      ],
      "execution_count": 130,
      "outputs": [
        {
          "output_type": "execute_result",
          "data": {
            "text/plain": [
              "<matplotlib.axes._subplots.AxesSubplot at 0x7fb7b7def630>"
            ]
          },
          "metadata": {
            "tags": []
          },
          "execution_count": 130
        },
        {
          "output_type": "display_data",
          "data": {
            "image/png": "[encoded data removed]",
            "text/plain": [
              "<Figure size 432x288 with 1 Axes>"
            ]
          },
          "metadata": {
            "tags": []
          }
        }
      ]
    },
    {
      "cell_type": "code",
      "metadata": {
        "id": "QntA_TBt46Ud",
        "colab_type": "code",
        "outputId": "6c89872d-ae18-498c-c610-6bffe96ad00b",
        "colab": {
          "base_uri": "https://localhost:8080/",
          "height": 34
        }
      },
      "source": [
        "len(df[df['is_duplicate']==0])"
      ],
      "execution_count": 131,
      "outputs": [
        {
          "output_type": "execute_result",
          "data": {
            "text/plain": [
              "255027"
            ]
          },
          "metadata": {
            "tags": []
          },
          "execution_count": 131
        }
      ]
    },
    {
      "cell_type": "code",
      "metadata": {
        "id": "gaRACVFVBpGB",
        "colab_type": "code",
        "outputId": "f56ca3cc-737f-4d34-afa4-e0e39d677622",
        "colab": {
          "base_uri": "https://localhost:8080/",
          "height": 70
        }
      },
      "source": [
        "#iloc selects using index of [row,column/s] as integer values\n",
        "df.iloc[1,[3,4]]"
      ],
      "execution_count": 132,
      "outputs": [
        {
          "output_type": "execute_result",
          "data": {
            "text/plain": [
              "question1    What is the story of Kohinoor (Koh-i-Noor) Dia...\n",
              "question2    What would happen if the Indian government sto...\n",
              "Name: 1, dtype: object"
            ]
          },
          "metadata": {
            "tags": []
          },
          "execution_count": 132
        }
      ]
    },
    {
      "cell_type": "code",
      "metadata": {
        "id": "yN2RvuK1Dcev",
        "colab_type": "code",
        "outputId": "a761d8ad-022a-435f-8c0e-3f8499199358",
        "colab": {
          "base_uri": "https://localhost:8080/",
          "height": 70
        }
      },
      "source": [
        "# loc selects using index value and label name/s\n",
        "df.loc[1,['question1','question2']]"
      ],
      "execution_count": 133,
      "outputs": [
        {
          "output_type": "execute_result",
          "data": {
            "text/plain": [
              "question1    What is the story of Kohinoor (Koh-i-Noor) Dia...\n",
              "question2    What would happen if the Indian government sto...\n",
              "Name: 1, dtype: object"
            ]
          },
          "metadata": {
            "tags": []
          },
          "execution_count": 133
        }
      ]
    },
    {
      "cell_type": "code",
      "metadata": {
        "id": "BH9bxfLdKEpi",
        "colab_type": "code",
        "colab": {}
      },
      "source": [
        ""
      ],
      "execution_count": 0,
      "outputs": []
    },
    {
      "cell_type": "code",
      "metadata": {
        "id": "HFCsWfS8DsG7",
        "colab_type": "code",
        "colab": {}
      },
      "source": [
        "ques1=df.loc[:,'question1']\n",
        "# ques1=str(ques1)\n",
        "# ques1=ques1.split()\n",
        "# ques1[-2]\n"
      ],
      "execution_count": 0,
      "outputs": []
    },
    {
      "cell_type": "code",
      "metadata": {
        "id": "kcs65qYCGy7i",
        "colab_type": "code",
        "outputId": "5ae82961-9fb0-4446-8429-27db425d717b",
        "colab": {
          "base_uri": "https://localhost:8080/",
          "height": 87
        }
      },
      "source": [
        "from sklearn.model_selection import train_test_split\n",
        "\n",
        "question_cols=['question1','question2']\n",
        "\n",
        "# q1=df.question1[0:5]\n",
        "# q2=df.question2[0:5]\n",
        "\n",
        "X=df[question_cols]\n",
        "Y=df.is_duplicate\n",
        "\n",
        "# split train-test data in 80-20% ratio\n",
        "x_train,x_test,y_train,y_test = train_test_split(X, Y, test_size = 0.2, random_state=50)\n",
        "print(x_train.shape)\n",
        "print(x_test.shape)\n",
        "print(y_train.shape)\n",
        "print(y_test.shape)\n",
        "\n",
        "# Split to dicts\n",
        "x_train = {'left': x_train.question1, 'right': x_train.question2}\n",
        "x_test = {'left': x_test.question1, 'right': x_test.question2}\n",
        "\n",
        "y_train=y_train.values\n",
        "y_test=y_test.values"
      ],
      "execution_count": 135,
      "outputs": [
        {
          "output_type": "stream",
          "text": [
            "(323432, 2)\n",
            "(80858, 2)\n",
            "(323432,)\n",
            "(80858,)\n"
          ],
          "name": "stdout"
        }
      ]
    },
    {
      "cell_type": "code",
      "metadata": {
        "id": "iSg1f8CNhhv0",
        "colab_type": "code",
        "colab": {}
      },
      "source": [
        "def manhattan_distance(left,right):\n",
        "  return K.exp(-K.sum(K.abs(left-right), keepdims=True))"
      ],
      "execution_count": 0,
      "outputs": []
    },
    {
      "cell_type": "code",
      "metadata": {
        "id": "45dHIvAXIZWK",
        "colab_type": "code",
        "outputId": "79860e43-a051-405d-89af-d568d3f62436",
        "colab": {
          "base_uri": "https://localhost:8080/",
          "height": 742
        }
      },
      "source": [
        "from tensorflow.keras.layers import Input, Embedding, LSTM, Dense, concatenate, Lambda\n",
        "\n",
        "\n",
        "# input layer\n",
        "#recheck shape before training\n",
        "left_input = Input(shape = (50,), name = 'left_input')\n",
        "right_input = Input(shape = (50,), name = 'right_input')\n",
        "\n",
        "\n",
        "\n",
        "# embedding layer\n",
        "# recheck dims \n",
        "embedding_layer = Embedding(input_dim = 1000, output_dim = 300, input_length = 1000, name = 'embedding_layer')\n",
        "\n",
        "encoded_left = embedding_layer(left_input)\n",
        "encoded_right = embedding_layer(right_input)\n",
        "\n",
        "\n",
        "\n",
        "#LSTM instantiation\n",
        "# check parameter for LSTM.\n",
        "shared_lstm = LSTM(50, name = 'LSTM_layer')\n",
        "\n",
        "# shared LSTM\n",
        "left_output = shared_lstm(encoded_left)\n",
        "right_output = shared_lstm(encoded_right)\n",
        "\n",
        "\n",
        "\n",
        "\n",
        "# TODO: check output shape of the output lambda layer\n",
        "# output layer\n",
        "output_layer = Lambda(function = lambda x : manhattan_distance(x[0], x[1]))([left_output, right_output])\n",
        "\n",
        "\n",
        "\n",
        "# define above model\n",
        "model = tf.keras.Model(inputs=[left_input, right_input], outputs=output_layer)\n",
        "\n",
        "# summary of model\n",
        "print(model.summary())\n",
        "\n",
        "\n",
        "\n",
        "\n",
        "# plot graph\n",
        "\n",
        "import IPython\n",
        "from IPython.display import SVG\n",
        "\n",
        "IPython.display.SVG(keras.utils.vis_utils.model_to_dot(model).create(prog='dot', format='svg'))\n"
      ],
      "execution_count": 137,
      "outputs": [
        {
          "output_type": "stream",
          "text": [
            "__________________________________________________________________________________________________\n",
            "Layer (type)                    Output Shape         Param #     Connected to                     \n",
            "==================================================================================================\n",
            "left_input (InputLayer)         (None, 50)           0                                            \n",
            "__________________________________________________________________________________________________\n",
            "right_input (InputLayer)        (None, 50)           0                                            \n",
            "__________________________________________________________________________________________________\n",
            "embedding_layer (Embedding)     (None, 50, 300)      300000      left_input[0][0]                 \n",
            "                                                                 right_input[0][0]                \n",
            "__________________________________________________________________________________________________\n",
            "LSTM_layer (LSTM)               (None, 50)           70200       embedding_layer[0][0]            \n",
            "                                                                 embedding_layer[1][0]            \n",
            "__________________________________________________________________________________________________\n",
            "lambda_22 (Lambda)              (1, 1)               0           LSTM_layer[0][0]                 \n",
            "                                                                 LSTM_layer[1][0]                 \n",
            "==================================================================================================\n",
            "Total params: 370,200\n",
            "Trainable params: 370,200\n",
            "Non-trainable params: 0\n",
            "__________________________________________________________________________________________________\n",
            "None\n"
          ],
          "name": "stdout"
        },
        {
          "output_type": "execute_result",
          "data": {
            "text/plain": [
              "<IPython.core.display.SVG object>"
            ],
            "image/svg+xml": "<svg height=\"264pt\" viewBox=\"0.00 0.00 321.50 264.00\" width=\"322pt\" xmlns=\"http://www.w3.org/2000/svg\" xmlns:xlink=\"http://www.w3.org/1999/xlink\">\n<g class=\"graph\" id=\"graph0\" transform=\"scale(1 1) rotate(0) translate(4 260)\">\n<title>G</title>\n<polygon fill=\"#ffffff\" points=\"-4,4 -4,-260 317.5,-260 317.5,4 -4,4\" stroke=\"transparent\"/>\n<!-- 140427015376968 -->\n<g class=\"node\" id=\"node1\">\n<title>140427015376968</title>\n<polygon fill=\"none\" points=\"0,-219.5 0,-255.5 143,-255.5 143,-219.5 0,-219.5\" stroke=\"#000000\"/>\n<text fill=\"#000000\" font-family=\"Times,serif\" font-size=\"14.00\" text-anchor=\"middle\" x=\"71.5\" y=\"-233.8\">left_input: InputLayer</text>\n</g>\n<!-- 140427015378144 -->\n<g class=\"node\" id=\"node3\">\n<title>140427015378144</title>\n<polygon fill=\"none\" points=\"59,-146.5 59,-182.5 250,-182.5 250,-146.5 59,-146.5\" stroke=\"#000000\"/>\n<text fill=\"#000000\" font-family=\"Times,serif\" font-size=\"14.00\" text-anchor=\"middle\" x=\"154.5\" y=\"-160.8\">embedding_layer: Embedding</text>\n</g>\n<!-- 140427015376968&#45;&gt;140427015378144 -->\n<g class=\"edge\" id=\"edge1\">\n<title>140427015376968-&gt;140427015378144</title>\n<path d=\"M92.0169,-219.4551C102.392,-210.3299 115.1416,-199.1165 126.4123,-189.2036\" fill=\"none\" stroke=\"#000000\"/>\n<polygon fill=\"#000000\" points=\"128.7341,-191.8228 133.9315,-182.5904 124.1111,-186.5665 128.7341,-191.8228\" stroke=\"#000000\"/>\n</g>\n<!-- 140427015377136 -->\n<g class=\"node\" id=\"node2\">\n<title>140427015377136</title>\n<polygon fill=\"none\" points=\"161.5,-219.5 161.5,-255.5 313.5,-255.5 313.5,-219.5 161.5,-219.5\" stroke=\"#000000\"/>\n<text fill=\"#000000\" font-family=\"Times,serif\" font-size=\"14.00\" text-anchor=\"middle\" x=\"237.5\" y=\"-233.8\">right_input: InputLayer</text>\n</g>\n<!-- 140427015377136&#45;&gt;140427015378144 -->\n<g class=\"edge\" id=\"edge2\">\n<title>140427015377136-&gt;140427015378144</title>\n<path d=\"M216.9831,-219.4551C206.608,-210.3299 193.8584,-199.1165 182.5877,-189.2036\" fill=\"none\" stroke=\"#000000\"/>\n<polygon fill=\"#000000\" points=\"184.8889,-186.5665 175.0685,-182.5904 180.2659,-191.8228 184.8889,-186.5665\" stroke=\"#000000\"/>\n</g>\n<!-- 140427100428160 -->\n<g class=\"node\" id=\"node4\">\n<title>140427100428160</title>\n<polygon fill=\"none\" points=\"86,-73.5 86,-109.5 223,-109.5 223,-73.5 86,-73.5\" stroke=\"#000000\"/>\n<text fill=\"#000000\" font-family=\"Times,serif\" font-size=\"14.00\" text-anchor=\"middle\" x=\"154.5\" y=\"-87.8\">LSTM_layer: LSTM</text>\n</g>\n<!-- 140427015378144&#45;&gt;140427100428160 -->\n<g class=\"edge\" id=\"edge3\">\n<title>140427015378144-&gt;140427100428160</title>\n<path d=\"M154.5,-146.4551C154.5,-138.3828 154.5,-128.6764 154.5,-119.6817\" fill=\"none\" stroke=\"#000000\"/>\n<polygon fill=\"#000000\" points=\"158.0001,-119.5903 154.5,-109.5904 151.0001,-119.5904 158.0001,-119.5903\" stroke=\"#000000\"/>\n</g>\n<!-- 140427099074512 -->\n<g class=\"node\" id=\"node5\">\n<title>140427099074512</title>\n<polygon fill=\"none\" points=\"86.5,-.5 86.5,-36.5 222.5,-36.5 222.5,-.5 86.5,-.5\" stroke=\"#000000\"/>\n<text fill=\"#000000\" font-family=\"Times,serif\" font-size=\"14.00\" text-anchor=\"middle\" x=\"154.5\" y=\"-14.8\">lambda_22: Lambda</text>\n</g>\n<!-- 140427100428160&#45;&gt;140427099074512 -->\n<g class=\"edge\" id=\"edge5\">\n<title>140427100428160-&gt;140427099074512</title>\n<path d=\"M154.5,-73.4551C154.5,-65.3828 154.5,-55.6764 154.5,-46.6817\" fill=\"none\" stroke=\"#000000\"/>\n<polygon fill=\"#000000\" points=\"158.0001,-46.5903 154.5,-36.5904 151.0001,-46.5904 158.0001,-46.5903\" stroke=\"#000000\"/>\n</g>\n</g>\n</svg>"
          },
          "metadata": {
            "tags": []
          },
          "execution_count": 137
        }
      ]
    },
    {
      "cell_type": "code",
      "metadata": {
        "id": "MfEoErm5rKR7",
        "colab_type": "code",
        "colab": {}
      },
      "source": [
        "# compile the model\n",
        "from time import time\n",
        "from tensorflow.keras.optimizers import Adadelta\n",
        "from keras.callbacks import TensorBoard\n",
        "LOG_DIR=\"/root/logs\"\n",
        "tensorboard = TensorBoard(log_dir=LOG_DIR.format(time()))\n",
        "\n",
        "# optimizer = Adadelta(clipnorm = 1.25)\n",
        "model.compile(optimizer = Adadelta(clipnorm = 1.25), loss = 'binary_crossentropy', metrics = ['accuracy'])\n",
        "\n",
        "# train (fit) the model\n",
        "# hist = model.fit([x_train['left'], x_train['right']], y_train, epochs=5, shuffle=True, validation_data=([x_test['left'], x_test['right']], y_test), callbacks=[tensorboard])\n",
        "# print(hist.history)\n",
        "\n",
        "# # Plot training & validation accuracy values\n",
        "# plt.plot(history.history['acc'])\n",
        "# plt.plot(history.history['val_acc'])\n",
        "# plt.title('Model accuracy')\n",
        "# plt.ylabel('Accuracy')\n",
        "# plt.xlabel('Epoch')\n",
        "# plt.legend(['Train', 'Test'], loc='upper left')\n",
        "# plt.show()\n",
        "\n",
        "# # Plot training & validation loss values\n",
        "# plt.plot(history.history['loss'])\n",
        "# plt.plot(history.history['val_loss'])\n",
        "# plt.title('Model loss')\n",
        "# plt.ylabel('Loss')\n",
        "# plt.xlabel('Epoch')\n",
        "# plt.legend(['Train', 'Test'], loc='upper left')\n",
        "# plt.show()"
      ],
      "execution_count": 0,
      "outputs": []
    },
    {
      "cell_type": "code",
      "metadata": {
        "id": "JEks7d-D0HSv",
        "colab_type": "code",
        "outputId": "eed2f653-260a-46d6-8a5b-cffdc7ea5222",
        "colab": {
          "base_uri": "https://localhost:8080/",
          "height": 87
        }
      },
      "source": [
        "txt='A IS a dog a is.'\n",
        "\n",
        "from tensorflow.keras.preprocessing.text import text_to_word_sequence,Tokenizer,one_hot,hashing_trick\n",
        "print(txt)\n",
        "# tokenizer=Tokenizer(lower=True, split=' ')\n",
        "print(text_to_word_sequence(txt,lower=True, split=' '))\n",
        "print(hashing_trick(txt,n=10,lower=True,split=' '))\n",
        "print(one_hot(txt,n=10,lower=True,split=' '))"
      ],
      "execution_count": 139,
      "outputs": [
        {
          "output_type": "stream",
          "text": [
            "A IS a dog a is.\n",
            "['a', 'is', 'a', 'dog', 'a', 'is']\n",
            "[9, 7, 9, 9, 9, 7]\n",
            "[9, 7, 9, 9, 9, 7]\n"
          ],
          "name": "stdout"
        }
      ]
    },
    {
      "cell_type": "code",
      "metadata": {
        "id": "mOJyssKKgA0B",
        "colab_type": "code",
        "colab": {}
      },
      "source": [
        "def text_to_token(text):\n",
        "  text=str(text)\n",
        "  text=text.lower()\n",
        "  text=text.split()\n",
        "  \n",
        "  return text"
      ],
      "execution_count": 0,
      "outputs": []
    },
    {
      "cell_type": "code",
      "metadata": {
        "id": "VjJh9IJ7gJXZ",
        "colab_type": "code",
        "outputId": "7a0fc894-c57c-49f0-b8a4-5cfbf225b29f",
        "colab": {
          "base_uri": "https://localhost:8080/",
          "height": 34
        }
      },
      "source": [
        "# for i in range(len(q1)):\n",
        "#   print(text_to_token(q1[i])) \n",
        "\n",
        "a=['asdfafd']\n",
        "b='zzzz'\n",
        "a.append(b)\n",
        "print(a)"
      ],
      "execution_count": 141,
      "outputs": [
        {
          "output_type": "stream",
          "text": [
            "['asdfafd', 'zzzz']\n"
          ],
          "name": "stdout"
        }
      ]
    },
    {
      "cell_type": "code",
      "metadata": {
        "id": "1nR21ej6t5Kg",
        "colab_type": "code",
        "colab": {
          "base_uri": "https://localhost:8080/",
          "height": 52
        },
        "outputId": "f9e166db-4c2e-4b93-8c21-ab6c148b9592"
      },
      "source": [
        "import math\n",
        "z=0\n",
        "print(\"normal expornent\",math.exp(-z))\n",
        "print(\"inverse expornent\",1/1-math.exp(-z))\n",
        "# print(k.exp(-5.1))\n"
      ],
      "execution_count": 142,
      "outputs": [
        {
          "output_type": "stream",
          "text": [
            "normal expornent 1.0\n",
            "inverse expornent 0.0\n"
          ],
          "name": "stdout"
        }
      ]
    },
    {
      "cell_type": "code",
      "metadata": {
        "id": "pONBNKAyH0rx",
        "colab_type": "code",
        "colab": {}
      },
      "source": [
        "# dis=lambda m:m[0]+m[1]\n",
        "# dis=lambda m: (m[0][0], 1)\n",
        "# dis([2.222,4.444])"
      ],
      "execution_count": 0,
      "outputs": []
    },
    {
      "cell_type": "code",
      "metadata": {
        "id": "0ff-0Xmudm7z",
        "colab_type": "code",
        "colab": {}
      },
      "source": [
        ""
      ],
      "execution_count": 0,
      "outputs": []
    }
  ]
}
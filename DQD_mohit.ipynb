{
  "nbformat": 4,
  "nbformat_minor": 0,
  "metadata": {
    "colab": {
      "name": "DQD_mohit.ipynb",
      "version": "0.3.2",
      "provenance": [],
      "collapsed_sections": [],
      "include_colab_link": true
    },
    "kernelspec": {
      "name": "python3",
      "display_name": "Python 3"
    },
    "accelerator": "GPU"
  },
  "cells": [
    {
      "cell_type": "markdown",
      "metadata": {
        "id": "view-in-github",
        "colab_type": "text"
      },
      "source": [
        "<a href=\"https://colab.research.google.com/github/MohitDhungana/duplicate_question_detection/blob/master/DQD_mohit.ipynb\" target=\"_parent\"><img src=\"https://colab.research.google.com/assets/colab-badge.svg\" alt=\"Open In Colab\"/></a>"
      ]
    },
    {
      "cell_type": "code",
      "metadata": {
        "id": "v1inEJB4nYz9",
        "colab_type": "code",
        "outputId": "798041d8-967d-4e2d-fc62-a8d63016d1d4",
        "colab": {
          "base_uri": "https://localhost:8080/",
          "height": 34
        }
      },
      "source": [
        "print(\"TEST COLAB AND GITHUB INTEGRATION\")"
      ],
      "execution_count": 1,
      "outputs": [
        {
          "output_type": "stream",
          "text": [
            "TEST COLAB AND GITHUB INTEGRATION\n"
          ],
          "name": "stdout"
        }
      ]
    },
    {
      "cell_type": "code",
      "metadata": {
        "id": "GfH5THzI5W5u",
        "colab_type": "code",
        "outputId": "fa0c03dd-50d1-4f6c-eb34-b1706f33682e",
        "colab": {
          "base_uri": "https://localhost:8080/",
          "height": 125
        }
      },
      "source": [
        "from google.colab import drive\n",
        "drive.mount('/content/drive', force_remount=True)"
      ],
      "execution_count": 2,
      "outputs": [
        {
          "output_type": "stream",
          "text": [
            "Go to this URL in a browser: https://accounts.google.com/o/oauth2/auth?client_id=947318989803-6bn6qk8qdgf4n4g3pfee6491hc0brc4i.apps.googleusercontent.com&redirect_uri=urn%3Aietf%3Awg%3Aoauth%3A2.0%3Aoob&scope=email%20https%3A%2F%2Fwww.googleapis.com%2Fauth%2Fdocs.test%20https%3A%2F%2Fwww.googleapis.com%2Fauth%2Fdrive%20https%3A%2F%2Fwww.googleapis.com%2Fauth%2Fdrive.photos.readonly%20https%3A%2F%2Fwww.googleapis.com%2Fauth%2Fpeopleapi.readonly&response_type=code\n",
            "\n",
            "Enter your authorization code:\n",
            "··········\n",
            "Mounted at /content/drive\n"
          ],
          "name": "stdout"
        }
      ]
    },
    {
      "cell_type": "code",
      "metadata": {
        "id": "HC73OLu4CbLy",
        "colab_type": "code",
        "outputId": "2c4268f7-58e8-46df-f542-e0b76f19cf8d",
        "colab": {
          "base_uri": "https://localhost:8080/",
          "height": 193
        }
      },
      "source": [
        "!ls '/content/drive/My Drive'"
      ],
      "execution_count": 3,
      "outputs": [
        {
          "output_type": "stream",
          "text": [
            " case-study-sample.gdoc\t\t\t   'Computer Network'\n",
            " CG\t\t\t\t\t    Datasets\n",
            "'Ch04-Digital Transmission.gslides'\t   'Endnote X8'\n",
            "'Ch05-Analog Transmission.gslides'\t    flower.csv\n",
            " Ch06-BWutilization-Mux-Spreading.gslides   OOAD_Final\n",
            " Ch07-TxmMedia.gslides\t\t\t   'Project Management'\n",
            " Ch08-Switching-Forouzan.gslides\t    Resume.gdoc\n",
            " Ch10-ErrorDetCorrection.gslides\t   'Software engineering'\n",
            " COA\t\t\t\t\t    stock_price.csv\n",
            "'Colab Notebooks'\n"
          ],
          "name": "stdout"
        }
      ]
    },
    {
      "cell_type": "code",
      "metadata": {
        "id": "slJGLmZ-Ci0T",
        "colab_type": "code",
        "colab": {}
      },
      "source": [
        "import tensorflow as tf\n",
        "import pandas as pd\n",
        "from matplotlib import pyplot as plt\n",
        "import numpy as np\n",
        "import keras.backend as K\n",
        "import keras"
      ],
      "execution_count": 0,
      "outputs": []
    },
    {
      "cell_type": "code",
      "metadata": {
        "id": "uhdgmr4DESxH",
        "colab_type": "code",
        "colab": {}
      },
      "source": [
        "df=pd.read_csv('/content/drive/My Drive/Datasets/train.csv')"
      ],
      "execution_count": 0,
      "outputs": []
    },
    {
      "cell_type": "code",
      "metadata": {
        "id": "wHmZqftzEt0V",
        "colab_type": "code",
        "outputId": "7725c706-562b-43a7-e3df-4ef507042fc2",
        "colab": {
          "base_uri": "https://localhost:8080/",
          "height": 343
        }
      },
      "source": [
        "df.head(10)"
      ],
      "execution_count": 6,
      "outputs": [
        {
          "output_type": "execute_result",
          "data": {
            "text/html": [
              "<div>\n",
              "<style scoped>\n",
              "    .dataframe tbody tr th:only-of-type {\n",
              "        vertical-align: middle;\n",
              "    }\n",
              "\n",
              "    .dataframe tbody tr th {\n",
              "        vertical-align: top;\n",
              "    }\n",
              "\n",
              "    .dataframe thead th {\n",
              "        text-align: right;\n",
              "    }\n",
              "</style>\n",
              "<table border=\"1\" class=\"dataframe\">\n",
              "  <thead>\n",
              "    <tr style=\"text-align: right;\">\n",
              "      <th></th>\n",
              "      <th>id</th>\n",
              "      <th>qid1</th>\n",
              "      <th>qid2</th>\n",
              "      <th>question1</th>\n",
              "      <th>question2</th>\n",
              "      <th>is_duplicate</th>\n",
              "    </tr>\n",
              "  </thead>\n",
              "  <tbody>\n",
              "    <tr>\n",
              "      <th>0</th>\n",
              "      <td>0</td>\n",
              "      <td>1</td>\n",
              "      <td>2</td>\n",
              "      <td>What is the step by step guide to invest in sh...</td>\n",
              "      <td>What is the step by step guide to invest in sh...</td>\n",
              "      <td>0</td>\n",
              "    </tr>\n",
              "    <tr>\n",
              "      <th>1</th>\n",
              "      <td>1</td>\n",
              "      <td>3</td>\n",
              "      <td>4</td>\n",
              "      <td>What is the story of Kohinoor (Koh-i-Noor) Dia...</td>\n",
              "      <td>What would happen if the Indian government sto...</td>\n",
              "      <td>0</td>\n",
              "    </tr>\n",
              "    <tr>\n",
              "      <th>2</th>\n",
              "      <td>2</td>\n",
              "      <td>5</td>\n",
              "      <td>6</td>\n",
              "      <td>How can I increase the speed of my internet co...</td>\n",
              "      <td>How can Internet speed be increased by hacking...</td>\n",
              "      <td>0</td>\n",
              "    </tr>\n",
              "    <tr>\n",
              "      <th>3</th>\n",
              "      <td>3</td>\n",
              "      <td>7</td>\n",
              "      <td>8</td>\n",
              "      <td>Why am I mentally very lonely? How can I solve...</td>\n",
              "      <td>Find the remainder when [math]23^{24}[/math] i...</td>\n",
              "      <td>0</td>\n",
              "    </tr>\n",
              "    <tr>\n",
              "      <th>4</th>\n",
              "      <td>4</td>\n",
              "      <td>9</td>\n",
              "      <td>10</td>\n",
              "      <td>Which one dissolve in water quikly sugar, salt...</td>\n",
              "      <td>Which fish would survive in salt water?</td>\n",
              "      <td>0</td>\n",
              "    </tr>\n",
              "    <tr>\n",
              "      <th>5</th>\n",
              "      <td>5</td>\n",
              "      <td>11</td>\n",
              "      <td>12</td>\n",
              "      <td>Astrology: I am a Capricorn Sun Cap moon and c...</td>\n",
              "      <td>I'm a triple Capricorn (Sun, Moon and ascendan...</td>\n",
              "      <td>1</td>\n",
              "    </tr>\n",
              "    <tr>\n",
              "      <th>6</th>\n",
              "      <td>6</td>\n",
              "      <td>13</td>\n",
              "      <td>14</td>\n",
              "      <td>Should I buy tiago?</td>\n",
              "      <td>What keeps childern active and far from phone ...</td>\n",
              "      <td>0</td>\n",
              "    </tr>\n",
              "    <tr>\n",
              "      <th>7</th>\n",
              "      <td>7</td>\n",
              "      <td>15</td>\n",
              "      <td>16</td>\n",
              "      <td>How can I be a good geologist?</td>\n",
              "      <td>What should I do to be a great geologist?</td>\n",
              "      <td>1</td>\n",
              "    </tr>\n",
              "    <tr>\n",
              "      <th>8</th>\n",
              "      <td>8</td>\n",
              "      <td>17</td>\n",
              "      <td>18</td>\n",
              "      <td>When do you use シ instead of し?</td>\n",
              "      <td>When do you use \"&amp;\" instead of \"and\"?</td>\n",
              "      <td>0</td>\n",
              "    </tr>\n",
              "    <tr>\n",
              "      <th>9</th>\n",
              "      <td>9</td>\n",
              "      <td>19</td>\n",
              "      <td>20</td>\n",
              "      <td>Motorola (company): Can I hack my Charter Moto...</td>\n",
              "      <td>How do I hack Motorola DCX3400 for free internet?</td>\n",
              "      <td>0</td>\n",
              "    </tr>\n",
              "  </tbody>\n",
              "</table>\n",
              "</div>"
            ],
            "text/plain": [
              "   id  qid1  ...                                          question2 is_duplicate\n",
              "0   0     1  ...  What is the step by step guide to invest in sh...            0\n",
              "1   1     3  ...  What would happen if the Indian government sto...            0\n",
              "2   2     5  ...  How can Internet speed be increased by hacking...            0\n",
              "3   3     7  ...  Find the remainder when [math]23^{24}[/math] i...            0\n",
              "4   4     9  ...            Which fish would survive in salt water?            0\n",
              "5   5    11  ...  I'm a triple Capricorn (Sun, Moon and ascendan...            1\n",
              "6   6    13  ...  What keeps childern active and far from phone ...            0\n",
              "7   7    15  ...          What should I do to be a great geologist?            1\n",
              "8   8    17  ...              When do you use \"&\" instead of \"and\"?            0\n",
              "9   9    19  ...  How do I hack Motorola DCX3400 for free internet?            0\n",
              "\n",
              "[10 rows x 6 columns]"
            ]
          },
          "metadata": {
            "tags": []
          },
          "execution_count": 6
        }
      ]
    },
    {
      "cell_type": "code",
      "metadata": {
        "id": "JmwmXpUjQS8N",
        "colab_type": "code",
        "outputId": "eeb0beb7-69f2-43b3-8379-529b04d949b3",
        "colab": {
          "base_uri": "https://localhost:8080/",
          "height": 195
        }
      },
      "source": [
        "df.head()"
      ],
      "execution_count": 7,
      "outputs": [
        {
          "output_type": "execute_result",
          "data": {
            "text/html": [
              "<div>\n",
              "<style scoped>\n",
              "    .dataframe tbody tr th:only-of-type {\n",
              "        vertical-align: middle;\n",
              "    }\n",
              "\n",
              "    .dataframe tbody tr th {\n",
              "        vertical-align: top;\n",
              "    }\n",
              "\n",
              "    .dataframe thead th {\n",
              "        text-align: right;\n",
              "    }\n",
              "</style>\n",
              "<table border=\"1\" class=\"dataframe\">\n",
              "  <thead>\n",
              "    <tr style=\"text-align: right;\">\n",
              "      <th></th>\n",
              "      <th>id</th>\n",
              "      <th>qid1</th>\n",
              "      <th>qid2</th>\n",
              "      <th>question1</th>\n",
              "      <th>question2</th>\n",
              "      <th>is_duplicate</th>\n",
              "    </tr>\n",
              "  </thead>\n",
              "  <tbody>\n",
              "    <tr>\n",
              "      <th>0</th>\n",
              "      <td>0</td>\n",
              "      <td>1</td>\n",
              "      <td>2</td>\n",
              "      <td>What is the step by step guide to invest in sh...</td>\n",
              "      <td>What is the step by step guide to invest in sh...</td>\n",
              "      <td>0</td>\n",
              "    </tr>\n",
              "    <tr>\n",
              "      <th>1</th>\n",
              "      <td>1</td>\n",
              "      <td>3</td>\n",
              "      <td>4</td>\n",
              "      <td>What is the story of Kohinoor (Koh-i-Noor) Dia...</td>\n",
              "      <td>What would happen if the Indian government sto...</td>\n",
              "      <td>0</td>\n",
              "    </tr>\n",
              "    <tr>\n",
              "      <th>2</th>\n",
              "      <td>2</td>\n",
              "      <td>5</td>\n",
              "      <td>6</td>\n",
              "      <td>How can I increase the speed of my internet co...</td>\n",
              "      <td>How can Internet speed be increased by hacking...</td>\n",
              "      <td>0</td>\n",
              "    </tr>\n",
              "    <tr>\n",
              "      <th>3</th>\n",
              "      <td>3</td>\n",
              "      <td>7</td>\n",
              "      <td>8</td>\n",
              "      <td>Why am I mentally very lonely? How can I solve...</td>\n",
              "      <td>Find the remainder when [math]23^{24}[/math] i...</td>\n",
              "      <td>0</td>\n",
              "    </tr>\n",
              "    <tr>\n",
              "      <th>4</th>\n",
              "      <td>4</td>\n",
              "      <td>9</td>\n",
              "      <td>10</td>\n",
              "      <td>Which one dissolve in water quikly sugar, salt...</td>\n",
              "      <td>Which fish would survive in salt water?</td>\n",
              "      <td>0</td>\n",
              "    </tr>\n",
              "  </tbody>\n",
              "</table>\n",
              "</div>"
            ],
            "text/plain": [
              "   id  qid1  ...                                          question2 is_duplicate\n",
              "0   0     1  ...  What is the step by step guide to invest in sh...            0\n",
              "1   1     3  ...  What would happen if the Indian government sto...            0\n",
              "2   2     5  ...  How can Internet speed be increased by hacking...            0\n",
              "3   3     7  ...  Find the remainder when [math]23^{24}[/math] i...            0\n",
              "4   4     9  ...            Which fish would survive in salt water?            0\n",
              "\n",
              "[5 rows x 6 columns]"
            ]
          },
          "metadata": {
            "tags": []
          },
          "execution_count": 7
        }
      ]
    },
    {
      "cell_type": "code",
      "metadata": {
        "id": "LPA0KH6JRP2W",
        "colab_type": "code",
        "outputId": "7956e57e-ec1d-4430-c7f9-22e33d8badd2",
        "colab": {
          "base_uri": "https://localhost:8080/",
          "height": 70
        }
      },
      "source": [
        "import re\n",
        "print('ab1c3')\n",
        "print(re.sub(r\"[a-z]\",'','ab1c3'))\n",
        "print(re.sub(r\"[^a-z]\",'','ab1c3'))"
      ],
      "execution_count": 8,
      "outputs": [
        {
          "output_type": "stream",
          "text": [
            "ab1c3\n",
            "13\n",
            "abc\n"
          ],
          "name": "stdout"
        }
      ]
    },
    {
      "cell_type": "code",
      "metadata": {
        "id": "kHBkX6jP4Y4t",
        "colab_type": "code",
        "outputId": "08949509-a64b-406c-f391-1f93cd6ffcd9",
        "colab": {
          "base_uri": "https://localhost:8080/",
          "height": 302
        }
      },
      "source": [
        "import seaborn as sns\n",
        "sns.countplot(df['is_duplicate'],label='count')"
      ],
      "execution_count": 9,
      "outputs": [
        {
          "output_type": "execute_result",
          "data": {
            "text/plain": [
              "<matplotlib.axes._subplots.AxesSubplot at 0x7fb7cb0dfd68>"
            ]
          },
          "metadata": {
            "tags": []
          },
          "execution_count": 9
        },
        {
          "output_type": "display_data",
          "data": {
            "image/png": "[encoded data removed]",
            "text/plain": [
              "<Figure size 432x288 with 1 Axes>"
            ]
          },
          "metadata": {
            "tags": []
          }
        }
      ]
    },
    {
      "cell_type": "code",
      "metadata": {
        "id": "QntA_TBt46Ud",
        "colab_type": "code",
        "outputId": "dec589b7-08c9-4b73-baba-1bfe9d4d4a94",
        "colab": {
          "base_uri": "https://localhost:8080/",
          "height": 34
        }
      },
      "source": [
        "len(df[df['is_duplicate']==0])"
      ],
      "execution_count": 10,
      "outputs": [
        {
          "output_type": "execute_result",
          "data": {
            "text/plain": [
              "255027"
            ]
          },
          "metadata": {
            "tags": []
          },
          "execution_count": 10
        }
      ]
    },
    {
      "cell_type": "code",
      "metadata": {
        "id": "gaRACVFVBpGB",
        "colab_type": "code",
        "outputId": "1e19499d-bf6e-45b9-9217-82b5ce19e652",
        "colab": {
          "base_uri": "https://localhost:8080/",
          "height": 70
        }
      },
      "source": [
        "#iloc selects using index of [row,column/s] as integer values\n",
        "df.iloc[1,[3,4]]"
      ],
      "execution_count": 11,
      "outputs": [
        {
          "output_type": "execute_result",
          "data": {
            "text/plain": [
              "question1    What is the story of Kohinoor (Koh-i-Noor) Dia...\n",
              "question2    What would happen if the Indian government sto...\n",
              "Name: 1, dtype: object"
            ]
          },
          "metadata": {
            "tags": []
          },
          "execution_count": 11
        }
      ]
    },
    {
      "cell_type": "code",
      "metadata": {
        "id": "yN2RvuK1Dcev",
        "colab_type": "code",
        "outputId": "0cb6b5ec-6eb5-42b7-ea7a-b8effe6e4f99",
        "colab": {
          "base_uri": "https://localhost:8080/",
          "height": 70
        }
      },
      "source": [
        "# loc selects using index value and label name/s\n",
        "df.loc[1,['question1','question2']]"
      ],
      "execution_count": 12,
      "outputs": [
        {
          "output_type": "execute_result",
          "data": {
            "text/plain": [
              "question1    What is the story of Kohinoor (Koh-i-Noor) Dia...\n",
              "question2    What would happen if the Indian government sto...\n",
              "Name: 1, dtype: object"
            ]
          },
          "metadata": {
            "tags": []
          },
          "execution_count": 12
        }
      ]
    },
    {
      "cell_type": "code",
      "metadata": {
        "id": "BH9bxfLdKEpi",
        "colab_type": "code",
        "colab": {}
      },
      "source": [
        ""
      ],
      "execution_count": 0,
      "outputs": []
    },
    {
      "cell_type": "code",
      "metadata": {
        "id": "HFCsWfS8DsG7",
        "colab_type": "code",
        "colab": {}
      },
      "source": [
        "ques1=df.loc[:,'question1']\n",
        "# ques1=str(ques1)\n",
        "# ques1=ques1.split()\n",
        "# ques1[-2]\n"
      ],
      "execution_count": 0,
      "outputs": []
    },
    {
      "cell_type": "code",
      "metadata": {
        "id": "kcs65qYCGy7i",
        "colab_type": "code",
        "outputId": "551f07ca-ef4b-4d72-cfb2-e8346fa65b7f",
        "colab": {
          "base_uri": "https://localhost:8080/",
          "height": 34
        }
      },
      "source": [
        "len(ques1)"
      ],
      "execution_count": 14,
      "outputs": [
        {
          "output_type": "execute_result",
          "data": {
            "text/plain": [
              "404290"
            ]
          },
          "metadata": {
            "tags": []
          },
          "execution_count": 14
        }
      ]
    },
    {
      "cell_type": "code",
      "metadata": {
        "id": "iSg1f8CNhhv0",
        "colab_type": "code",
        "colab": {}
      },
      "source": [
        "def manhattan_distance(left,right):\n",
        "  return K.exp(-K.sum(K.abs(left-right), keepdims=True))"
      ],
      "execution_count": 0,
      "outputs": []
    },
    {
      "cell_type": "code",
      "metadata": {
        "id": "45dHIvAXIZWK",
        "colab_type": "code",
        "outputId": "3bfe7304-0071-43fd-e045-e965e5d59285",
        "colab": {
          "base_uri": "https://localhost:8080/",
          "height": 742
        }
      },
      "source": [
        "from tensorflow.keras.layers import Input, Embedding, LSTM, Dense, concatenate, Lambda\n",
        "\n",
        "\n",
        "# input layer\n",
        "#recheck shape before training\n",
        "left_input=Input(shape=(50,),name='left_input')\n",
        "right_input=Input(shape=(50,),name='right_input')\n",
        "\n",
        "# embedding layer\n",
        "# recheck dims \n",
        "embedding_layer=Embedding(input_dim=1000,output_dim=300,input_length=1000,name='embedding_layer')\n",
        "\n",
        "encoded_left = embedding_layer(left_input)\n",
        "encoded_right = embedding_layer(right_input)\n",
        "\n",
        "#LSTM instantiation\n",
        "# check parameter for LSTM.\n",
        "shared_lstm=LSTM(50, name='LSTM_layer')\n",
        "\n",
        "# shared LSTM\n",
        "left_output = shared_lstm(encoded_left)\n",
        "right_output = shared_lstm(encoded_right)\n",
        "\n",
        "\n",
        "\n",
        "\n",
        "# TODO: check output shape of the output lambda layer\n",
        "\n",
        "# output layer\n",
        "output_layer = Lambda(function=lambda x:manhattan_distance(x[0],x[1]))([left_output,right_output])\n",
        "\n",
        "\n",
        "\n",
        "# define above model\n",
        "model = tf.keras.Model(inputs=[left_input, right_input], outputs=output_layer)\n",
        "\n",
        "# summary of model\n",
        "print(model.summary())\n",
        "\n",
        "# plot graph\n",
        "keras.utils.plot_model(model, to_file='test_keras_plot_model.png')\n",
        "import IPython\n",
        "from IPython.display import SVG\n",
        "# IPython.display.Image(“test_keras_plot_model.png”)\n",
        "IPython.display.SVG(keras.utils.vis_utils.model_to_dot(model).create(prog='dot', format='svg'))\n",
        "# from keras.utils import model_to_dot\n",
        "\n",
        "# SVG(model_to_dot(model).create(prog='dot', format='svg'))\n",
        "# print('end')"
      ],
      "execution_count": 88,
      "outputs": [
        {
          "output_type": "stream",
          "text": [
            "__________________________________________________________________________________________________\n",
            "Layer (type)                    Output Shape         Param #     Connected to                     \n",
            "==================================================================================================\n",
            "left_input (InputLayer)         (None, 50)           0                                            \n",
            "__________________________________________________________________________________________________\n",
            "right_input (InputLayer)        (None, 50)           0                                            \n",
            "__________________________________________________________________________________________________\n",
            "embedding_layer (Embedding)     (None, 50, 300)      300000      left_input[0][0]                 \n",
            "                                                                 right_input[0][0]                \n",
            "__________________________________________________________________________________________________\n",
            "LSTM_layer (LSTM)               (None, 50)           70200       embedding_layer[0][0]            \n",
            "                                                                 embedding_layer[1][0]            \n",
            "__________________________________________________________________________________________________\n",
            "lambda_17 (Lambda)              (1, 1)               0           LSTM_layer[0][0]                 \n",
            "                                                                 LSTM_layer[1][0]                 \n",
            "==================================================================================================\n",
            "Total params: 370,200\n",
            "Trainable params: 370,200\n",
            "Non-trainable params: 0\n",
            "__________________________________________________________________________________________________\n",
            "None\n"
          ],
          "name": "stdout"
        },
        {
          "output_type": "execute_result",
          "data": {
            "text/plain": [
              "<IPython.core.display.SVG object>"
            ],
            "image/svg+xml": "<svg height=\"264pt\" viewBox=\"0.00 0.00 321.50 264.00\" width=\"322pt\" xmlns=\"http://www.w3.org/2000/svg\" xmlns:xlink=\"http://www.w3.org/1999/xlink\">\n<g class=\"graph\" id=\"graph0\" transform=\"scale(1 1) rotate(0) translate(4 260)\">\n<title>G</title>\n<polygon fill=\"#ffffff\" points=\"-4,4 -4,-260 317.5,-260 317.5,4 -4,4\" stroke=\"transparent\"/>\n<!-- 140427147945520 -->\n<g class=\"node\" id=\"node1\">\n<title>140427147945520</title>\n<polygon fill=\"none\" points=\"0,-219.5 0,-255.5 143,-255.5 143,-219.5 0,-219.5\" stroke=\"#000000\"/>\n<text fill=\"#000000\" font-family=\"Times,serif\" font-size=\"14.00\" text-anchor=\"middle\" x=\"71.5\" y=\"-233.8\">left_input: InputLayer</text>\n</g>\n<!-- 140427135582448 -->\n<g class=\"node\" id=\"node3\">\n<title>140427135582448</title>\n<polygon fill=\"none\" points=\"59,-146.5 59,-182.5 250,-182.5 250,-146.5 59,-146.5\" stroke=\"#000000\"/>\n<text fill=\"#000000\" font-family=\"Times,serif\" font-size=\"14.00\" text-anchor=\"middle\" x=\"154.5\" y=\"-160.8\">embedding_layer: Embedding</text>\n</g>\n<!-- 140427147945520&#45;&gt;140427135582448 -->\n<g class=\"edge\" id=\"edge1\">\n<title>140427147945520-&gt;140427135582448</title>\n<path d=\"M92.0169,-219.4551C102.392,-210.3299 115.1416,-199.1165 126.4123,-189.2036\" fill=\"none\" stroke=\"#000000\"/>\n<polygon fill=\"#000000\" points=\"128.7341,-191.8228 133.9315,-182.5904 124.1111,-186.5665 128.7341,-191.8228\" stroke=\"#000000\"/>\n</g>\n<!-- 140427147945688 -->\n<g class=\"node\" id=\"node2\">\n<title>140427147945688</title>\n<polygon fill=\"none\" points=\"161.5,-219.5 161.5,-255.5 313.5,-255.5 313.5,-219.5 161.5,-219.5\" stroke=\"#000000\"/>\n<text fill=\"#000000\" font-family=\"Times,serif\" font-size=\"14.00\" text-anchor=\"middle\" x=\"237.5\" y=\"-233.8\">right_input: InputLayer</text>\n</g>\n<!-- 140427147945688&#45;&gt;140427135582448 -->\n<g class=\"edge\" id=\"edge2\">\n<title>140427147945688-&gt;140427135582448</title>\n<path d=\"M216.9831,-219.4551C206.608,-210.3299 193.8584,-199.1165 182.5877,-189.2036\" fill=\"none\" stroke=\"#000000\"/>\n<polygon fill=\"#000000\" points=\"184.8889,-186.5665 175.0685,-182.5904 180.2659,-191.8228 184.8889,-186.5665\" stroke=\"#000000\"/>\n</g>\n<!-- 140427135335672 -->\n<g class=\"node\" id=\"node4\">\n<title>140427135335672</title>\n<polygon fill=\"none\" points=\"86,-73.5 86,-109.5 223,-109.5 223,-73.5 86,-73.5\" stroke=\"#000000\"/>\n<text fill=\"#000000\" font-family=\"Times,serif\" font-size=\"14.00\" text-anchor=\"middle\" x=\"154.5\" y=\"-87.8\">LSTM_layer: LSTM</text>\n</g>\n<!-- 140427135582448&#45;&gt;140427135335672 -->\n<g class=\"edge\" id=\"edge3\">\n<title>140427135582448-&gt;140427135335672</title>\n<path d=\"M154.5,-146.4551C154.5,-138.3828 154.5,-128.6764 154.5,-119.6817\" fill=\"none\" stroke=\"#000000\"/>\n<polygon fill=\"#000000\" points=\"158.0001,-119.5903 154.5,-109.5904 151.0001,-119.5904 158.0001,-119.5903\" stroke=\"#000000\"/>\n</g>\n<!-- 140427135556408 -->\n<g class=\"node\" id=\"node5\">\n<title>140427135556408</title>\n<polygon fill=\"none\" points=\"86.5,-.5 86.5,-36.5 222.5,-36.5 222.5,-.5 86.5,-.5\" stroke=\"#000000\"/>\n<text fill=\"#000000\" font-family=\"Times,serif\" font-size=\"14.00\" text-anchor=\"middle\" x=\"154.5\" y=\"-14.8\">lambda_17: Lambda</text>\n</g>\n<!-- 140427135335672&#45;&gt;140427135556408 -->\n<g class=\"edge\" id=\"edge5\">\n<title>140427135335672-&gt;140427135556408</title>\n<path d=\"M154.5,-73.4551C154.5,-65.3828 154.5,-55.6764 154.5,-46.6817\" fill=\"none\" stroke=\"#000000\"/>\n<polygon fill=\"#000000\" points=\"158.0001,-46.5903 154.5,-36.5904 151.0001,-46.5904 158.0001,-46.5903\" stroke=\"#000000\"/>\n</g>\n</g>\n</svg>"
          },
          "metadata": {
            "tags": []
          },
          "execution_count": 88
        }
      ]
    },
    {
      "cell_type": "code",
      "metadata": {
        "id": "MfEoErm5rKR7",
        "colab_type": "code",
        "colab": {}
      },
      "source": [
        "# compile the model\n",
        "model.compile(optimizer='adadelta',loss='binary_crossentropy',metrics=['accuracy'])\n",
        "\n",
        "# train (fit) the model\n",
        "# hist=model.fit([input_column1_head,input_column2_head], output_label, epochs=5, shuffle=True, validation_split=0.2)\n",
        "# print(hist.history)"
      ],
      "execution_count": 0,
      "outputs": []
    },
    {
      "cell_type": "code",
      "metadata": {
        "id": "JEks7d-D0HSv",
        "colab_type": "code",
        "outputId": "08f9419f-9750-49d5-ff85-b80f617d4b84",
        "colab": {
          "base_uri": "https://localhost:8080/",
          "height": 87
        }
      },
      "source": [
        "txt='A IS a dog a is.'\n",
        "\n",
        "from tensorflow.keras.preprocessing.text import text_to_word_sequence,Tokenizer,one_hot,hashing_trick\n",
        "print(txt)\n",
        "# tokenizer=Tokenizer(lower=True, split=' ')\n",
        "print(text_to_word_sequence(txt,lower=True, split=' '))\n",
        "print(hashing_trick(txt,n=10,lower=True,split=' '))\n",
        "print(one_hot(txt,n=10,lower=True,split=' '))"
      ],
      "execution_count": 17,
      "outputs": [
        {
          "output_type": "stream",
          "text": [
            "A IS a dog a is.\n",
            "['a', 'is', 'a', 'dog', 'a', 'is']\n",
            "[9, 7, 9, 9, 9, 7]\n",
            "[9, 7, 9, 9, 9, 7]\n"
          ],
          "name": "stdout"
        }
      ]
    },
    {
      "cell_type": "code",
      "metadata": {
        "id": "Cb5M65IL8m87",
        "colab_type": "code",
        "colab": {}
      },
      "source": [
        "from sklearn.model_selection import train_test_split\n",
        "\n",
        "q1=df.question1[0:5]\n",
        "q2=df.question2[0:5]\n",
        "y=df.is_duplicate\n",
        "\n",
        "# print(q1)\n",
        "# print(q2)\n",
        "\n",
        "\n",
        "# q1=str(q1).lower()\n",
        "# x1_train,x1_test,x2_train,y2_test = train_test_split([q1,q2],y,test_size=0.2,random_state=50)\n"
      ],
      "execution_count": 0,
      "outputs": []
    },
    {
      "cell_type": "code",
      "metadata": {
        "id": "mOJyssKKgA0B",
        "colab_type": "code",
        "colab": {}
      },
      "source": [
        "def text_to_token(text):\n",
        "  text=str(text)\n",
        "  text=text.lower()\n",
        "  text=text.split()\n",
        "  \n",
        "  return text"
      ],
      "execution_count": 0,
      "outputs": []
    },
    {
      "cell_type": "code",
      "metadata": {
        "id": "VjJh9IJ7gJXZ",
        "colab_type": "code",
        "outputId": "764c646b-e917-4d54-8cb9-5e727491c82a",
        "colab": {
          "base_uri": "https://localhost:8080/",
          "height": 34
        }
      },
      "source": [
        "# for i in range(len(q1)):\n",
        "#   print(text_to_token(q1[i])) \n",
        "\n",
        "a=['asdfafd']\n",
        "b='zzzz'\n",
        "a.append(b)\n",
        "print(a)"
      ],
      "execution_count": 20,
      "outputs": [
        {
          "output_type": "stream",
          "text": [
            "['asdfafd', 'zzzz']\n"
          ],
          "name": "stdout"
        }
      ]
    },
    {
      "cell_type": "code",
      "metadata": {
        "id": "1nR21ej6t5Kg",
        "colab_type": "code",
        "colab": {
          "base_uri": "https://localhost:8080/",
          "height": 52
        },
        "outputId": "dba46854-1a0c-41ee-aa9e-02c7ab9b9a61"
      },
      "source": [
        "import math\n",
        "z=0\n",
        "print(\"normal expornent\",math.exp(-z))\n",
        "print(\"inverse expornent\",1/1-math.exp(-z))\n",
        "# print(k.exp(-5.1))\n"
      ],
      "execution_count": 51,
      "outputs": [
        {
          "output_type": "stream",
          "text": [
            "normal expornent 1.0\n",
            "inverse expornent 0.0\n"
          ],
          "name": "stdout"
        }
      ]
    },
    {
      "cell_type": "code",
      "metadata": {
        "id": "pONBNKAyH0rx",
        "colab_type": "code",
        "colab": {
          "base_uri": "https://localhost:8080/",
          "height": 255
        },
        "outputId": "040746fc-4999-40cf-d8f4-8dc60854f0f3"
      },
      "source": [
        "# dis=lambda m:m[0]+m[1]\n",
        "dis=lambda m: (m[0][0], 1)\n",
        "dis([2.222,4.444])"
      ],
      "execution_count": 59,
      "outputs": [
        {
          "output_type": "error",
          "ename": "TypeError",
          "evalue": "ignored",
          "traceback": [
            "\u001b[0;31m---------------------------------------------------------------------------\u001b[0m",
            "\u001b[0;31mTypeError\u001b[0m                                 Traceback (most recent call last)",
            "\u001b[0;32m<ipython-input-59-e82a80fd157a>\u001b[0m in \u001b[0;36m<module>\u001b[0;34m()\u001b[0m\n\u001b[1;32m      1\u001b[0m \u001b[0mdis\u001b[0m\u001b[0;34m=\u001b[0m\u001b[0;32mlambda\u001b[0m \u001b[0mm\u001b[0m\u001b[0;34m:\u001b[0m \u001b[0;34m(\u001b[0m\u001b[0mm\u001b[0m\u001b[0;34m[\u001b[0m\u001b[0;36m0\u001b[0m\u001b[0;34m]\u001b[0m\u001b[0;34m[\u001b[0m\u001b[0;36m0\u001b[0m\u001b[0;34m]\u001b[0m\u001b[0;34m,\u001b[0m \u001b[0;36m1\u001b[0m\u001b[0;34m)\u001b[0m\u001b[0;34m\u001b[0m\u001b[0;34m\u001b[0m\u001b[0m\n\u001b[0;32m----> 2\u001b[0;31m \u001b[0mdis\u001b[0m\u001b[0;34m(\u001b[0m\u001b[0;34m[\u001b[0m\u001b[0;36m2.222\u001b[0m\u001b[0;34m,\u001b[0m\u001b[0;36m4.444\u001b[0m\u001b[0;34m]\u001b[0m\u001b[0;34m)\u001b[0m\u001b[0;34m\u001b[0m\u001b[0;34m\u001b[0m\u001b[0m\n\u001b[0m",
            "\u001b[0;32m<ipython-input-59-e82a80fd157a>\u001b[0m in \u001b[0;36m<lambda>\u001b[0;34m(m)\u001b[0m\n\u001b[0;32m----> 1\u001b[0;31m \u001b[0mdis\u001b[0m\u001b[0;34m=\u001b[0m\u001b[0;32mlambda\u001b[0m \u001b[0mm\u001b[0m\u001b[0;34m:\u001b[0m \u001b[0;34m(\u001b[0m\u001b[0mm\u001b[0m\u001b[0;34m[\u001b[0m\u001b[0;36m0\u001b[0m\u001b[0;34m]\u001b[0m\u001b[0;34m[\u001b[0m\u001b[0;36m0\u001b[0m\u001b[0;34m]\u001b[0m\u001b[0;34m,\u001b[0m \u001b[0;36m1\u001b[0m\u001b[0;34m)\u001b[0m\u001b[0;34m\u001b[0m\u001b[0;34m\u001b[0m\u001b[0m\n\u001b[0m\u001b[1;32m      2\u001b[0m \u001b[0mdis\u001b[0m\u001b[0;34m(\u001b[0m\u001b[0;34m[\u001b[0m\u001b[0;36m2.222\u001b[0m\u001b[0;34m,\u001b[0m\u001b[0;36m4.444\u001b[0m\u001b[0;34m]\u001b[0m\u001b[0;34m)\u001b[0m\u001b[0;34m\u001b[0m\u001b[0;34m\u001b[0m\u001b[0m\n",
            "\u001b[0;31mTypeError\u001b[0m: 'float' object is not subscriptable"
          ]
        }
      ]
    },
    {
      "cell_type": "code",
      "metadata": {
        "id": "0ff-0Xmudm7z",
        "colab_type": "code",
        "colab": {}
      },
      "source": [
        ""
      ],
      "execution_count": 0,
      "outputs": []
    }
  ]
}
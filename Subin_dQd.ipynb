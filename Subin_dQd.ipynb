{
  "nbformat": 4,
  "nbformat_minor": 0,
  "metadata": {
    "colab": {
      "name": "DQD_MAIN.ipynb",
      "version": "0.3.2",
      "provenance": [],
      "collapsed_sections": [],
      "include_colab_link": true
    },
    "kernelspec": {
      "name": "python3",
      "display_name": "Python 3"
    },
    "accelerator": "GPU"
  },
  "cells": [
    {
      "cell_type": "markdown",
      "metadata": {
        "id": "view-in-github",
        "colab_type": "text"
      },
      "source": [
        "<a href=\"https://colab.research.google.com/github/MohitDhungana/duplicate_question_detection/blob/master/Subin_dQd.ipynb\" target=\"_parent\"><img src=\"https://colab.research.google.com/assets/colab-badge.svg\" alt=\"Open In Colab\"/></a>"
      ]
    },
    {
      "cell_type": "code",
      "metadata": {
        "id": "aZlxkvW__7mI",
        "colab_type": "code",
        "outputId": "664fc973-599d-4947-c545-dc9ae40dbfbf",
        "colab": {
          "base_uri": "https://localhost:8080/",
          "height": 248
        }
      },
      "source": [
        "!pip install pydrive\n",
        "\n",
        "!pip install google\n"
      ],
      "execution_count": 35,
      "outputs": [
        {
          "output_type": "stream",
          "text": [
            "Requirement already satisfied: pydrive in /usr/local/lib/python3.6/dist-packages (1.3.1)\n",
            "Requirement already satisfied: oauth2client>=4.0.0 in /usr/local/lib/python3.6/dist-packages (from pydrive) (4.1.3)\n",
            "Requirement already satisfied: PyYAML>=3.0 in /usr/local/lib/python3.6/dist-packages (from pydrive) (3.13)\n",
            "Requirement already satisfied: google-api-python-client>=1.2 in /usr/local/lib/python3.6/dist-packages (from pydrive) (1.6.7)\n",
            "Requirement already satisfied: rsa>=3.1.4 in /usr/local/lib/python3.6/dist-packages (from oauth2client>=4.0.0->pydrive) (4.0)\n",
            "Requirement already satisfied: httplib2>=0.9.1 in /usr/local/lib/python3.6/dist-packages (from oauth2client>=4.0.0->pydrive) (0.11.3)\n",
            "Requirement already satisfied: pyasn1-modules>=0.0.5 in /usr/local/lib/python3.6/dist-packages (from oauth2client>=4.0.0->pydrive) (0.2.5)\n",
            "Requirement already satisfied: pyasn1>=0.1.7 in /usr/local/lib/python3.6/dist-packages (from oauth2client>=4.0.0->pydrive) (0.4.5)\n",
            "Requirement already satisfied: six>=1.6.1 in /usr/local/lib/python3.6/dist-packages (from oauth2client>=4.0.0->pydrive) (1.12.0)\n",
            "Requirement already satisfied: uritemplate<4dev,>=3.0.0 in /usr/local/lib/python3.6/dist-packages (from google-api-python-client>=1.2->pydrive) (3.0.0)\n",
            "Requirement already satisfied: google in /usr/local/lib/python3.6/dist-packages (2.0.2)\n",
            "Requirement already satisfied: beautifulsoup4 in /usr/local/lib/python3.6/dist-packages (from google) (4.6.3)\n"
          ],
          "name": "stdout"
        }
      ]
    },
    {
      "cell_type": "code",
      "metadata": {
        "id": "wmC6aoUht9zR",
        "colab_type": "code",
        "outputId": "e96a8d2d-72f1-481a-fbc2-0a0051404a6b",
        "colab": {
          "base_uri": "https://localhost:8080/",
          "height": 70
        }
      },
      "source": [
        "from time import time\n",
        "import pandas as pd\n",
        "import numpy as np\n",
        "from gensim.models import KeyedVectors\n",
        "import re\n",
        "import nltk\n",
        "from nltk.corpus import stopwords\n",
        "\n",
        "\n",
        "nltk.download('stopwords')\n",
        "\n",
        "import itertools\n",
        "import datetime\n",
        "\n",
        "\n",
        "from google.colab import drive\n",
        "drive.mount('/content/drive', force_remount=True)\n",
        "import sys\n",
        "sys.path.append('/content/drive/My Drive/Project')"
      ],
      "execution_count": 77,
      "outputs": [
        {
          "output_type": "stream",
          "text": [
            "[nltk_data] Downloading package stopwords to /root/nltk_data...\n",
            "[nltk_data]   Package stopwords is already up-to-date!\n",
            "Mounted at /content/drive\n"
          ],
          "name": "stdout"
        }
      ]
    },
    {
      "cell_type": "code",
      "metadata": {
        "id": "6e7OQme1A308",
        "colab_type": "code",
        "outputId": "fb420d39-c098-45a5-a708-e02a1df744f4",
        "colab": {
          "base_uri": "https://localhost:8080/",
          "height": 228
        }
      },
      "source": [
        "!ls '/content/drive/My Drive'\n"
      ],
      "execution_count": 26,
      "outputs": [
        {
          "output_type": "stream",
          "text": [
            "'Colab Notebooks'\n",
            " Compressed\n",
            " dogs-cats-images.zip\n",
            "'energy environment and society  assignment.pdf'\n",
            " GoogleNews-vectors-negative300.bin.gz\n",
            " image-93b016bfc7ea033589b8766d020d99cb0108180bdaa53d05dbdaf5883674852e-V.jpg\n",
            " Keygen.exe\n",
            " KIC072BCT039.jpg\n",
            "'New Doc 2019-03-03 12.05.252394441364277969478.pdf'\n",
            " Project\n",
            " the-new-encyclopedia-of-modern-bodybuilding-arnold.pdf\n",
            " train.csv\n"
          ],
          "name": "stdout"
        }
      ]
    },
    {
      "cell_type": "code",
      "metadata": {
        "id": "uVvNDvPLBLDX",
        "colab_type": "code",
        "colab": {}
      },
      "source": [
        "df = pd.read_csv('/content/drive/My Drive/train.csv')\n",
        "stops = set(stopwords.words('english'))\n",
        "\n",
        "def text_to_word_list(text):\n",
        "#   gets a whole question inside text variable on which  preprocessing is done and then the question is splitted into word indices and returned\n",
        "    text = str(text)\n",
        "    text = text.lower()\n",
        "\n",
        "    # Clean the text\n",
        "    text = re.sub(r\"[^A-Za-z0-9^,!.\\/'+-=]\", \" \", text)\n",
        "    text = re.sub(r\"what's\", \"what is \", text)\n",
        "    text = re.sub(r\"\\'s\", \" \", text)\n",
        "    text = re.sub(r\"\\'ve\", \" have \", text)\n",
        "    text = re.sub(r\"can't\", \"cannot \", text)\n",
        "    text = re.sub(r\"n't\", \" not \", text)\n",
        "    text = re.sub(r\"i'm\", \"i am \", text)\n",
        "    text = re.sub(r\"\\'re\", \" are \", text)\n",
        "    text = re.sub(r\"\\'d\", \" would \", text)\n",
        "    text = re.sub(r\"\\'ll\", \" will \", text)\n",
        "    text = re.sub(r\",\", \" \", text)\n",
        "    text = re.sub(r\"\\.\", \" \", text)\n",
        "    text = re.sub(r\"!\", \" ! \", text)\n",
        "    text = re.sub(r\"\\/\", \" \", text)\n",
        "    text = re.sub(r\"\\^\", \" ^ \", text)\n",
        "    text = re.sub(r\"\\+\", \" + \", text)\n",
        "    text = re.sub(r\"\\-\", \" - \", text)\n",
        "    text = re.sub(r\"\\=\", \" = \", text)\n",
        "    text = re.sub(r\"'\", \" \", text)\n",
        "    text = re.sub(r\"(\\d+)(k)\", r\"\\g<1>000\", text)\n",
        "    text = re.sub(r\":\", \" : \", text)\n",
        "    text = re.sub(r\" e g \", \" eg \", text)\n",
        "    text = re.sub(r\" b g \", \" bg \", text)\n",
        "    text = re.sub(r\" u s \", \" american \", text)\n",
        "    text = re.sub(r\"\\0s\", \"0\", text)\n",
        "    text = re.sub(r\" 9 11 \", \"911\", text)\n",
        "    text = re.sub(r\"e - mail\", \"email\", text)\n",
        "    text = re.sub(r\"j k\", \"jk\", text)\n",
        "    text = re.sub(r\"\\s{2,}\", \" \", text)\n",
        "\n",
        "    text = text.split()\n",
        "\n",
        "    return text\n"
      ],
      "execution_count": 0,
      "outputs": []
    },
    {
      "cell_type": "code",
      "metadata": {
        "id": "bfmvHK6CBb2v",
        "colab_type": "code",
        "outputId": "e46e84b3-222a-4adc-8753-479f72887444",
        "colab": {
          "base_uri": "https://localhost:8080/",
          "height": 90
        }
      },
      "source": [
        "# Prepare embedding\n",
        "\n",
        "vocabulary = dict() \n",
        "inverse_vocabulary = ['<unk>']  # '<unk>' will never be used, it is only a placeholder for the [0, 0, ....0] embedding\n",
        "word2vec = KeyedVectors.load_word2vec_format('/content/drive/My Drive/GoogleNews-vectors-negative300.bin.gz', binary=True)\n",
        "\n",
        "questions_cols = ['question1', 'question2']\n",
        "\n",
        "# Iterate over the questions(i.e. 'question 1', 'question2') of the training sets provided \n",
        "# get the data from dataset(df) in  variable dataset\n",
        "for dataset in [df]:\n",
        "#   now iterate through the rows of the dataset using  index as iterator (i.e. goes through the row having particular index at a time) \n",
        "    for index, row in dataset.iterrows():\n",
        "\n",
        "        # Iterate through the text of both questions within the current  row\n",
        "        for question in questions_cols:\n",
        "            que2no = []  # que2no ->  numbers representation of the cureently being processed question\n",
        "            \n",
        "            count_ = 0\n",
        "\n",
        "            for word in text_to_word_list(row[question]):\n",
        "\n",
        "                # Check for unwanted words i.e mainly stopwords\n",
        "                if word in stops and word not in word2vec.vocab:\n",
        "                    continue\n",
        "                    \n",
        "#                 limit the length to 50, this decreased the time to train an epoch from more than 1 hour to 20 minutes.\n",
        "                if count_ >= 50 :\n",
        "                  continue\n",
        "                count_ +=1\n",
        "                \n",
        "                \n",
        "                if word not in vocabulary:\n",
        "                    vocabulary[word] = len(inverse_vocabulary)\n",
        "                    que2no.append(len(inverse_vocabulary))\n",
        "                    inverse_vocabulary.append(word)\n",
        "                else:\n",
        "                    que2no.append(vocabulary[word])\n",
        "#                     que2no.append(float(vocabulary[word]))\n",
        "\n",
        "#                 que2no=list(map(int,que2no))\n",
        "\n",
        "            # Replace questions as word to question as number representation\n",
        "            dataset.set_value(index, question, que2no)"
      ],
      "execution_count": 5,
      "outputs": [
        {
          "output_type": "stream",
          "text": [
            "/usr/local/lib/python3.6/dist-packages/smart_open/smart_open_lib.py:398: UserWarning: This function is deprecated, use smart_open.open instead. See the migration notes for details: https://github.com/RaRe-Technologies/smart_open/blob/master/README.rst#migrating-to-the-new-open-function\n",
            "  'See the migration notes for details: %s' % _MIGRATION_NOTES_URL\n",
            "/usr/local/lib/python3.6/dist-packages/ipykernel_launcher.py:43: FutureWarning: set_value is deprecated and will be removed in a future release. Please use .at[] or .iat[] accessors instead\n"
          ],
          "name": "stderr"
        }
      ]
    },
    {
      "cell_type": "code",
      "metadata": {
        "id": "gPG__4vqCFNI",
        "colab_type": "code",
        "outputId": "c0829177-fa29-4180-9dfe-595a7a7f06ad",
        "colab": {
          "base_uri": "https://localhost:8080/",
          "height": 254
        }
      },
      "source": [
        "# max_sequence_length=50\n",
        "max_seq_length = max(df.question1.map(lambda x: len(x)).max(),\n",
        "                     df.question2.map(lambda x: len(x)).max()\n",
        "                    )\n",
        "# max_seq_length\n",
        "df.tail()"
      ],
      "execution_count": 6,
      "outputs": [
        {
          "output_type": "execute_result",
          "data": {
            "text/html": [
              "<div>\n",
              "<style scoped>\n",
              "    .dataframe tbody tr th:only-of-type {\n",
              "        vertical-align: middle;\n",
              "    }\n",
              "\n",
              "    .dataframe tbody tr th {\n",
              "        vertical-align: top;\n",
              "    }\n",
              "\n",
              "    .dataframe thead th {\n",
              "        text-align: right;\n",
              "    }\n",
              "</style>\n",
              "<table border=\"1\" class=\"dataframe\">\n",
              "  <thead>\n",
              "    <tr style=\"text-align: right;\">\n",
              "      <th></th>\n",
              "      <th>id</th>\n",
              "      <th>qid1</th>\n",
              "      <th>qid2</th>\n",
              "      <th>question1</th>\n",
              "      <th>question2</th>\n",
              "      <th>is_duplicate</th>\n",
              "    </tr>\n",
              "  </thead>\n",
              "  <tbody>\n",
              "    <tr>\n",
              "      <th>404285</th>\n",
              "      <td>404285</td>\n",
              "      <td>433578</td>\n",
              "      <td>379845</td>\n",
              "      <td>[26, 184, 3632, 115, 307, 8, 3, 24585, 522, 52...</td>\n",
              "      <td>[26, 184, 3632, 115, 307, 8, 12032, 522, 523, ...</td>\n",
              "      <td>0</td>\n",
              "    </tr>\n",
              "    <tr>\n",
              "      <th>404286</th>\n",
              "      <td>404286</td>\n",
              "      <td>18840</td>\n",
              "      <td>155606</td>\n",
              "      <td>[97, 99, 2441, 307, 2, 598, 180, 1822]</td>\n",
              "      <td>[2, 47, 467, 77, 307, 2, 598, 180, 1822]</td>\n",
              "      <td>1</td>\n",
              "    </tr>\n",
              "    <tr>\n",
              "      <th>404287</th>\n",
              "      <td>404287</td>\n",
              "      <td>537928</td>\n",
              "      <td>537929</td>\n",
              "      <td>[1, 2, 57, 11012]</td>\n",
              "      <td>[1, 2, 83, 11012]</td>\n",
              "      <td>0</td>\n",
              "    </tr>\n",
              "    <tr>\n",
              "      <th>404288</th>\n",
              "      <td>404288</td>\n",
              "      <td>537930</td>\n",
              "      <td>537931</td>\n",
              "      <td>[1, 2, 3, 21205, 12587, 534, 2769, 33, 3114, 8...</td>\n",
              "      <td>[16, 42, 1086, 2877, 2854, 2622, 1220, 16, 173...</td>\n",
              "      <td>0</td>\n",
              "    </tr>\n",
              "    <tr>\n",
              "      <th>404289</th>\n",
              "      <td>404289</td>\n",
              "      <td>537932</td>\n",
              "      <td>537933</td>\n",
              "      <td>[1, 2, 139, 401, 2543, 175, 7227]</td>\n",
              "      <td>[1, 2, 47, 139, 401, 2543, 175, 135, 7227]</td>\n",
              "      <td>0</td>\n",
              "    </tr>\n",
              "  </tbody>\n",
              "</table>\n",
              "</div>"
            ],
            "text/plain": [
              "            id  ...  is_duplicate\n",
              "404285  404285  ...             0\n",
              "404286  404286  ...             1\n",
              "404287  404287  ...             0\n",
              "404288  404288  ...             0\n",
              "404289  404289  ...             0\n",
              "\n",
              "[5 rows x 6 columns]"
            ]
          },
          "metadata": {
            "tags": []
          },
          "execution_count": 6
        }
      ]
    },
    {
      "cell_type": "code",
      "metadata": {
        "id": "YS30hxt_OvzY",
        "colab_type": "code",
        "colab": {}
      },
      "source": [
        "embedding_dim = 300\n",
        "# creating an embedding matrix whose length is one more than vocabulary and dimension is 300\n",
        "embedding_matrix = 1 * np.random.randn(len(vocabulary) + 1, embedding_dim)  \n",
        "embedding_matrix[0] = 0  # So that the zeroth place remain empty \n",
        "\n",
        "# (Build the embedding matrix) Assigning the word2vec embedding for each words of our vocabulary  \n",
        "for word, index in vocabulary.items():\n",
        "    if word in word2vec.vocab:\n",
        "        embedding_matrix[index] = word2vec.word_vec(word)"
      ],
      "execution_count": 0,
      "outputs": []
    },
    {
      "cell_type": "code",
      "metadata": {
        "id": "zS7KaJt3O2R8",
        "colab_type": "code",
        "colab": {}
      },
      "source": [
        "del word2vec\n"
      ],
      "execution_count": 0,
      "outputs": []
    },
    {
      "cell_type": "code",
      "metadata": {
        "id": "iyQX5TXOPQYO",
        "colab_type": "code",
        "outputId": "da7478f0-01ca-458c-896c-94cea52d0ca9",
        "colab": {
          "base_uri": "https://localhost:8080/",
          "height": 87
        }
      },
      "source": [
        "from sklearn.model_selection import train_test_split\n",
        "\n",
        "\n",
        "X=df[questions_cols]\n",
        "Y=df['is_duplicate']\n",
        "\n",
        "\n",
        "x_train,x_validate,y_train,y_validate = train_test_split(X, Y, test_size = 0.3) # dataset split to 70% for training and 30% for validation\n",
        "\n",
        "print(x_train.shape)\n",
        "print(x_validate.shape)\n",
        "print(y_train.shape)\n",
        "print(y_validate.shape)\n",
        "                 \n",
        "# Split to dicts\n",
        "x_train = {'left': x_train.question1, 'right': x_train.question2}\n",
        "x_validate = {'left': x_validate.question1, 'right': x_validate.question2}\n",
        "\n",
        "# Convert labels to their numpy representations\n",
        "y_train=y_train.values\n",
        "y_validate=y_validate.values\n",
        "\n"
      ],
      "execution_count": 10,
      "outputs": [
        {
          "output_type": "stream",
          "text": [
            "(283003, 2)\n",
            "(121287, 2)\n",
            "(283003,)\n",
            "(121287,)\n"
          ],
          "name": "stdout"
        }
      ]
    },
    {
      "cell_type": "code",
      "metadata": {
        "id": "jZc4-nnYP-dL",
        "colab_type": "code",
        "colab": {}
      },
      "source": [
        "from tensorflow.keras.preprocessing.sequence import pad_sequences\n",
        "\n",
        "# zero padding\n",
        "\n",
        "for dataset, side in itertools.product([x_train,x_validate],['left','right']):\n",
        "  dataset[side] = pad_sequences(dataset[side], maxlen = max_seq_length)"
      ],
      "execution_count": 0,
      "outputs": []
    },
    {
      "cell_type": "code",
      "metadata": {
        "id": "RgUMIIWPQ3zc",
        "colab_type": "code",
        "outputId": "5fdfcd0f-e1d9-4351-861b-de5cb3b7ee44",
        "colab": {
          "base_uri": "https://localhost:8080/",
          "height": 52
        }
      },
      "source": [
        "# print(df['question1'][0])\n",
        "\n",
        "# print(dataset)\n",
        "print(x_train['left'].shape)\n",
        "# print(x_train['left'])\n",
        "print(x_validate['left'].shape)"
      ],
      "execution_count": 12,
      "outputs": [
        {
          "output_type": "stream",
          "text": [
            "(283003, 50)\n",
            "(121287, 50)\n"
          ],
          "name": "stdout"
        }
      ]
    },
    {
      "cell_type": "code",
      "metadata": {
        "id": "iJoiUa1WybJh",
        "colab_type": "code",
        "colab": {
          "base_uri": "https://localhost:8080/",
          "height": 266
        },
        "outputId": "6f3e251b-7229-491b-8554-47fb0d8e515d"
      },
      "source": [
        "print(x_train)"
      ],
      "execution_count": 15,
      "outputs": [
        {
          "output_type": "stream",
          "text": [
            "{'left': array([[   0,    0,    0, ..., 3878,  211, 4126],\n",
            "       [   0,    0,    0, ...,  494,   92,  393],\n",
            "       [   0,    0,    0, ..., 4348,  816, 7505],\n",
            "       ...,\n",
            "       [   0,    0,    0, ...,  139,  401,  898],\n",
            "       [   0,    0,    0, ...,  383, 4461, 3635],\n",
            "       [   0,    0,    0, ...,  167, 1145, 1245]], dtype=int32), 'right': array([[   0,    0,    0, ..., 1804,  536, 4126],\n",
            "       [   0,    0,    0, ...,   30,   92,  393],\n",
            "       [   0,    0,    0, ..., 9721,  816, 7505],\n",
            "       ...,\n",
            "       [   0,    0,    0, ...,  139,  401,  898],\n",
            "       [   0,    0,    0, ..., 1450,  167, 1639],\n",
            "       [   0,    0,    0, ...,  248,  161, 1245]], dtype=int32)}\n"
          ],
          "name": "stdout"
        }
      ]
    },
    {
      "cell_type": "code",
      "metadata": {
        "id": "haac7j-sxLRm",
        "colab_type": "code",
        "colab": {
          "base_uri": "https://localhost:8080/",
          "height": 34
        },
        "outputId": "12cadbe9-cde8-49b8-af5b-c1f2a5a263c0"
      },
      "source": [
        "# saving the training data\n",
        "import pickle\n",
        "\n",
        "pickle_out=open(\"x_train.pickle\",\"wb\")\n",
        "pickle.dump(x_train,pickle_out)\n",
        "pickle_out.close\n",
        "\n",
        "pickle_out=open(\"x_validate.pickle\",\"wb\")\n",
        "pickle.dump(x_validate,pickle_out)\n",
        "pickle_out.close\n",
        "\n",
        "pickle_out=open(\"y_train.pickle\",\"wb\")\n",
        "pickle.dump(y_train,pickle_out)\n",
        "pickle_out.close\n",
        "pickle_out=open(\"y_validate.pickle\",\"wb\")\n",
        "pickle.dump(y_validate,pickle_out)\n",
        "pickle_out.close"
      ],
      "execution_count": 52,
      "outputs": [
        {
          "output_type": "execute_result",
          "data": {
            "text/plain": [
              "<function BufferedWriter.close>"
            ]
          },
          "metadata": {
            "tags": []
          },
          "execution_count": 52
        }
      ]
    },
    {
      "cell_type": "code",
      "metadata": {
        "id": "k8TOAzOSz95h",
        "colab_type": "code",
        "colab": {
          "base_uri": "https://localhost:8080/",
          "height": 530
        },
        "outputId": "b78ea64e-09b4-41bb-8a7a-c754f7947e3d"
      },
      "source": [
        "#uploading the pickle saved trained data in drive\n",
        "from pydrive.auth import GoogleAuth\n",
        "from pydrive.drive import GoogleDrive\n",
        "from google.colab import auth\n",
        "from oauth2client.client import GoogleCredentials\n",
        "\n",
        "# 1. Authenticate and create the PyDrive client.\n",
        "auth.authenticate_user()\n",
        "gauth = GoogleAuth()\n",
        "gauth.credentials = GoogleCredentials.get_application_default()\n",
        "drive = GoogleDrive(gauth)  \n",
        "folder_id='1nMGkHjtKSRoGEOVg5-r04Q0lvWGIWVpS'\n",
        "# get the folder id where you want to save your file\n",
        "\n",
        "file = drive.CreateFile({'parents':[{u'id': folder_id}]})\n",
        "file.SetContentFile('x_train.pickle')\n",
        "file.Upload() \n"
      ],
      "execution_count": 59,
      "outputs": [
        {
          "output_type": "stream",
          "text": [
            "W0617 10:10:45.242820 140040332998528 __init__.py:44] file_cache is unavailable when using oauth2client >= 4.0.0\n",
            "Traceback (most recent call last):\n",
            "  File \"/usr/local/lib/python3.6/dist-packages/googleapiclient/discovery_cache/__init__.py\", line 36, in autodetect\n",
            "    from google.appengine.api import memcache\n",
            "ModuleNotFoundError: No module named 'google.appengine'\n",
            "\n",
            "During handling of the above exception, another exception occurred:\n",
            "\n",
            "Traceback (most recent call last):\n",
            "  File \"/usr/local/lib/python3.6/dist-packages/googleapiclient/discovery_cache/file_cache.py\", line 33, in <module>\n",
            "    from oauth2client.contrib.locked_file import LockedFile\n",
            "ModuleNotFoundError: No module named 'oauth2client.contrib.locked_file'\n",
            "\n",
            "During handling of the above exception, another exception occurred:\n",
            "\n",
            "Traceback (most recent call last):\n",
            "  File \"/usr/local/lib/python3.6/dist-packages/googleapiclient/discovery_cache/file_cache.py\", line 37, in <module>\n",
            "    from oauth2client.locked_file import LockedFile\n",
            "ModuleNotFoundError: No module named 'oauth2client.locked_file'\n",
            "\n",
            "During handling of the above exception, another exception occurred:\n",
            "\n",
            "Traceback (most recent call last):\n",
            "  File \"/usr/local/lib/python3.6/dist-packages/googleapiclient/discovery_cache/__init__.py\", line 41, in autodetect\n",
            "    from . import file_cache\n",
            "  File \"/usr/local/lib/python3.6/dist-packages/googleapiclient/discovery_cache/file_cache.py\", line 41, in <module>\n",
            "    'file_cache is unavailable when using oauth2client >= 4.0.0')\n",
            "ImportError: file_cache is unavailable when using oauth2client >= 4.0.0\n"
          ],
          "name": "stderr"
        }
      ]
    },
    {
      "cell_type": "code",
      "metadata": {
        "id": "m1dL1lFU6HWZ",
        "colab_type": "code",
        "colab": {
          "base_uri": "https://localhost:8080/",
          "height": 530
        },
        "outputId": "7dc60fbf-94a1-4931-ca57-924f55217b84"
      },
      "source": [
        "#uploading the pickle saved trained data in drive\n",
        "from pydrive.auth import GoogleAuth\n",
        "from pydrive.drive import GoogleDrive\n",
        "from google.colab import auth\n",
        "from oauth2client.client import GoogleCredentials\n",
        "\n",
        "# 1. Authenticate and create the PyDrive client.\n",
        "auth.authenticate_user()\n",
        "gauth = GoogleAuth()\n",
        "gauth.credentials = GoogleCredentials.get_application_default()\n",
        "drive = GoogleDrive(gauth)  \n",
        "folder_id='1nMGkHjtKSRoGEOVg5-r04Q0lvWGIWVpS'\n",
        "# get the folder id where you want to save your file\n",
        "\n",
        "file = drive.CreateFile({'parents':[{u'id': folder_id}]})\n",
        "file.SetContentFile('x_validate.pickle')\n",
        "file.Upload() "
      ],
      "execution_count": 60,
      "outputs": [
        {
          "output_type": "stream",
          "text": [
            "W0617 10:11:02.623712 140040332998528 __init__.py:44] file_cache is unavailable when using oauth2client >= 4.0.0\n",
            "Traceback (most recent call last):\n",
            "  File \"/usr/local/lib/python3.6/dist-packages/googleapiclient/discovery_cache/__init__.py\", line 36, in autodetect\n",
            "    from google.appengine.api import memcache\n",
            "ModuleNotFoundError: No module named 'google.appengine'\n",
            "\n",
            "During handling of the above exception, another exception occurred:\n",
            "\n",
            "Traceback (most recent call last):\n",
            "  File \"/usr/local/lib/python3.6/dist-packages/googleapiclient/discovery_cache/file_cache.py\", line 33, in <module>\n",
            "    from oauth2client.contrib.locked_file import LockedFile\n",
            "ModuleNotFoundError: No module named 'oauth2client.contrib.locked_file'\n",
            "\n",
            "During handling of the above exception, another exception occurred:\n",
            "\n",
            "Traceback (most recent call last):\n",
            "  File \"/usr/local/lib/python3.6/dist-packages/googleapiclient/discovery_cache/file_cache.py\", line 37, in <module>\n",
            "    from oauth2client.locked_file import LockedFile\n",
            "ModuleNotFoundError: No module named 'oauth2client.locked_file'\n",
            "\n",
            "During handling of the above exception, another exception occurred:\n",
            "\n",
            "Traceback (most recent call last):\n",
            "  File \"/usr/local/lib/python3.6/dist-packages/googleapiclient/discovery_cache/__init__.py\", line 41, in autodetect\n",
            "    from . import file_cache\n",
            "  File \"/usr/local/lib/python3.6/dist-packages/googleapiclient/discovery_cache/file_cache.py\", line 41, in <module>\n",
            "    'file_cache is unavailable when using oauth2client >= 4.0.0')\n",
            "ImportError: file_cache is unavailable when using oauth2client >= 4.0.0\n"
          ],
          "name": "stderr"
        }
      ]
    },
    {
      "cell_type": "code",
      "metadata": {
        "id": "Zo6OBk1H6JQx",
        "colab_type": "code",
        "colab": {
          "base_uri": "https://localhost:8080/",
          "height": 530
        },
        "outputId": "24d6adee-cbf9-4d29-c91e-e79ad8544046"
      },
      "source": [
        "#uploading the pickle saved trained data in drive\n",
        "from pydrive.auth import GoogleAuth\n",
        "from pydrive.drive import GoogleDrive\n",
        "from google.colab import auth\n",
        "from oauth2client.client import GoogleCredentials\n",
        "\n",
        "# 1. Authenticate and create the PyDrive client.\n",
        "auth.authenticate_user()\n",
        "gauth = GoogleAuth()\n",
        "gauth.credentials = GoogleCredentials.get_application_default()\n",
        "drive = GoogleDrive(gauth)  \n",
        "folder_id='1nMGkHjtKSRoGEOVg5-r04Q0lvWGIWVpS'\n",
        "# get the folder id where you want to save your file\n",
        "\n",
        "file = drive.CreateFile({'parents':[{u'id': folder_id}]})\n",
        "file.SetContentFile('y_train.pickle')\n",
        "file.Upload() \n"
      ],
      "execution_count": 61,
      "outputs": [
        {
          "output_type": "stream",
          "text": [
            "W0617 10:11:19.359536 140040332998528 __init__.py:44] file_cache is unavailable when using oauth2client >= 4.0.0\n",
            "Traceback (most recent call last):\n",
            "  File \"/usr/local/lib/python3.6/dist-packages/googleapiclient/discovery_cache/__init__.py\", line 36, in autodetect\n",
            "    from google.appengine.api import memcache\n",
            "ModuleNotFoundError: No module named 'google.appengine'\n",
            "\n",
            "During handling of the above exception, another exception occurred:\n",
            "\n",
            "Traceback (most recent call last):\n",
            "  File \"/usr/local/lib/python3.6/dist-packages/googleapiclient/discovery_cache/file_cache.py\", line 33, in <module>\n",
            "    from oauth2client.contrib.locked_file import LockedFile\n",
            "ModuleNotFoundError: No module named 'oauth2client.contrib.locked_file'\n",
            "\n",
            "During handling of the above exception, another exception occurred:\n",
            "\n",
            "Traceback (most recent call last):\n",
            "  File \"/usr/local/lib/python3.6/dist-packages/googleapiclient/discovery_cache/file_cache.py\", line 37, in <module>\n",
            "    from oauth2client.locked_file import LockedFile\n",
            "ModuleNotFoundError: No module named 'oauth2client.locked_file'\n",
            "\n",
            "During handling of the above exception, another exception occurred:\n",
            "\n",
            "Traceback (most recent call last):\n",
            "  File \"/usr/local/lib/python3.6/dist-packages/googleapiclient/discovery_cache/__init__.py\", line 41, in autodetect\n",
            "    from . import file_cache\n",
            "  File \"/usr/local/lib/python3.6/dist-packages/googleapiclient/discovery_cache/file_cache.py\", line 41, in <module>\n",
            "    'file_cache is unavailable when using oauth2client >= 4.0.0')\n",
            "ImportError: file_cache is unavailable when using oauth2client >= 4.0.0\n"
          ],
          "name": "stderr"
        }
      ]
    },
    {
      "cell_type": "code",
      "metadata": {
        "id": "gdc88NM-6KtS",
        "colab_type": "code",
        "colab": {
          "base_uri": "https://localhost:8080/",
          "height": 530
        },
        "outputId": "74fb84ff-3659-478c-ec34-1f0de532d12a"
      },
      "source": [
        "#uploading the pickle saved trained data in drive\n",
        "from pydrive.auth import GoogleAuth\n",
        "from pydrive.drive import GoogleDrive\n",
        "from google.colab import auth\n",
        "from oauth2client.client import GoogleCredentials\n",
        "\n",
        "# 1. Authenticate and create the PyDrive client.\n",
        "auth.authenticate_user()\n",
        "gauth = GoogleAuth()\n",
        "gauth.credentials = GoogleCredentials.get_application_default()\n",
        "drive = GoogleDrive(gauth)  \n",
        "folder_id='1nMGkHjtKSRoGEOVg5-r04Q0lvWGIWVpS'\n",
        "# get the folder id where you want to save your file\n",
        "\n",
        "file = drive.CreateFile({'parents':[{u'id': folder_id}]})\n",
        "file.SetContentFile('y_validate.pickle')\n",
        "file.Upload() "
      ],
      "execution_count": 62,
      "outputs": [
        {
          "output_type": "stream",
          "text": [
            "W0617 10:11:36.395754 140040332998528 __init__.py:44] file_cache is unavailable when using oauth2client >= 4.0.0\n",
            "Traceback (most recent call last):\n",
            "  File \"/usr/local/lib/python3.6/dist-packages/googleapiclient/discovery_cache/__init__.py\", line 36, in autodetect\n",
            "    from google.appengine.api import memcache\n",
            "ModuleNotFoundError: No module named 'google.appengine'\n",
            "\n",
            "During handling of the above exception, another exception occurred:\n",
            "\n",
            "Traceback (most recent call last):\n",
            "  File \"/usr/local/lib/python3.6/dist-packages/googleapiclient/discovery_cache/file_cache.py\", line 33, in <module>\n",
            "    from oauth2client.contrib.locked_file import LockedFile\n",
            "ModuleNotFoundError: No module named 'oauth2client.contrib.locked_file'\n",
            "\n",
            "During handling of the above exception, another exception occurred:\n",
            "\n",
            "Traceback (most recent call last):\n",
            "  File \"/usr/local/lib/python3.6/dist-packages/googleapiclient/discovery_cache/file_cache.py\", line 37, in <module>\n",
            "    from oauth2client.locked_file import LockedFile\n",
            "ModuleNotFoundError: No module named 'oauth2client.locked_file'\n",
            "\n",
            "During handling of the above exception, another exception occurred:\n",
            "\n",
            "Traceback (most recent call last):\n",
            "  File \"/usr/local/lib/python3.6/dist-packages/googleapiclient/discovery_cache/__init__.py\", line 41, in autodetect\n",
            "    from . import file_cache\n",
            "  File \"/usr/local/lib/python3.6/dist-packages/googleapiclient/discovery_cache/file_cache.py\", line 41, in <module>\n",
            "    'file_cache is unavailable when using oauth2client >= 4.0.0')\n",
            "ImportError: file_cache is unavailable when using oauth2client >= 4.0.0\n"
          ],
          "name": "stderr"
        }
      ]
    },
    {
      "cell_type": "code",
      "metadata": {
        "id": "pdqcx0Zl05t5",
        "colab_type": "code",
        "colab": {}
      },
      "source": [
        "# loading the saved data from google drive\n",
        "DATA_PATH = \"/content/drive/My Drive/Project/Pickle\"\n",
        "infile = open(DATA_PATH+'/x_train.pickle','rb')\n",
        "x_train = pickle.load(infile)\n",
        "infile = open(DATA_PATH+'/x_validate.pickle','rb')\n",
        "x_validate = pickle.load(infile)\n",
        "infile = open(DATA_PATH+'/y_train.pickle','rb')\n",
        "y_train = pickle.load(infile)\n",
        "infile = open(DATA_PATH+'/y_validate.pickle','rb')\n",
        "y_validate = pickle.load(infile)\n",
        "##probably works dont really know need to check later"
      ],
      "execution_count": 0,
      "outputs": []
    },
    {
      "cell_type": "code",
      "metadata": {
        "id": "OhNvzgKuQ_nY",
        "colab_type": "code",
        "colab": {}
      },
      "source": [
        "# check to see if shape of left and right input is same\n",
        "assert x_train['left'].shape == x_train['right'].shape\n",
        "\n",
        "# check to see if shape of input and output is same\n",
        "assert len(x_train['left']) == len(y_train)"
      ],
      "execution_count": 0,
      "outputs": []
    },
    {
      "cell_type": "code",
      "metadata": {
        "id": "x7ox-AVGRu60",
        "colab_type": "code",
        "outputId": "78045c8d-8703-4140-80db-4cab51cba55e",
        "colab": {
          "base_uri": "https://localhost:8080/",
          "height": 34
        }
      },
      "source": [
        "# shape of question1 column (x,y)==(total rows, total words in each question)\n",
        "x_train['left'].shape"
      ],
      "execution_count": 0,
      "outputs": [
        {
          "output_type": "execute_result",
          "data": {
            "text/plain": [
              "(283003, 50)"
            ]
          },
          "metadata": {
            "tags": []
          },
          "execution_count": 12
        }
      ]
    },
    {
      "cell_type": "code",
      "metadata": {
        "id": "rz0P_YedR236",
        "colab_type": "code",
        "colab": {}
      },
      "source": [
        "# manhattan distance calculation function\n",
        "import tensorflow.keras.backend as K\n",
        "def manhattan_distance(left,right):\n",
        "  return K.exp(-K.sum(K.abs(left-right),axis=1, keepdims=True))"
      ],
      "execution_count": 0,
      "outputs": []
    },
    {
      "cell_type": "code",
      "metadata": {
        "id": "2vdeYPxYTicf",
        "colab_type": "code",
        "outputId": "d5efa074-2c4f-42f8-dea0-6fa4725b6822",
        "colab": {
          "base_uri": "https://localhost:8080/",
          "height": 404
        }
      },
      "source": [
        "import tensorflow as tf\n",
        "from tensorflow.keras.layers import Input, Embedding, LSTM, Lambda,CuDNNLSTM\n",
        "\n",
        "n_hidden = 50\n",
        "n_epochs=2\n",
        "gradient_clipping_norm  = 1.25\n",
        "\n",
        "# input layer\n",
        "#recheck shape before training\n",
        "left_input = Input(shape = (max_seq_length,), dtype='int32',name = 'left_input')\n",
        "right_input = Input(shape = (max_seq_length,), dtype='int32', name = 'right_input')\n",
        "\n",
        "\n",
        "\n",
        "# embedding layer\n",
        "# recheck dims \n",
        "embedding_layer = Embedding(input_dim = len(embedding_matrix), output_dim = embedding_dim, input_length = max_seq_length, weights=[embedding_matrix], trainable=False, name = 'embedding_layer')\n",
        "\n",
        "encoded_left = embedding_layer(left_input)\n",
        "encoded_right = embedding_layer(right_input)\n",
        "\n",
        "\n",
        "\n",
        "#LSTM instantiation\n",
        "# check parameter for LSTM.\n",
        "shared_lstm = CuDNNLSTM(n_hidden, name = 'LSTM_layer')\n",
        "\n",
        "# shared LSTM\n",
        "left_output = shared_lstm(encoded_left)\n",
        "right_output = shared_lstm(encoded_right)\n",
        "\n",
        "\n",
        "\n",
        "\n",
        "# TODO: check output shape of the output lambda layer\n",
        "# output layer\n",
        "output_layer = Lambda(function = lambda x : manhattan_distance(x[0], x[1]),output_shape=lambda x: (x[0][0],1))([left_output, right_output])\n",
        "\n",
        "\n",
        "\n",
        "# define above model\n",
        "model = tf.keras.Model(inputs=[left_input, right_input], outputs=output_layer)\n",
        "\n",
        "# summary of model\n",
        "print(model.summary())\n"
      ],
      "execution_count": 81,
      "outputs": [
        {
          "output_type": "stream",
          "text": [
            "Model: \"model\"\n",
            "__________________________________________________________________________________________________\n",
            "Layer (type)                    Output Shape         Param #     Connected to                     \n",
            "==================================================================================================\n",
            "left_input (InputLayer)         [(None, 50)]         0                                            \n",
            "__________________________________________________________________________________________________\n",
            "right_input (InputLayer)        [(None, 50)]         0                                            \n",
            "__________________________________________________________________________________________________\n",
            "embedding_layer (Embedding)     (None, 50, 300)      25796400    left_input[0][0]                 \n",
            "                                                                 right_input[0][0]                \n",
            "__________________________________________________________________________________________________\n",
            "LSTM_layer (CuDNNLSTM)          (None, 50)           70400       embedding_layer[0][0]            \n",
            "                                                                 embedding_layer[1][0]            \n",
            "__________________________________________________________________________________________________\n",
            "lambda_1 (Lambda)               (None, 1)            0           LSTM_layer[0][0]                 \n",
            "                                                                 LSTM_layer[1][0]                 \n",
            "==================================================================================================\n",
            "Total params: 25,866,800\n",
            "Trainable params: 70,400\n",
            "Non-trainable params: 25,796,400\n",
            "__________________________________________________________________________________________________\n",
            "None\n"
          ],
          "name": "stdout"
        }
      ]
    },
    {
      "cell_type": "code",
      "metadata": {
        "id": "Nt8OV8UpU-Yg",
        "colab_type": "code",
        "outputId": "218a9e78-e151-488c-9655-975e8b5cb691",
        "colab": {
          "base_uri": "https://localhost:8080/",
          "height": 255
        }
      },
      "source": [
        "\n",
        "# compile the model\n",
        "from time import time\n",
        "from tensorflow.keras.optimizers import Adadelta\n",
        "from keras.callbacks import TensorBoard\n",
        "# LOG_DIR=\"/root/logs\"\n",
        "# tensorboard = TensorBoard(log_dir=LOG_DIR.format(time()))\n",
        "\n",
        "optimizer = Adadelta(clipnorm = gradient_clipping_norm)\n",
        "model.compile(optimizer = optimizer, loss = 'mean_squared_error', metrics = ['accuracy'])\n",
        "\n",
        "\n",
        "# Start training\n",
        "training_start_time = time()\n",
        "\n",
        "\n",
        "\n",
        "# train (fit) the model\n",
        "hist = model.fit([x_train['left'], x_train['right']], y_train, \n",
        "                 batch_size=64,\n",
        "                 epochs=n_epochs, \n",
        "                 validation_data=([x_validate['left'], x_validate['right']], y_validate))\n",
        "print(hist.history)\n"
      ],
      "execution_count": 76,
      "outputs": [
        {
          "output_type": "stream",
          "text": [
            "Using TensorFlow backend.\n"
          ],
          "name": "stderr"
        },
        {
          "output_type": "error",
          "ename": "NameError",
          "evalue": "ignored",
          "traceback": [
            "\u001b[0;31m---------------------------------------------------------------------------\u001b[0m",
            "\u001b[0;31mNameError\u001b[0m                                 Traceback (most recent call last)",
            "\u001b[0;32m<ipython-input-76-9803b924bb2f>\u001b[0m in \u001b[0;36m<module>\u001b[0;34m()\u001b[0m\n\u001b[1;32m      5\u001b[0m \u001b[0;31m# tensorboard = TensorBoard(log_dir=LOG_DIR.format(time()))\u001b[0m\u001b[0;34m\u001b[0m\u001b[0;34m\u001b[0m\u001b[0;34m\u001b[0m\u001b[0m\n\u001b[1;32m      6\u001b[0m \u001b[0;34m\u001b[0m\u001b[0m\n\u001b[0;32m----> 7\u001b[0;31m \u001b[0moptimizer\u001b[0m \u001b[0;34m=\u001b[0m \u001b[0mAdadelta\u001b[0m\u001b[0;34m(\u001b[0m\u001b[0mclipnorm\u001b[0m \u001b[0;34m=\u001b[0m \u001b[0mgradient_clipping_norm\u001b[0m\u001b[0;34m)\u001b[0m\u001b[0;34m\u001b[0m\u001b[0;34m\u001b[0m\u001b[0m\n\u001b[0m\u001b[1;32m      8\u001b[0m \u001b[0mmodel\u001b[0m\u001b[0;34m.\u001b[0m\u001b[0mcompile\u001b[0m\u001b[0;34m(\u001b[0m\u001b[0moptimizer\u001b[0m \u001b[0;34m=\u001b[0m \u001b[0moptimizer\u001b[0m\u001b[0;34m,\u001b[0m \u001b[0mloss\u001b[0m \u001b[0;34m=\u001b[0m \u001b[0;34m'mean_squared_error'\u001b[0m\u001b[0;34m,\u001b[0m \u001b[0mmetrics\u001b[0m \u001b[0;34m=\u001b[0m \u001b[0;34m[\u001b[0m\u001b[0;34m'accuracy'\u001b[0m\u001b[0;34m]\u001b[0m\u001b[0;34m)\u001b[0m\u001b[0;34m\u001b[0m\u001b[0;34m\u001b[0m\u001b[0m\n\u001b[1;32m      9\u001b[0m \u001b[0;34m\u001b[0m\u001b[0m\n",
            "\u001b[0;31mNameError\u001b[0m: name 'gradient_clipping_norm' is not defined"
          ]
        }
      ]
    },
    {
      "cell_type": "code",
      "metadata": {
        "id": "7lqahgzc2syH",
        "colab_type": "code",
        "outputId": "21fc227e-536e-483d-ad62-3c3fa1de1443",
        "colab": {
          "base_uri": "https://localhost:8080/",
          "height": 608
        }
      },
      "source": [
        "\n",
        "print(\"Training time finished.\\n{} epochs in {}\".format(2, datetime.timedelta(seconds=time()-training_start_time)))\n",
        "\n",
        "import matplotlib.pyplot as plt\n",
        "\n",
        "# Plot training & validation accuracy values\n",
        "plt.plot(hist.history['acc'])\n",
        "plt.plot(hist.history['val_acc'])\n",
        "plt.title('Model accuracy')\n",
        "plt.ylabel('Accuracy')\n",
        "plt.xlabel('Epoch')\n",
        "plt.legend(['Train', 'Test'], loc='upper left')\n",
        "plt.show()\n",
        "\n",
        "# Plot training & validation loss values\n",
        "plt.plot(hist.history['loss'])\n",
        "plt.plot(hist.history['val_loss'])\n",
        "plt.title('Model loss')\n",
        "plt.ylabel('Loss')\n",
        "plt.xlabel('Epoch')\n",
        "plt.legend(['Train', 'Test'], loc='upper left')\n",
        "plt.show()"
      ],
      "execution_count": 0,
      "outputs": [
        {
          "output_type": "stream",
          "text": [
            "Training time finished.\n",
            "2 epochs in 0:34:36.968637\n"
          ],
          "name": "stdout"
        },
        {
          "output_type": "display_data",
          "data": {
            "image/png": "[encoded data removed]",
            "text/plain": [
              "<Figure size 432x288 with 1 Axes>"
            ]
          },
          "metadata": {
            "tags": []
          }
        },
        {
          "output_type": "display_data",
          "data": {
            "image/png": "[encoded data removed]",
            "text/plain": [
              "<Figure size 432x288 with 1 Axes>"
            ]
          },
          "metadata": {
            "tags": []
          }
        }
      ]
    },
    {
      "cell_type": "code",
      "metadata": {
        "id": "M_GQ1mRg20hM",
        "colab_type": "code",
        "outputId": "f3c8f1eb-5a11-4285-f42a-090ea7de35f7",
        "colab": {
          "base_uri": "https://localhost:8080/",
          "height": 228
        }
      },
      "source": [
        "#saving the model\n",
        "model.save('/content/drive/My Drive/Project/DQD.h5')\n",
        "!ls '/content/drive/My Drive'"
      ],
      "execution_count": 82,
      "outputs": [
        {
          "output_type": "stream",
          "text": [
            "'Colab Notebooks'\n",
            " Compressed\n",
            " dogs-cats-images.zip\n",
            "'energy environment and society  assignment.pdf'\n",
            " GoogleNews-vectors-negative300.bin.gz\n",
            " image-93b016bfc7ea033589b8766d020d99cb0108180bdaa53d05dbdaf5883674852e-V.jpg\n",
            " Keygen.exe\n",
            " KIC072BCT039.jpg\n",
            "'New Doc 2019-03-03 12.05.252394441364277969478.pdf'\n",
            " Project\n",
            " the-new-encyclopedia-of-modern-bodybuilding-arnold.pdf\n",
            " train.csv\n"
          ],
          "name": "stdout"
        }
      ]
    },
    {
      "cell_type": "code",
      "metadata": {
        "id": "hoG0uWgVnsmK",
        "colab_type": "code",
        "colab": {
          "base_uri": "https://localhost:8080/",
          "height": 185
        },
        "outputId": "7ad2d03e-8b1a-44bd-dd72-11c2b75b9cb9"
      },
      "source": [
        "#loading the model\n",
        "file_obj = drive.CreateFile({'id': '1eRAXhgulFgBa3LDx8i8-Z5cUPdI0h3Zg'})     \n",
        "file_obj.GetContentFile('DQD.h5'##doesnt work need to work on this shit"
      ],
      "execution_count": 83,
      "outputs": [
        {
          "output_type": "error",
          "ename": "AttributeError",
          "evalue": "ignored",
          "traceback": [
            "\u001b[0;31m---------------------------------------------------------------------------\u001b[0m",
            "\u001b[0;31mAttributeError\u001b[0m                            Traceback (most recent call last)",
            "\u001b[0;32m<ipython-input-83-9f4e1c8296a5>\u001b[0m in \u001b[0;36m<module>\u001b[0;34m()\u001b[0m\n\u001b[0;32m----> 1\u001b[0;31m \u001b[0mfile_obj\u001b[0m \u001b[0;34m=\u001b[0m \u001b[0mdrive\u001b[0m\u001b[0;34m.\u001b[0m\u001b[0mCreateFile\u001b[0m\u001b[0;34m(\u001b[0m\u001b[0;34m{\u001b[0m\u001b[0;34m'id'\u001b[0m\u001b[0;34m:\u001b[0m \u001b[0;34m'1eRAXhgulFgBa3LDx8i8-Z5cUPdI0h3Zg'\u001b[0m\u001b[0;34m}\u001b[0m\u001b[0;34m)\u001b[0m\u001b[0;34m\u001b[0m\u001b[0;34m\u001b[0m\u001b[0m\n\u001b[0m\u001b[1;32m      2\u001b[0m \u001b[0mfile_obj\u001b[0m\u001b[0;34m.\u001b[0m\u001b[0mGetContentFile\u001b[0m\u001b[0;34m(\u001b[0m\u001b[0;34m'DQD.h5'\u001b[0m\u001b[0;34m)\u001b[0m\u001b[0;34m\u001b[0m\u001b[0;34m\u001b[0m\u001b[0m\n",
            "\u001b[0;31mAttributeError\u001b[0m: module 'google.colab.drive' has no attribute 'CreateFile'"
          ]
        }
      ]
    },
    {
      "cell_type": "code",
      "metadata": {
        "id": "KEu3LIUln0mt",
        "colab_type": "code",
        "colab": {}
      },
      "source": [
        "from tensoflow.keras.callbacks import tensorboard\n",
        "import time()\n",
        "NAME=\"DQD-LSTM-{}\".format(int(time.time())) #timestamping\n",
        "tensorboard= Tensorboard(log_dir='logs/{}'.format(NAME)) #call backs"
      ],
      "execution_count": 0,
      "outputs": []
    }
  ]
}
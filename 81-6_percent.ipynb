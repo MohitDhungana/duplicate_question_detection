{
  "nbformat": 4,
  "nbformat_minor": 0,
  "metadata": {
    "colab": {
      "name": "DQD_MAIN.ipynb",
      "version": "0.3.2",
      "provenance": [],
      "collapsed_sections": [],
      "include_colab_link": true
    },
    "kernelspec": {
      "name": "python3",
      "display_name": "Python 3"
    },
    "accelerator": "GPU"
  },
  "cells": [
    {
      "cell_type": "markdown",
      "metadata": {
        "id": "view-in-github",
        "colab_type": "text"
      },
      "source": [
        "<a href=\"https://colab.research.google.com/github/MohitDhungana/duplicate_question_detection/blob/master/81-6_percent.ipynb\" target=\"_parent\"><img src=\"https://colab.research.google.com/assets/colab-badge.svg\" alt=\"Open In Colab\"/></a>"
      ]
    },
    {
      "cell_type": "code",
      "metadata": {
        "id": "aZlxkvW__7mI",
        "colab_type": "code",
        "outputId": "78517597-c999-42f1-d38e-0c17c1b2a632",
        "colab": {
          "base_uri": "https://localhost:8080/",
          "height": 160
        }
      },
      "source": [
        "from time import time\n",
        "import pandas as pd\n",
        "import numpy as np\n",
        "from gensim.models import KeyedVectors\n",
        "import re\n",
        "import nltk\n",
        "from nltk.corpus import stopwords\n",
        "\n",
        "nltk.download('stopwords')\n",
        "\n",
        "import itertools\n",
        "import datetime\n",
        "\n",
        "\n",
        "from google.colab import drive\n",
        "drive.mount('/content/drive', force_remount=True)"
      ],
      "execution_count": 1,
      "outputs": [
        {
          "output_type": "stream",
          "text": [
            "[nltk_data] Downloading package stopwords to /root/nltk_data...\n",
            "[nltk_data]   Unzipping corpora/stopwords.zip.\n",
            "Go to this URL in a browser: https://accounts.google.com/o/oauth2/auth?client_id=947318989803-6bn6qk8qdgf4n4g3pfee6491hc0brc4i.apps.googleusercontent.com&redirect_uri=urn%3Aietf%3Awg%3Aoauth%3A2.0%3Aoob&scope=email%20https%3A%2F%2Fwww.googleapis.com%2Fauth%2Fdocs.test%20https%3A%2F%2Fwww.googleapis.com%2Fauth%2Fdrive%20https%3A%2F%2Fwww.googleapis.com%2Fauth%2Fdrive.photos.readonly%20https%3A%2F%2Fwww.googleapis.com%2Fauth%2Fpeopleapi.readonly&response_type=code\n",
            "\n",
            "Enter your authorization code:\n",
            "··········\n",
            "Mounted at /content/drive\n"
          ],
          "name": "stdout"
        }
      ]
    },
    {
      "cell_type": "code",
      "metadata": {
        "id": "uVvNDvPLBLDX",
        "colab_type": "code",
        "colab": {}
      },
      "source": [
        "df = pd.read_csv('/content/drive/My Drive/train.csv')\n",
        "stops = set(stopwords.words('english'))\n",
        "\n",
        "def text_to_word_list(text):\n",
        "#   gets a whole question inside text variable on which  preprocessing is done and then the question is splitted into word indices and returned\n",
        "    text = str(text)\n",
        "    text = text.lower()\n",
        "\n",
        "    # Clean the text\n",
        "    text = re.sub(r\"[^A-Za-z0-9^,!.\\/'+-=]\", \" \", text)\n",
        "    text = re.sub(r\"what's\", \"what is \", text)\n",
        "    text = re.sub(r\"\\'s\", \" \", text)\n",
        "    text = re.sub(r\"\\'ve\", \" have \", text)\n",
        "    text = re.sub(r\"can't\", \"cannot \", text)\n",
        "    text = re.sub(r\"n't\", \" not \", text)\n",
        "    text = re.sub(r\"i'm\", \"i am \", text)\n",
        "    text = re.sub(r\"\\'re\", \" are \", text)\n",
        "    text = re.sub(r\"\\'d\", \" would \", text)\n",
        "    text = re.sub(r\"\\'ll\", \" will \", text)\n",
        "    text = re.sub(r\",\", \" \", text)\n",
        "    text = re.sub(r\"\\.\", \" \", text)\n",
        "    text = re.sub(r\"!\", \" ! \", text)\n",
        "    text = re.sub(r\"\\/\", \" \", text)\n",
        "    text = re.sub(r\"\\^\", \" ^ \", text)\n",
        "    text = re.sub(r\"\\+\", \" + \", text)\n",
        "    text = re.sub(r\"\\-\", \" - \", text)\n",
        "    text = re.sub(r\"\\=\", \" = \", text)\n",
        "    text = re.sub(r\"'\", \" \", text)\n",
        "    text = re.sub(r\"(\\d+)(k)\", r\"\\g<1>000\", text)\n",
        "    text = re.sub(r\":\", \" : \", text)\n",
        "    text = re.sub(r\" e g \", \" eg \", text)\n",
        "    text = re.sub(r\" b g \", \" bg \", text)\n",
        "    text = re.sub(r\" u s \", \" american \", text)\n",
        "    text = re.sub(r\"\\0s\", \"0\", text)\n",
        "    text = re.sub(r\" 9 11 \", \"911\", text)\n",
        "    text = re.sub(r\"e - mail\", \"email\", text)\n",
        "    text = re.sub(r\"j k\", \"jk\", text)\n",
        "    text = re.sub(r\"\\s{2,}\", \" \", text)\n",
        "\n",
        "    text = text.split()\n",
        "\n",
        "    return text\n"
      ],
      "execution_count": 0,
      "outputs": []
    },
    {
      "cell_type": "code",
      "metadata": {
        "id": "v6YQyhoHwdAf",
        "colab_type": "code",
        "colab": {}
      },
      "source": [
        "vocabulary = dict() \n",
        "inverse_vocabulary = ['<unk>']"
      ],
      "execution_count": 0,
      "outputs": []
    },
    {
      "cell_type": "code",
      "metadata": {
        "id": "bfmvHK6CBb2v",
        "colab_type": "code",
        "outputId": "d0b0dbc7-fc1a-4e5c-8f0a-4a5f69b7fdd5",
        "colab": {
          "base_uri": "https://localhost:8080/",
          "height": 90
        }
      },
      "source": [
        "# Prepare embedding\n",
        "\n",
        "  # '<unk>' will never be used, it is only a placeholder for the [0, 0, ....0] embedding\n",
        "word2vec = KeyedVectors.load_word2vec_format('/content/drive/My Drive/GoogleNews-vectors-negative300.bin.gz', binary=True)\n",
        "\n",
        "questions_cols = ['question1', 'question2']\n",
        "\n",
        "# Iterate over the questions(i.e. 'question 1', 'question2') of the training sets provided \n",
        "# get the data from dataset(df) in  variable dataset\n",
        "for dataset in [df]:\n",
        "#   now iterate through the rows of the dataset using  index as iterator (i.e. goes through the row having particular index at a time) \n",
        "    for index, row in dataset.iterrows():\n",
        "\n",
        "        # Iterate through the text of both questions within the current  row\n",
        "        for question in questions_cols:\n",
        "            que2no = []  # que2no ->  numbers representation of the cureently being processed question\n",
        "            \n",
        "            count_ = 0\n",
        "\n",
        "            for word in text_to_word_list(row[question]):\n",
        "\n",
        "                # Check for unwanted words i.e mainly stopwords\n",
        "                if word in stops and word not in word2vec.vocab:\n",
        "                    continue\n",
        "                    \n",
        "#                 limit the length to 50, this decreased the time to train an epoch from more than 1 hour to 20 minutes.\n",
        "                if count_ >= 50 :\n",
        "                  continue\n",
        "                count_ +=1\n",
        "                \n",
        "                \n",
        "                if word not in vocabulary:\n",
        "                    vocabulary[word] = len(inverse_vocabulary)\n",
        "                    que2no.append(len(inverse_vocabulary))\n",
        "                    inverse_vocabulary.append(word)\n",
        "                else:\n",
        "                    que2no.append(vocabulary[word])\n",
        "#                     que2no.append(float(vocabulary[word]))\n",
        "\n",
        "#                 que2no=list(map(int,que2no))\n",
        "\n",
        "            # Replace questions as word to question as number representation\n",
        "            dataset.set_value(index, question, que2no)"
      ],
      "execution_count": 5,
      "outputs": [
        {
          "output_type": "stream",
          "text": [
            "/usr/local/lib/python3.6/dist-packages/smart_open/smart_open_lib.py:398: UserWarning: This function is deprecated, use smart_open.open instead. See the migration notes for details: https://github.com/RaRe-Technologies/smart_open/blob/master/README.rst#migrating-to-the-new-open-function\n",
            "  'See the migration notes for details: %s' % _MIGRATION_NOTES_URL\n",
            "/usr/local/lib/python3.6/dist-packages/ipykernel_launcher.py:40: FutureWarning: set_value is deprecated and will be removed in a future release. Please use .at[] or .iat[] accessors instead\n"
          ],
          "name": "stderr"
        }
      ]
    },
    {
      "cell_type": "code",
      "metadata": {
        "colab_type": "code",
        "id": "nLYjdBv3cPcI",
        "colab": {
          "base_uri": "https://localhost:8080/",
          "height": 195
        },
        "outputId": "f79deb22-1441-4751-ca9d-ad62c0eb6f43"
      },
      "source": [
        "# max_sequence_length=50\n",
        "max_seq_length = max(df.question1.map(lambda x: len(x)).max(),\n",
        "                     df.question2.map(lambda x: len(x)).max()\n",
        "                    )\n",
        "# max_seq_length\n",
        "df.tail()"
      ],
      "execution_count": 8,
      "outputs": [
        {
          "output_type": "execute_result",
          "data": {
            "text/html": [
              "<div>\n",
              "<style scoped>\n",
              "    .dataframe tbody tr th:only-of-type {\n",
              "        vertical-align: middle;\n",
              "    }\n",
              "\n",
              "    .dataframe tbody tr th {\n",
              "        vertical-align: top;\n",
              "    }\n",
              "\n",
              "    .dataframe thead th {\n",
              "        text-align: right;\n",
              "    }\n",
              "</style>\n",
              "<table border=\"1\" class=\"dataframe\">\n",
              "  <thead>\n",
              "    <tr style=\"text-align: right;\">\n",
              "      <th></th>\n",
              "      <th>id</th>\n",
              "      <th>qid1</th>\n",
              "      <th>qid2</th>\n",
              "      <th>question1</th>\n",
              "      <th>question2</th>\n",
              "      <th>is_duplicate</th>\n",
              "    </tr>\n",
              "  </thead>\n",
              "  <tbody>\n",
              "    <tr>\n",
              "      <th>404285</th>\n",
              "      <td>404285</td>\n",
              "      <td>433578</td>\n",
              "      <td>379845</td>\n",
              "      <td>[26, 184, 3632, 115, 307, 8, 3, 24585, 522, 52...</td>\n",
              "      <td>[26, 184, 3632, 115, 307, 8, 12032, 522, 523, ...</td>\n",
              "      <td>0</td>\n",
              "    </tr>\n",
              "    <tr>\n",
              "      <th>404286</th>\n",
              "      <td>404286</td>\n",
              "      <td>18840</td>\n",
              "      <td>155606</td>\n",
              "      <td>[97, 99, 2441, 307, 2, 598, 180, 1822]</td>\n",
              "      <td>[2, 47, 467, 77, 307, 2, 598, 180, 1822]</td>\n",
              "      <td>1</td>\n",
              "    </tr>\n",
              "    <tr>\n",
              "      <th>404287</th>\n",
              "      <td>404287</td>\n",
              "      <td>537928</td>\n",
              "      <td>537929</td>\n",
              "      <td>[1, 2, 57, 11012]</td>\n",
              "      <td>[1, 2, 83, 11012]</td>\n",
              "      <td>0</td>\n",
              "    </tr>\n",
              "    <tr>\n",
              "      <th>404288</th>\n",
              "      <td>404288</td>\n",
              "      <td>537930</td>\n",
              "      <td>537931</td>\n",
              "      <td>[1, 2, 3, 21205, 12587, 534, 2769, 33, 3114, 8...</td>\n",
              "      <td>[16, 42, 1086, 2877, 2854, 2622, 1220, 16, 173...</td>\n",
              "      <td>0</td>\n",
              "    </tr>\n",
              "    <tr>\n",
              "      <th>404289</th>\n",
              "      <td>404289</td>\n",
              "      <td>537932</td>\n",
              "      <td>537933</td>\n",
              "      <td>[1, 2, 139, 401, 2543, 175, 7227]</td>\n",
              "      <td>[1, 2, 47, 139, 401, 2543, 175, 135, 7227]</td>\n",
              "      <td>0</td>\n",
              "    </tr>\n",
              "  </tbody>\n",
              "</table>\n",
              "</div>"
            ],
            "text/plain": [
              "            id  ...  is_duplicate\n",
              "404285  404285  ...             0\n",
              "404286  404286  ...             1\n",
              "404287  404287  ...             0\n",
              "404288  404288  ...             0\n",
              "404289  404289  ...             0\n",
              "\n",
              "[5 rows x 6 columns]"
            ]
          },
          "metadata": {
            "tags": []
          },
          "execution_count": 8
        }
      ]
    },
    {
      "cell_type": "code",
      "metadata": {
        "id": "YS30hxt_OvzY",
        "colab_type": "code",
        "colab": {}
      },
      "source": [
        "embedding_dim = 300\n",
        "# creating an embedding matrix whose length is one more than vocabulary and dimension is 300\n",
        "embedding_matrix = 1 * np.random.randn(len(vocabulary) + 1, embedding_dim)  \n",
        "embedding_matrix[0] = 0  # So that the zeroth place remain empty \n",
        "\n",
        "# (Build the embedding matrix) Assigning the word2vec embedding for each words of our vocabulary  \n",
        "for word, index in vocabulary.items():\n",
        "    if word in word2vec.vocab:\n",
        "        embedding_matrix[index] = word2vec.word_vec(word)"
      ],
      "execution_count": 0,
      "outputs": []
    },
    {
      "cell_type": "code",
      "metadata": {
        "id": "6d-Q0dSmTamb",
        "colab_type": "code",
        "colab": {}
      },
      "source": [
        ""
      ],
      "execution_count": 0,
      "outputs": []
    },
    {
      "cell_type": "code",
      "metadata": {
        "id": "tZzmU3hmC1ky",
        "colab_type": "code",
        "colab": {}
      },
      "source": [
        ""
      ],
      "execution_count": 0,
      "outputs": []
    },
    {
      "cell_type": "code",
      "metadata": {
        "id": "zS7KaJt3O2R8",
        "colab_type": "code",
        "colab": {}
      },
      "source": [
        "del word2vec\n"
      ],
      "execution_count": 0,
      "outputs": []
    },
    {
      "cell_type": "code",
      "metadata": {
        "id": "CLo86-66TcDI",
        "colab_type": "code",
        "colab": {}
      },
      "source": [
        ""
      ],
      "execution_count": 0,
      "outputs": []
    },
    {
      "cell_type": "code",
      "metadata": {
        "id": "45RAsWjXC22L",
        "colab_type": "code",
        "colab": {}
      },
      "source": [
        ""
      ],
      "execution_count": 0,
      "outputs": []
    },
    {
      "cell_type": "code",
      "metadata": {
        "id": "iyQX5TXOPQYO",
        "colab_type": "code",
        "outputId": "c6bcd99c-3b87-4077-8620-b71dbb1af2c6",
        "colab": {
          "base_uri": "https://localhost:8080/",
          "height": 87
        }
      },
      "source": [
        "from sklearn.model_selection import train_test_split\n",
        "\n",
        "\n",
        "X=df[questions_cols]\n",
        "Y=df['is_duplicate']\n",
        "\n",
        "\n",
        "x_train,x_validate,y_train,y_validate = train_test_split(X, Y, test_size = 0.3) # dataset split to 70% for training and 30% for validation\n",
        "\n",
        "print(x_train.shape)\n",
        "print(x_validate.shape)\n",
        "print(y_train.shape)\n",
        "print(y_validate.shape)\n",
        "                 \n",
        "# Split to dicts\n",
        "x_train = {'left': x_train.question1, 'right': x_train.question2}\n",
        "x_validate = {'left': x_validate.question1, 'right': x_validate.question2}\n",
        "\n",
        "# Convert labels to their numpy representations\n",
        "y_train=y_train.values\n",
        "y_validate=y_validate.values\n",
        "\n"
      ],
      "execution_count": 10,
      "outputs": [
        {
          "output_type": "stream",
          "text": [
            "(283003, 2)\n",
            "(121287, 2)\n",
            "(283003,)\n",
            "(121287,)\n"
          ],
          "name": "stdout"
        }
      ]
    },
    {
      "cell_type": "code",
      "metadata": {
        "id": "hwux50WlTd80",
        "colab_type": "code",
        "colab": {}
      },
      "source": [
        ""
      ],
      "execution_count": 0,
      "outputs": []
    },
    {
      "cell_type": "code",
      "metadata": {
        "id": "U5tn7V2GC40y",
        "colab_type": "code",
        "colab": {}
      },
      "source": [
        ""
      ],
      "execution_count": 0,
      "outputs": []
    },
    {
      "cell_type": "code",
      "metadata": {
        "id": "jZc4-nnYP-dL",
        "colab_type": "code",
        "colab": {}
      },
      "source": [
        "from tensorflow.keras.preprocessing.sequence import pad_sequences\n",
        "\n",
        "# zero padding\n",
        "\n",
        "for dataset, side in itertools.product([x_train,x_validate],['left','right']):\n",
        "  dataset[side] = pad_sequences(dataset[side], maxlen = max_seq_length)"
      ],
      "execution_count": 0,
      "outputs": []
    },
    {
      "cell_type": "code",
      "metadata": {
        "id": "RgUMIIWPQ3zc",
        "colab_type": "code",
        "outputId": "28d591bc-2b51-4035-8233-116731581924",
        "colab": {
          "base_uri": "https://localhost:8080/",
          "height": 52
        }
      },
      "source": [
        "# print(df['question1'][0])\n",
        "\n",
        "# print(dataset)\n",
        "print(x_train['left'].shape)\n",
        "# print(x_train['left'])\n",
        "print(x_validate['left'].shape)"
      ],
      "execution_count": 12,
      "outputs": [
        {
          "output_type": "stream",
          "text": [
            "(283003, 50)\n",
            "(121287, 50)\n"
          ],
          "name": "stdout"
        }
      ]
    },
    {
      "cell_type": "code",
      "metadata": {
        "id": "OhNvzgKuQ_nY",
        "colab_type": "code",
        "colab": {}
      },
      "source": [
        "# check to see if shape of left and right input is same\n",
        "assert x_train['left'].shape == x_train['right'].shape\n",
        "\n",
        "# check to see if shape of input and output is same\n",
        "assert len(x_train['left']) == len(y_train)"
      ],
      "execution_count": 0,
      "outputs": []
    },
    {
      "cell_type": "code",
      "metadata": {
        "id": "x7ox-AVGRu60",
        "colab_type": "code",
        "outputId": "2999a01a-f68a-4c07-e110-33698620325c",
        "colab": {
          "base_uri": "https://localhost:8080/",
          "height": 34
        }
      },
      "source": [
        "# shape of question1 column (x,y)==(total rows, total words in each question)\n",
        "x_train['left'].shape"
      ],
      "execution_count": 14,
      "outputs": [
        {
          "output_type": "execute_result",
          "data": {
            "text/plain": [
              "(283003, 50)"
            ]
          },
          "metadata": {
            "tags": []
          },
          "execution_count": 14
        }
      ]
    },
    {
      "cell_type": "code",
      "metadata": {
        "id": "rz0P_YedR236",
        "colab_type": "code",
        "colab": {}
      },
      "source": [
        "# manhattan distance calculation function\n",
        "import tensorflow.keras.backend as K\n",
        "def manhattan_distance(left,right):\n",
        "  return K.exp(-K.sum(K.abs(left-right),axis=1, keepdims=True))"
      ],
      "execution_count": 0,
      "outputs": []
    },
    {
      "cell_type": "code",
      "metadata": {
        "id": "2vdeYPxYTicf",
        "colab_type": "code",
        "outputId": "6b64a30d-a5bc-4557-f852-747ef4df7f2d",
        "colab": {
          "base_uri": "https://localhost:8080/",
          "height": 547
        }
      },
      "source": [
        "import tensorflow as tf\n",
        "from tensorflow.keras.layers import Input, Embedding, LSTM, Lambda, CuDNNLSTM\n",
        "\n",
        "n_hidden = 15\n",
        "n_epochs=500\n",
        "gradient_clipping_norm  = 1.25\n",
        "\n",
        "# input layer\n",
        "#recheck shape before training\n",
        "left_input = Input(shape = (max_seq_length,), dtype='int32',name = 'left_input')\n",
        "right_input = Input(shape = (max_seq_length,), dtype='int32', name = 'right_input')\n",
        "\n",
        "\n",
        "\n",
        "# embedding layer\n",
        "# recheck dims \n",
        "embedding_layer = Embedding(input_dim = len(embedding_matrix), output_dim = embedding_dim, input_length = max_seq_length, weights=[embedding_matrix], trainable=False, name = 'embedding_layer')\n",
        "\n",
        "encoded_left = embedding_layer(left_input)\n",
        "encoded_right = embedding_layer(right_input)\n",
        "\n",
        "\n",
        "\n",
        "#LSTM instantiation\n",
        "# check parameter for LSTM.\n",
        "# LSTM(100, return_sequences=True, dropout=0.25, recurrent_dropout=0.1)\n",
        "shared_lstm = CuDNNLSTM(n_hidden, name = 'LSTM_layer')\n",
        "\n",
        "# shared LSTM\n",
        "left_output = shared_lstm(encoded_left)\n",
        "right_output = shared_lstm(encoded_right)\n",
        "\n",
        "\n",
        "\n",
        "\n",
        "# TODO: check output shape of the output lambda layer\n",
        "# output layer\n",
        "output_layer = Lambda(function = lambda x : manhattan_distance(x[0], x[1]),output_shape=lambda x: (x[0][0],1))([left_output, right_output])\n",
        "\n",
        "\n",
        "\n",
        "# define above model\n",
        "model = tf.keras.Model(inputs=[left_input, right_input], outputs=output_layer)\n",
        "\n",
        "# summary of model\n",
        "print(model.summary())"
      ],
      "execution_count": 16,
      "outputs": [
        {
          "output_type": "stream",
          "text": [
            "WARNING: Logging before flag parsing goes to stderr.\n",
            "W0629 04:17:40.747349 140099933190016 deprecation.py:506] From /usr/local/lib/python3.6/dist-packages/tensorflow/python/keras/initializers.py:119: calling RandomUniform.__init__ (from tensorflow.python.ops.init_ops) with dtype is deprecated and will be removed in a future version.\n",
            "Instructions for updating:\n",
            "Call initializer instance with the dtype argument instead of passing it to the constructor\n",
            "W0629 04:17:43.723053 140099933190016 deprecation.py:506] From /usr/local/lib/python3.6/dist-packages/tensorflow/python/ops/init_ops.py:1251: calling VarianceScaling.__init__ (from tensorflow.python.ops.init_ops) with dtype is deprecated and will be removed in a future version.\n",
            "Instructions for updating:\n",
            "Call initializer instance with the dtype argument instead of passing it to the constructor\n"
          ],
          "name": "stderr"
        },
        {
          "output_type": "stream",
          "text": [
            "Model: \"model\"\n",
            "__________________________________________________________________________________________________\n",
            "Layer (type)                    Output Shape         Param #     Connected to                     \n",
            "==================================================================================================\n",
            "left_input (InputLayer)         [(None, 50)]         0                                            \n",
            "__________________________________________________________________________________________________\n",
            "right_input (InputLayer)        [(None, 50)]         0                                            \n",
            "__________________________________________________________________________________________________\n",
            "embedding_layer (Embedding)     (None, 50, 300)      25796400    left_input[0][0]                 \n",
            "                                                                 right_input[0][0]                \n",
            "__________________________________________________________________________________________________\n",
            "LSTM_layer (CuDNNLSTM)          (None, 15)           19020       embedding_layer[0][0]            \n",
            "                                                                 embedding_layer[1][0]            \n",
            "__________________________________________________________________________________________________\n",
            "lambda (Lambda)                 (None, 1)            0           LSTM_layer[0][0]                 \n",
            "                                                                 LSTM_layer[1][0]                 \n",
            "==================================================================================================\n",
            "Total params: 25,815,420\n",
            "Trainable params: 19,020\n",
            "Non-trainable params: 25,796,400\n",
            "__________________________________________________________________________________________________\n",
            "None\n"
          ],
          "name": "stdout"
        }
      ]
    },
    {
      "cell_type": "code",
      "metadata": {
        "id": "Nt8OV8UpU-Yg",
        "colab_type": "code",
        "outputId": "0015227e-f4f2-4b6a-a2b4-fc709153ae53",
        "colab": {
          "base_uri": "https://localhost:8080/",
          "height": 1000
        }
      },
      "source": [
        "\n",
        "# compile the model\n",
        "from time import time\n",
        "from tensorflow.keras.optimizers import Adadelta\n",
        "from keras.callbacks import TensorBoard\n",
        "from tensorflow.keras.callbacks import EarlyStopping,ModelCheckpoint\n",
        "\n",
        "\n",
        "weight_path='/content/drive/My Drive/dqd_model_weights_80percent.h5'\n",
        "\n",
        "checkpoint = ModelCheckpoint(weight_path, monitor='val_loss', verbose=1, save_best_only=True, mode='min')\n",
        "early_stopping = EarlyStopping(monitor=\"val_loss\", mode=\"min\", patience=5)\n",
        "callbacks = [checkpoint, early_stopping]\n",
        "\n",
        "optimizer = Adadelta(lr=1, clipnorm = gradient_clipping_norm)\n",
        "model.compile(optimizer = optimizer, loss = 'mean_squared_error', metrics = ['accuracy'])\n",
        "\n",
        "# LOG_DIR=\"/root/logs\"\n",
        "# tensorboard = TensorBoard(log_dir=LOG_DIR.format(time()))\n",
        "\n",
        "# Start training\n",
        "training_start_time = time()\n",
        "\n",
        "\n",
        "# train (fit) the model\n",
        "hist = model.fit([x_train['left'], x_train['right']], y_train, \n",
        "                 batch_size=64,\n",
        "                 epochs=n_epochs, \n",
        "                 validation_split=0.2, \n",
        "                 callbacks=callbacks)\n",
        "print(hist.history)"
      ],
      "execution_count": 17,
      "outputs": [
        {
          "output_type": "stream",
          "text": [
            "Train on 226402 samples, validate on 56601 samples\n"
          ],
          "name": "stdout"
        },
        {
          "output_type": "stream",
          "text": [
            "Using TensorFlow backend.\n",
            "W0629 04:17:44.311482 140099933190016 deprecation.py:323] From /usr/local/lib/python3.6/dist-packages/tensorflow/python/ops/clip_ops.py:157: add_dispatch_support.<locals>.wrapper (from tensorflow.python.ops.array_ops) is deprecated and will be removed in a future version.\n",
            "Instructions for updating:\n",
            "Use tf.where in 2.0, which has the same broadcast rule as np.where\n"
          ],
          "name": "stderr"
        },
        {
          "output_type": "stream",
          "text": [
            "Epoch 1/500\n",
            "226048/226402 [============================>.] - ETA: 0s - loss: 0.1733 - acc: 0.7428\n",
            "Epoch 00001: val_loss improved from inf to 0.16146, saving model to /content/drive/My Drive/dqd_model_weights_80percent.h5\n",
            "226402/226402 [==============================] - 35s 154us/sample - loss: 0.1733 - acc: 0.7429 - val_loss: 0.1615 - val_acc: 0.7659\n",
            "Epoch 2/500\n",
            "225984/226402 [============================>.] - ETA: 0s - loss: 0.1564 - acc: 0.7747\n",
            "Epoch 00002: val_loss improved from 0.16146 to 0.15553, saving model to /content/drive/My Drive/dqd_model_weights_80percent.h5\n",
            "226402/226402 [==============================] - 33s 146us/sample - loss: 0.1564 - acc: 0.7747 - val_loss: 0.1555 - val_acc: 0.7746\n",
            "Epoch 3/500\n",
            "226048/226402 [============================>.] - ETA: 0s - loss: 0.1501 - acc: 0.7861\n",
            "Epoch 00003: val_loss improved from 0.15553 to 0.15043, saving model to /content/drive/My Drive/dqd_model_weights_80percent.h5\n",
            "226402/226402 [==============================] - 33s 145us/sample - loss: 0.1501 - acc: 0.7861 - val_loss: 0.1504 - val_acc: 0.7868\n",
            "Epoch 4/500\n",
            "226240/226402 [============================>.] - ETA: 0s - loss: 0.1462 - acc: 0.7939\n",
            "Epoch 00004: val_loss improved from 0.15043 to 0.14798, saving model to /content/drive/My Drive/dqd_model_weights_80percent.h5\n",
            "226402/226402 [==============================] - 33s 147us/sample - loss: 0.1461 - acc: 0.7939 - val_loss: 0.1480 - val_acc: 0.7891\n",
            "Epoch 5/500\n",
            "226368/226402 [============================>.] - ETA: 0s - loss: 0.1431 - acc: 0.7990\n",
            "Epoch 00005: val_loss improved from 0.14798 to 0.14746, saving model to /content/drive/My Drive/dqd_model_weights_80percent.h5\n",
            "226402/226402 [==============================] - 32s 143us/sample - loss: 0.1431 - acc: 0.7990 - val_loss: 0.1475 - val_acc: 0.7858\n",
            "Epoch 6/500\n",
            "225984/226402 [============================>.] - ETA: 0s - loss: 0.1408 - acc: 0.8029\n",
            "Epoch 00006: val_loss improved from 0.14746 to 0.14535, saving model to /content/drive/My Drive/dqd_model_weights_80percent.h5\n",
            "226402/226402 [==============================] - 33s 144us/sample - loss: 0.1408 - acc: 0.8029 - val_loss: 0.1453 - val_acc: 0.7904\n",
            "Epoch 7/500\n",
            "226240/226402 [============================>.] - ETA: 0s - loss: 0.1388 - acc: 0.8072\n",
            "Epoch 00007: val_loss improved from 0.14535 to 0.14354, saving model to /content/drive/My Drive/dqd_model_weights_80percent.h5\n",
            "226402/226402 [==============================] - 32s 143us/sample - loss: 0.1388 - acc: 0.8072 - val_loss: 0.1435 - val_acc: 0.7984\n",
            "Epoch 8/500\n",
            "226368/226402 [============================>.] - ETA: 0s - loss: 0.1370 - acc: 0.8101\n",
            "Epoch 00008: val_loss improved from 0.14354 to 0.14299, saving model to /content/drive/My Drive/dqd_model_weights_80percent.h5\n",
            "226402/226402 [==============================] - 32s 143us/sample - loss: 0.1370 - acc: 0.8101 - val_loss: 0.1430 - val_acc: 0.8004\n",
            "Epoch 9/500\n",
            "226048/226402 [============================>.] - ETA: 0s - loss: 0.1357 - acc: 0.8124\n",
            "Epoch 00009: val_loss improved from 0.14299 to 0.14170, saving model to /content/drive/My Drive/dqd_model_weights_80percent.h5\n",
            "226402/226402 [==============================] - 32s 142us/sample - loss: 0.1357 - acc: 0.8125 - val_loss: 0.1417 - val_acc: 0.7979\n",
            "Epoch 10/500\n",
            "226240/226402 [============================>.] - ETA: 0s - loss: 0.1344 - acc: 0.8149\n",
            "Epoch 00010: val_loss improved from 0.14170 to 0.14106, saving model to /content/drive/My Drive/dqd_model_weights_80percent.h5\n",
            "226402/226402 [==============================] - 33s 145us/sample - loss: 0.1344 - acc: 0.8149 - val_loss: 0.1411 - val_acc: 0.7993\n",
            "Epoch 11/500\n",
            "226048/226402 [============================>.] - ETA: 0s - loss: 0.1331 - acc: 0.8170\n",
            "Epoch 00011: val_loss improved from 0.14106 to 0.13980, saving model to /content/drive/My Drive/dqd_model_weights_80percent.h5\n",
            "226402/226402 [==============================] - 34s 149us/sample - loss: 0.1331 - acc: 0.8170 - val_loss: 0.1398 - val_acc: 0.8023\n",
            "Epoch 12/500\n",
            "226240/226402 [============================>.] - ETA: 0s - loss: 0.1321 - acc: 0.8186\n",
            "Epoch 00012: val_loss improved from 0.13980 to 0.13951, saving model to /content/drive/My Drive/dqd_model_weights_80percent.h5\n",
            "226402/226402 [==============================] - 32s 143us/sample - loss: 0.1321 - acc: 0.8186 - val_loss: 0.1395 - val_acc: 0.8028\n",
            "Epoch 13/500\n",
            "226240/226402 [============================>.] - ETA: 0s - loss: 0.1312 - acc: 0.8203\n",
            "Epoch 00013: val_loss improved from 0.13951 to 0.13852, saving model to /content/drive/My Drive/dqd_model_weights_80percent.h5\n",
            "226402/226402 [==============================] - 32s 143us/sample - loss: 0.1312 - acc: 0.8204 - val_loss: 0.1385 - val_acc: 0.8040\n",
            "Epoch 14/500\n",
            "226176/226402 [============================>.] - ETA: 0s - loss: 0.1303 - acc: 0.8219\n",
            "Epoch 00014: val_loss improved from 0.13852 to 0.13801, saving model to /content/drive/My Drive/dqd_model_weights_80percent.h5\n",
            "226402/226402 [==============================] - 32s 142us/sample - loss: 0.1303 - acc: 0.8220 - val_loss: 0.1380 - val_acc: 0.8059\n",
            "Epoch 15/500\n",
            "226176/226402 [============================>.] - ETA: 0s - loss: 0.1295 - acc: 0.8231\n",
            "Epoch 00015: val_loss improved from 0.13801 to 0.13795, saving model to /content/drive/My Drive/dqd_model_weights_80percent.h5\n",
            "226402/226402 [==============================] - 33s 146us/sample - loss: 0.1295 - acc: 0.8231 - val_loss: 0.1380 - val_acc: 0.8081\n",
            "Epoch 16/500\n",
            "226240/226402 [============================>.] - ETA: 0s - loss: 0.1288 - acc: 0.8249\n",
            "Epoch 00016: val_loss improved from 0.13795 to 0.13719, saving model to /content/drive/My Drive/dqd_model_weights_80percent.h5\n",
            "226402/226402 [==============================] - 33s 145us/sample - loss: 0.1288 - acc: 0.8249 - val_loss: 0.1372 - val_acc: 0.8075\n",
            "Epoch 17/500\n",
            "226240/226402 [============================>.] - ETA: 0s - loss: 0.1280 - acc: 0.8258\n",
            "Epoch 00017: val_loss improved from 0.13719 to 0.13690, saving model to /content/drive/My Drive/dqd_model_weights_80percent.h5\n",
            "226402/226402 [==============================] - 33s 147us/sample - loss: 0.1280 - acc: 0.8258 - val_loss: 0.1369 - val_acc: 0.8098\n",
            "Epoch 18/500\n",
            "226240/226402 [============================>.] - ETA: 0s - loss: 0.1275 - acc: 0.8271\n",
            "Epoch 00018: val_loss improved from 0.13690 to 0.13666, saving model to /content/drive/My Drive/dqd_model_weights_80percent.h5\n",
            "226402/226402 [==============================] - 33s 145us/sample - loss: 0.1275 - acc: 0.8271 - val_loss: 0.1367 - val_acc: 0.8086\n",
            "Epoch 19/500\n",
            "226368/226402 [============================>.] - ETA: 0s - loss: 0.1269 - acc: 0.8277\n",
            "Epoch 00019: val_loss improved from 0.13666 to 0.13624, saving model to /content/drive/My Drive/dqd_model_weights_80percent.h5\n",
            "226402/226402 [==============================] - 33s 148us/sample - loss: 0.1269 - acc: 0.8277 - val_loss: 0.1362 - val_acc: 0.8101\n",
            "Epoch 20/500\n",
            "226048/226402 [============================>.] - ETA: 0s - loss: 0.1264 - acc: 0.8285\n",
            "Epoch 00020: val_loss did not improve from 0.13624\n",
            "226402/226402 [==============================] - 32s 142us/sample - loss: 0.1264 - acc: 0.8286 - val_loss: 0.1365 - val_acc: 0.8101\n",
            "Epoch 21/500\n",
            "226240/226402 [============================>.] - ETA: 0s - loss: 0.1258 - acc: 0.8299\n",
            "Epoch 00021: val_loss did not improve from 0.13624\n",
            "226402/226402 [==============================] - 32s 140us/sample - loss: 0.1258 - acc: 0.8300 - val_loss: 0.1366 - val_acc: 0.8072\n",
            "Epoch 22/500\n",
            "226368/226402 [============================>.] - ETA: 0s - loss: 0.1254 - acc: 0.8308\n",
            "Epoch 00022: val_loss improved from 0.13624 to 0.13608, saving model to /content/drive/My Drive/dqd_model_weights_80percent.h5\n",
            "226402/226402 [==============================] - 33s 146us/sample - loss: 0.1254 - acc: 0.8308 - val_loss: 0.1361 - val_acc: 0.8090\n",
            "Epoch 23/500\n",
            "226048/226402 [============================>.] - ETA: 0s - loss: 0.1250 - acc: 0.8308\n",
            "Epoch 00023: val_loss improved from 0.13608 to 0.13550, saving model to /content/drive/My Drive/dqd_model_weights_80percent.h5\n",
            "226402/226402 [==============================] - 34s 149us/sample - loss: 0.1250 - acc: 0.8308 - val_loss: 0.1355 - val_acc: 0.8120\n",
            "Epoch 24/500\n",
            "226112/226402 [============================>.] - ETA: 0s - loss: 0.1245 - acc: 0.8313\n",
            "Epoch 00024: val_loss did not improve from 0.13550\n",
            "226402/226402 [==============================] - 33s 144us/sample - loss: 0.1246 - acc: 0.8313 - val_loss: 0.1358 - val_acc: 0.8098\n",
            "Epoch 25/500\n",
            "226304/226402 [============================>.] - ETA: 0s - loss: 0.1242 - acc: 0.8322\n",
            "Epoch 00025: val_loss improved from 0.13550 to 0.13547, saving model to /content/drive/My Drive/dqd_model_weights_80percent.h5\n",
            "226402/226402 [==============================] - 33s 147us/sample - loss: 0.1242 - acc: 0.8321 - val_loss: 0.1355 - val_acc: 0.8118\n",
            "Epoch 26/500\n",
            "226240/226402 [============================>.] - ETA: 0s - loss: 0.1238 - acc: 0.8330\n",
            "Epoch 00026: val_loss improved from 0.13547 to 0.13472, saving model to /content/drive/My Drive/dqd_model_weights_80percent.h5\n",
            "226402/226402 [==============================] - 34s 148us/sample - loss: 0.1238 - acc: 0.8330 - val_loss: 0.1347 - val_acc: 0.8133\n",
            "Epoch 27/500\n",
            "226048/226402 [============================>.] - ETA: 0s - loss: 0.1234 - acc: 0.8339\n",
            "Epoch 00027: val_loss did not improve from 0.13472\n",
            "226402/226402 [==============================] - 32s 142us/sample - loss: 0.1235 - acc: 0.8339 - val_loss: 0.1357 - val_acc: 0.8133\n",
            "Epoch 28/500\n",
            "226048/226402 [============================>.] - ETA: 0s - loss: 0.1231 - acc: 0.8342\n",
            "Epoch 00028: val_loss improved from 0.13472 to 0.13459, saving model to /content/drive/My Drive/dqd_model_weights_80percent.h5\n",
            "226402/226402 [==============================] - 34s 151us/sample - loss: 0.1231 - acc: 0.8342 - val_loss: 0.1346 - val_acc: 0.8138\n",
            "Epoch 29/500\n",
            "226304/226402 [============================>.] - ETA: 0s - loss: 0.1228 - acc: 0.8346\n",
            "Epoch 00029: val_loss improved from 0.13459 to 0.13426, saving model to /content/drive/My Drive/dqd_model_weights_80percent.h5\n",
            "226402/226402 [==============================] - 34s 150us/sample - loss: 0.1228 - acc: 0.8346 - val_loss: 0.1343 - val_acc: 0.8146\n",
            "Epoch 30/500\n",
            "226048/226402 [============================>.] - ETA: 0s - loss: 0.1224 - acc: 0.8354\n",
            "Epoch 00030: val_loss did not improve from 0.13426\n",
            "226402/226402 [==============================] - 33s 148us/sample - loss: 0.1224 - acc: 0.8354 - val_loss: 0.1345 - val_acc: 0.8122\n",
            "Epoch 31/500\n",
            "226176/226402 [============================>.] - ETA: 0s - loss: 0.1221 - acc: 0.8355\n",
            "Epoch 00031: val_loss did not improve from 0.13426\n",
            "226402/226402 [==============================] - 32s 141us/sample - loss: 0.1221 - acc: 0.8355 - val_loss: 0.1345 - val_acc: 0.8132\n",
            "Epoch 32/500\n",
            "226176/226402 [============================>.] - ETA: 0s - loss: 0.1219 - acc: 0.8358\n",
            "Epoch 00032: val_loss improved from 0.13426 to 0.13401, saving model to /content/drive/My Drive/dqd_model_weights_80percent.h5\n",
            "226402/226402 [==============================] - 33s 147us/sample - loss: 0.1219 - acc: 0.8358 - val_loss: 0.1340 - val_acc: 0.8139\n",
            "Epoch 33/500\n",
            "226112/226402 [============================>.] - ETA: 0s - loss: 0.1216 - acc: 0.8367\n",
            "Epoch 00033: val_loss did not improve from 0.13401\n",
            "226402/226402 [==============================] - 33s 144us/sample - loss: 0.1216 - acc: 0.8367 - val_loss: 0.1340 - val_acc: 0.8137\n",
            "Epoch 34/500\n",
            "226176/226402 [============================>.] - ETA: 0s - loss: 0.1214 - acc: 0.8371\n",
            "Epoch 00034: val_loss did not improve from 0.13401\n",
            "226402/226402 [==============================] - 32s 141us/sample - loss: 0.1214 - acc: 0.8372 - val_loss: 0.1343 - val_acc: 0.8125\n",
            "Epoch 35/500\n",
            "226304/226402 [============================>.] - ETA: 0s - loss: 0.1211 - acc: 0.8376\n",
            "Epoch 00035: val_loss improved from 0.13401 to 0.13389, saving model to /content/drive/My Drive/dqd_model_weights_80percent.h5\n",
            "226402/226402 [==============================] - 33s 147us/sample - loss: 0.1211 - acc: 0.8376 - val_loss: 0.1339 - val_acc: 0.8146\n",
            "Epoch 36/500\n",
            "225984/226402 [============================>.] - ETA: 0s - loss: 0.1209 - acc: 0.8374\n",
            "Epoch 00036: val_loss improved from 0.13389 to 0.13364, saving model to /content/drive/My Drive/dqd_model_weights_80percent.h5\n",
            "226402/226402 [==============================] - 33s 147us/sample - loss: 0.1209 - acc: 0.8374 - val_loss: 0.1336 - val_acc: 0.8144\n",
            "Epoch 37/500\n",
            "226048/226402 [============================>.] - ETA: 0s - loss: 0.1207 - acc: 0.8384\n",
            "Epoch 00037: val_loss improved from 0.13364 to 0.13333, saving model to /content/drive/My Drive/dqd_model_weights_80percent.h5\n",
            "226402/226402 [==============================] - 34s 150us/sample - loss: 0.1206 - acc: 0.8385 - val_loss: 0.1333 - val_acc: 0.8151\n",
            "Epoch 38/500\n",
            "226176/226402 [============================>.] - ETA: 0s - loss: 0.1203 - acc: 0.8389\n",
            "Epoch 00038: val_loss did not improve from 0.13333\n",
            "226402/226402 [==============================] - 32s 143us/sample - loss: 0.1203 - acc: 0.8388 - val_loss: 0.1334 - val_acc: 0.8152\n",
            "Epoch 39/500\n",
            "226176/226402 [============================>.] - ETA: 0s - loss: 0.1201 - acc: 0.8390\n",
            "Epoch 00039: val_loss improved from 0.13333 to 0.13317, saving model to /content/drive/My Drive/dqd_model_weights_80percent.h5\n",
            "226402/226402 [==============================] - 33s 148us/sample - loss: 0.1201 - acc: 0.8389 - val_loss: 0.1332 - val_acc: 0.8159\n",
            "Epoch 40/500\n",
            "226304/226402 [============================>.] - ETA: 0s - loss: 0.1200 - acc: 0.8396\n",
            "Epoch 00040: val_loss improved from 0.13317 to 0.13309, saving model to /content/drive/My Drive/dqd_model_weights_80percent.h5\n",
            "226402/226402 [==============================] - 34s 150us/sample - loss: 0.1200 - acc: 0.8396 - val_loss: 0.1331 - val_acc: 0.8153\n",
            "Epoch 41/500\n",
            "226304/226402 [============================>.] - ETA: 0s - loss: 0.1197 - acc: 0.8395\n",
            "Epoch 00041: val_loss did not improve from 0.13309\n",
            "226402/226402 [==============================] - 32s 142us/sample - loss: 0.1197 - acc: 0.8395 - val_loss: 0.1332 - val_acc: 0.8159\n",
            "Epoch 42/500\n",
            "226368/226402 [============================>.] - ETA: 0s - loss: 0.1196 - acc: 0.8400\n",
            "Epoch 00042: val_loss did not improve from 0.13309\n",
            "226402/226402 [==============================] - 32s 141us/sample - loss: 0.1196 - acc: 0.8400 - val_loss: 0.1333 - val_acc: 0.8153\n",
            "Epoch 43/500\n",
            "226304/226402 [============================>.] - ETA: 0s - loss: 0.1193 - acc: 0.8404\n",
            "Epoch 00043: val_loss did not improve from 0.13309\n",
            "226402/226402 [==============================] - 32s 142us/sample - loss: 0.1193 - acc: 0.8404 - val_loss: 0.1332 - val_acc: 0.8156\n",
            "Epoch 44/500\n",
            "226112/226402 [============================>.] - ETA: 0s - loss: 0.1191 - acc: 0.8408\n",
            "Epoch 00044: val_loss did not improve from 0.13309\n",
            "226402/226402 [==============================] - 32s 140us/sample - loss: 0.1191 - acc: 0.8408 - val_loss: 0.1331 - val_acc: 0.8146\n",
            "Epoch 45/500\n",
            "226368/226402 [============================>.] - ETA: 0s - loss: 0.1188 - acc: 0.8412\n",
            "Epoch 00045: val_loss improved from 0.13309 to 0.13288, saving model to /content/drive/My Drive/dqd_model_weights_80percent.h5\n",
            "226402/226402 [==============================] - 33s 147us/sample - loss: 0.1188 - acc: 0.8412 - val_loss: 0.1329 - val_acc: 0.8152\n",
            "Epoch 46/500\n",
            "226176/226402 [============================>.] - ETA: 0s - loss: 0.1187 - acc: 0.8418\n",
            "Epoch 00046: val_loss did not improve from 0.13288\n",
            "226402/226402 [==============================] - 32s 142us/sample - loss: 0.1187 - acc: 0.8418 - val_loss: 0.1330 - val_acc: 0.8164\n",
            "Epoch 47/500\n",
            "226240/226402 [============================>.] - ETA: 0s - loss: 0.1185 - acc: 0.8425\n",
            "Epoch 00047: val_loss improved from 0.13288 to 0.13272, saving model to /content/drive/My Drive/dqd_model_weights_80percent.h5\n",
            "226402/226402 [==============================] - 33s 147us/sample - loss: 0.1185 - acc: 0.8424 - val_loss: 0.1327 - val_acc: 0.8161\n",
            "Epoch 48/500\n",
            "226048/226402 [============================>.] - ETA: 0s - loss: 0.1183 - acc: 0.8420\n",
            "Epoch 00048: val_loss did not improve from 0.13272\n",
            "226402/226402 [==============================] - 32s 144us/sample - loss: 0.1183 - acc: 0.8420 - val_loss: 0.1328 - val_acc: 0.8167\n",
            "Epoch 49/500\n",
            "226304/226402 [============================>.] - ETA: 0s - loss: 0.1182 - acc: 0.8424\n",
            "Epoch 00049: val_loss improved from 0.13272 to 0.13252, saving model to /content/drive/My Drive/dqd_model_weights_80percent.h5\n",
            "226402/226402 [==============================] - 33s 147us/sample - loss: 0.1182 - acc: 0.8425 - val_loss: 0.1325 - val_acc: 0.8160\n",
            "Epoch 50/500\n",
            "226304/226402 [============================>.] - ETA: 0s - loss: 0.1179 - acc: 0.8428\n",
            "Epoch 00050: val_loss did not improve from 0.13252\n",
            "226402/226402 [==============================] - 32s 144us/sample - loss: 0.1179 - acc: 0.8428 - val_loss: 0.1330 - val_acc: 0.8148\n",
            "Epoch 51/500\n",
            "226304/226402 [============================>.] - ETA: 0s - loss: 0.1178 - acc: 0.8432\n",
            "Epoch 00051: val_loss improved from 0.13252 to 0.13251, saving model to /content/drive/My Drive/dqd_model_weights_80percent.h5\n",
            "226402/226402 [==============================] - 33s 145us/sample - loss: 0.1178 - acc: 0.8431 - val_loss: 0.1325 - val_acc: 0.8170\n",
            "Epoch 52/500\n",
            "226240/226402 [============================>.] - ETA: 0s - loss: 0.1177 - acc: 0.8434\n",
            "Epoch 00052: val_loss did not improve from 0.13251\n",
            "226402/226402 [==============================] - 32s 142us/sample - loss: 0.1177 - acc: 0.8434 - val_loss: 0.1327 - val_acc: 0.8167\n",
            "Epoch 53/500\n",
            "226176/226402 [============================>.] - ETA: 0s - loss: 0.1174 - acc: 0.8439\n",
            "Epoch 00053: val_loss did not improve from 0.13251\n",
            "226402/226402 [==============================] - 32s 143us/sample - loss: 0.1174 - acc: 0.8439 - val_loss: 0.1327 - val_acc: 0.8163\n",
            "Epoch 54/500\n",
            "226304/226402 [============================>.] - ETA: 0s - loss: 0.1172 - acc: 0.8442\n",
            "Epoch 00054: val_loss did not improve from 0.13251\n",
            "226402/226402 [==============================] - 32s 141us/sample - loss: 0.1172 - acc: 0.8442 - val_loss: 0.1330 - val_acc: 0.8162\n",
            "Epoch 55/500\n",
            "226112/226402 [============================>.] - ETA: 0s - loss: 0.1171 - acc: 0.8440\n",
            "Epoch 00055: val_loss did not improve from 0.13251\n",
            "226402/226402 [==============================] - 32s 143us/sample - loss: 0.1171 - acc: 0.8440 - val_loss: 0.1328 - val_acc: 0.8153\n",
            "Epoch 56/500\n",
            "226368/226402 [============================>.] - ETA: 0s - loss: 0.1170 - acc: 0.8447\n",
            "Epoch 00056: val_loss did not improve from 0.13251\n",
            "226402/226402 [==============================] - 31s 139us/sample - loss: 0.1170 - acc: 0.8447 - val_loss: 0.1325 - val_acc: 0.8173\n",
            "{'loss': [0.17328771529716355, 0.15640993496580097, 0.150113967967702, 0.1461329400376698, 0.14314230786120843, 0.1408058929145181, 0.13880574807352636, 0.13702716671884801, 0.13566152739282739, 0.13436111970885464, 0.1331392469477453, 0.13210124587231523, 0.13115384462898033, 0.13026591848597727, 0.12948914465749192, 0.12877972354882683, 0.12804962065208064, 0.1274525306608743, 0.12693456109518436, 0.1264274691647078, 0.12581604190688814, 0.12544231149048488, 0.12500528175812245, 0.12455798853351815, 0.12419581924708709, 0.1238192644074012, 0.12345303144033494, 0.1231051086984552, 0.12276016915954245, 0.12243111822586146, 0.12212587901091547, 0.12187525590059335, 0.12155615775169219, 0.12140240675113491, 0.12108464890067712, 0.12085602489993942, 0.12063700374844034, 0.12029310882909236, 0.12014889526903309, 0.11996306382238982, 0.11971173935443642, 0.1195526583590047, 0.11933315473375655, 0.11911935129846653, 0.11883199085038341, 0.11870591196874554, 0.11852034501406061, 0.11830686942722127, 0.11817015038644584, 0.11793609761655546, 0.11776818215874395, 0.11767073097634417, 0.11744857586387075, 0.117203412255285, 0.11709328363267849, 0.11696993814357823], 'acc': [0.7428645, 0.7746619, 0.7861238, 0.79394174, 0.7990168, 0.80286396, 0.8072146, 0.81012535, 0.81250167, 0.8149442, 0.81699365, 0.8186456, 0.82035494, 0.82198477, 0.8230978, 0.8249088, 0.82575685, 0.8270863, 0.8277489, 0.8285616, 0.82998824, 0.8307701, 0.8308275, 0.83127356, 0.83213043, 0.83302706, 0.8338707, 0.83418876, 0.8345553, 0.8353592, 0.8354873, 0.8357965, 0.8366799, 0.8371525, 0.83761185, 0.8373866, 0.83847314, 0.83883536, 0.8389281, 0.8396039, 0.83951116, 0.84001464, 0.84042984, 0.8408053, 0.8412293, 0.8418168, 0.84244394, 0.84197575, 0.8424528, 0.8427885, 0.84314185, 0.8433627, 0.8438927, 0.8442284, 0.84399873, 0.8446745], 'val_loss': [0.16145570417730692, 0.15553401058460406, 0.1504281522310165, 0.147976335584912, 0.1474589558809217, 0.14534510196211464, 0.14354041907897833, 0.14299304764797127, 0.14170313234984316, 0.14105726831529156, 0.13979940392888227, 0.13950897471661727, 0.13852123525777205, 0.1380093666611475, 0.13795097805021914, 0.1371876331383962, 0.13689875546830638, 0.13665613585009287, 0.13624134238514027, 0.13653828411263963, 0.1365672830728606, 0.13607885041367837, 0.13549664094316202, 0.13576382614457752, 0.13547264817101115, 0.13471789008011356, 0.13567440423728977, 0.13458969927565356, 0.1342621350811344, 0.13452777708658883, 0.13452015019914682, 0.13400804943178962, 0.1340203212347682, 0.13430055172924094, 0.13388849898960326, 0.1336361720916612, 0.13333335057435672, 0.13335675952932682, 0.1331707589364225, 0.13309258335995272, 0.13319633827931077, 0.13327803731815538, 0.13317650760148508, 0.13312005446029046, 0.13288215136037707, 0.13297432961470204, 0.13271532676895104, 0.13279750817184433, 0.1325226662888257, 0.13296618246846403, 0.13251262823878066, 0.13273937683676568, 0.1326663372504564, 0.13296603709835778, 0.13282326230568775, 0.13253544644515142], 'val_acc': [0.76586986, 0.7746153, 0.78680587, 0.7890673, 0.78578115, 0.79035705, 0.7983781, 0.80035686, 0.79793644, 0.7992615, 0.802265, 0.802848, 0.8040494, 0.80592215, 0.8080776, 0.8075299, 0.8098267, 0.8085546, 0.8100917, 0.8101094, 0.80719423, 0.8089963, 0.81196445, 0.8098444, 0.8118231, 0.8132895, 0.81332487, 0.81383723, 0.8145969, 0.81222945, 0.8131835, 0.81390786, 0.8137312, 0.81251216, 0.8145616, 0.8144026, 0.81507397, 0.8151976, 0.81593966, 0.81533897, 0.81592196, 0.8152859, 0.8156216, 0.81463224, 0.8152153, 0.81638134, 0.81609863, 0.8166993, 0.816028, 0.8147559, 0.81698203, 0.8166817, 0.81625766, 0.8161517, 0.81533897, 0.8172824]}\n"
          ],
          "name": "stdout"
        }
      ]
    },
    {
      "cell_type": "code",
      "metadata": {
        "id": "7lqahgzc2syH",
        "colab_type": "code",
        "outputId": "6fae79c7-783e-4be7-e89e-1c3381176e09",
        "colab": {
          "base_uri": "https://localhost:8080/",
          "height": 609
        }
      },
      "source": [
        "print(\"Training time finished.\\n{} epochs in {}\".format(2, datetime.timedelta(seconds=time()-training_start_time)))\n",
        "\n",
        "import matplotlib.pyplot as plt\n",
        "\n",
        "# Plot training & validation accuracy values\n",
        "plt.plot(hist.history['acc'])\n",
        "plt.plot(hist.history['val_acc'])\n",
        "plt.title('Model accuracy')\n",
        "plt.ylabel('Accuracy')\n",
        "plt.xlabel('Epoch')\n",
        "plt.legend(['Train', 'Test'], loc='upper left')\n",
        "plt.savefig(\"abc76.png\")\n",
        "plt.show()\n",
        "\n",
        "# Plot training & validation loss values\n",
        "plt.plot(hist.history['loss'])\n",
        "plt.plot(hist.history['val_loss'])\n",
        "plt.title('Model loss')\n",
        "plt.ylabel('Loss')\n",
        "plt.xlabel('Epoch')\n",
        "plt.legend(['Train', 'Test'], loc='upper left')\n",
        "plt.savefig(\"bc76.png\")\n",
        "plt.show()"
      ],
      "execution_count": 18,
      "outputs": [
        {
          "output_type": "stream",
          "text": [
            "Training time finished.\n",
            "2 epochs in 0:30:37.740247\n"
          ],
          "name": "stdout"
        },
        {
          "output_type": "display_data",
          "data": {
            "image/png": "[encoded data removed]",
            "text/plain": [
              "<Figure size 432x288 with 1 Axes>"
            ]
          },
          "metadata": {
            "tags": []
          }
        },
        {
          "output_type": "display_data",
          "data": {
            "image/png": "[encoded data removed]",
            "text/plain": [
              "<Figure size 432x288 with 1 Axes>"
            ]
          },
          "metadata": {
            "tags": []
          }
        }
      ]
    },
    {
      "cell_type": "code",
      "metadata": {
        "id": "IiBJzpPvc9vT",
        "colab_type": "code",
        "colab": {}
      },
      "source": [
        "!pip install pydrive"
      ],
      "execution_count": 0,
      "outputs": []
    },
    {
      "cell_type": "code",
      "metadata": {
        "id": "RZJLzbN2cZLU",
        "colab_type": "code",
        "colab": {}
      },
      "source": [
        "\n",
        "\n",
        "\n",
        "model.save('/content/drive/My Drive/DQD.h5')\n"
      ],
      "execution_count": 0,
      "outputs": []
    },
    {
      "cell_type": "code",
      "metadata": {
        "id": "F5MSuV07lYEM",
        "colab_type": "code",
        "colab": {
          "base_uri": "https://localhost:8080/",
          "height": 70
        },
        "outputId": "dfc76b55-3299-4afe-f764-bdb58172e71f"
      },
      "source": [
        "model.load_weights('/content/drive/My Drive/DQD.h5')\n",
        "score, acc = model.evaluate([x_validate['left'], x_validate['right']], y_validate, batch_size=64)\n",
        "print('Test score:', score)\n",
        "print('Test accuracy:', acc)"
      ],
      "execution_count": 21,
      "outputs": [
        {
          "output_type": "stream",
          "text": [
            "121287/121287 [==============================] - 8s 66us/sample - loss: 0.1326 - acc: 0.8164\n",
            "Test score: 0.13261363475199492\n",
            "Test accuracy: 0.81639415\n"
          ],
          "name": "stdout"
        }
      ]
    },
    {
      "cell_type": "code",
      "metadata": {
        "id": "pL1cPtI2lq7Y",
        "colab_type": "code",
        "colab": {}
      },
      "source": [
        ""
      ],
      "execution_count": 0,
      "outputs": []
    }
  ]
}